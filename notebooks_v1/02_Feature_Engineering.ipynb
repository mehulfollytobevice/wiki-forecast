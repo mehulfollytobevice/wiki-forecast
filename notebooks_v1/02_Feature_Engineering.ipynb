{
 "cells": [
  {
   "cell_type": "code",
   "execution_count": 1,
   "id": "2351131f-a6cb-4982-ac5f-f43143b43c3b",
   "metadata": {},
   "outputs": [],
   "source": [
    "%load_ext autoreload\n",
    "%autoreload 2"
   ]
  },
  {
   "cell_type": "code",
   "execution_count": 54,
   "id": "868451b4-1147-4425-8d18-652a96c57585",
   "metadata": {},
   "outputs": [],
   "source": [
    "import re\n",
    "import os\n",
    "import traceback\n",
    "from tqdm import tqdm"
   ]
  },
  {
   "cell_type": "code",
   "execution_count": 122,
   "id": "bad4c115-ebf1-408e-aeb8-397ade1e0775",
   "metadata": {},
   "outputs": [],
   "source": [
    "from config import START_DATE, END_DATE, META_DATA_FOLDER_PATH\n",
    "\n",
    "from data_utils import load_data, get_unique_articles, extract_main_domain, extract_page_components, get_article_domain_tuples\n",
    "\n",
    "from meta_data_utils import fetch_revision_data, aggregate_daily_data"
   ]
  },
  {
   "cell_type": "code",
   "execution_count": 120,
   "id": "fe3a41f1-dfee-4be7-b47a-20c21bd65026",
   "metadata": {},
   "outputs": [],
   "source": [
    "articles = get_unique_articles()"
   ]
  },
  {
   "cell_type": "code",
   "execution_count": 123,
   "id": "8b82f4b9-62cf-4676-9f3d-b2bc17bcf7c5",
   "metadata": {},
   "outputs": [
    {
     "data": {
      "text/plain": [
       "39802"
      ]
     },
     "execution_count": 123,
     "metadata": {},
     "output_type": "execute_result"
    }
   ],
   "source": [
    "len(get_article_domain_tuples())"
   ]
  },
  {
   "cell_type": "code",
   "execution_count": 64,
   "id": "6fef7a5f-34ba-4406-9890-2105dd196def",
   "metadata": {},
   "outputs": [
    {
     "data": {
      "text/plain": [
       "(datetime.datetime(2015, 1, 1, 0, 0), datetime.datetime(2023, 12, 31, 0, 0))"
      ]
     },
     "execution_count": 64,
     "metadata": {},
     "output_type": "execute_result"
    }
   ],
   "source": [
    "start_date, end_date"
   ]
  },
  {
   "cell_type": "code",
   "execution_count": 90,
   "id": "44029aa8-de9f-4c88-a519-63698c759833",
   "metadata": {},
   "outputs": [
    {
     "name": "stderr",
     "output_type": "stream",
     "text": [
      " 32%|█████████████████████████████████████████████████████████████████▌                                                                                                                                           | 12718/39802 [00:30<01:20, 336.53it/s]"
     ]
    },
    {
     "name": "stdout",
     "output_type": "stream",
     "text": [
      "Error processing article: Шеремет,_Павел_Григорьевич ru.wikipedia.org\n",
      "Traceback (most recent call last):\n",
      "  File \"/var/folders/1k/l9m7dlqd1knbl3m543_55s4h0000gn/T/ipykernel_14673/3224756989.py\", line 37, in <module>\n",
      "    daily_data = aggregate_daily_data(revisions)\n",
      "  File \"/Users/ajaykarthicksenthilkumar/dev/personal/wiki-forcast/ajay/meta_data_utils.py\", line 66, in aggregate_daily_data\n",
      "    daily_aggregation = df.groupby('date').agg(\n",
      "  File \"/Users/ajaykarthicksenthilkumar/miniconda/envs/web_traffic_forecast/lib/python3.9/site-packages/pandas/core/groupby/generic.py\", line 1432, in aggregate\n",
      "    result = op.agg()\n",
      "  File \"/Users/ajaykarthicksenthilkumar/miniconda/envs/web_traffic_forecast/lib/python3.9/site-packages/pandas/core/apply.py\", line 190, in agg\n",
      "    return self.agg_dict_like()\n",
      "  File \"/Users/ajaykarthicksenthilkumar/miniconda/envs/web_traffic_forecast/lib/python3.9/site-packages/pandas/core/apply.py\", line 423, in agg_dict_like\n",
      "    return self.agg_or_apply_dict_like(op_name=\"agg\")\n",
      "  File \"/Users/ajaykarthicksenthilkumar/miniconda/envs/web_traffic_forecast/lib/python3.9/site-packages/pandas/core/apply.py\", line 1608, in agg_or_apply_dict_like\n",
      "    result_index, result_data = self.compute_dict_like(\n",
      "  File \"/Users/ajaykarthicksenthilkumar/miniconda/envs/web_traffic_forecast/lib/python3.9/site-packages/pandas/core/apply.py\", line 462, in compute_dict_like\n",
      "    func = self.normalize_dictlike_arg(op_name, selected_obj, func)\n",
      "  File \"/Users/ajaykarthicksenthilkumar/miniconda/envs/web_traffic_forecast/lib/python3.9/site-packages/pandas/core/apply.py\", line 663, in normalize_dictlike_arg\n",
      "    raise KeyError(f\"Column(s) {list(cols)} do not exist\")\n",
      "KeyError: \"Column(s) ['userid'] do not exist\"\n",
      "\n"
     ]
    },
    {
     "name": "stderr",
     "output_type": "stream",
     "text": [
      " 32%|██████████████████████████████████████████████████████████████████▊                                                                                                                                           | 12905/39802 [00:33<05:00, 89.42it/s]"
     ]
    },
    {
     "name": "stdout",
     "output_type": "stream",
     "text": [
      "Error processing article: Путин,_Владимир_Владимирович ru.wikipedia.org\n",
      "Traceback (most recent call last):\n",
      "  File \"/var/folders/1k/l9m7dlqd1knbl3m543_55s4h0000gn/T/ipykernel_14673/3224756989.py\", line 37, in <module>\n",
      "    daily_data = aggregate_daily_data(revisions)\n",
      "  File \"/Users/ajaykarthicksenthilkumar/dev/personal/wiki-forcast/ajay/meta_data_utils.py\", line 66, in aggregate_daily_data\n",
      "    daily_aggregation = df.groupby('date').agg(\n",
      "  File \"/Users/ajaykarthicksenthilkumar/miniconda/envs/web_traffic_forecast/lib/python3.9/site-packages/pandas/core/groupby/generic.py\", line 1432, in aggregate\n",
      "    result = op.agg()\n",
      "  File \"/Users/ajaykarthicksenthilkumar/miniconda/envs/web_traffic_forecast/lib/python3.9/site-packages/pandas/core/apply.py\", line 190, in agg\n",
      "    return self.agg_dict_like()\n",
      "  File \"/Users/ajaykarthicksenthilkumar/miniconda/envs/web_traffic_forecast/lib/python3.9/site-packages/pandas/core/apply.py\", line 423, in agg_dict_like\n",
      "    return self.agg_or_apply_dict_like(op_name=\"agg\")\n",
      "  File \"/Users/ajaykarthicksenthilkumar/miniconda/envs/web_traffic_forecast/lib/python3.9/site-packages/pandas/core/apply.py\", line 1608, in agg_or_apply_dict_like\n",
      "    result_index, result_data = self.compute_dict_like(\n",
      "  File \"/Users/ajaykarthicksenthilkumar/miniconda/envs/web_traffic_forecast/lib/python3.9/site-packages/pandas/core/apply.py\", line 462, in compute_dict_like\n",
      "    func = self.normalize_dictlike_arg(op_name, selected_obj, func)\n",
      "  File \"/Users/ajaykarthicksenthilkumar/miniconda/envs/web_traffic_forecast/lib/python3.9/site-packages/pandas/core/apply.py\", line 663, in normalize_dictlike_arg\n",
      "    raise KeyError(f\"Column(s) {list(cols)} do not exist\")\n",
      "KeyError: \"Column(s) ['userid'] do not exist\"\n",
      "\n"
     ]
    },
    {
     "name": "stderr",
     "output_type": "stream",
     "text": [
      " 34%|█████████████████████████████████████████████████████████████████████▍                                                                                                                                       | 13489/39802 [00:34<01:16, 345.18it/s]"
     ]
    },
    {
     "name": "stdout",
     "output_type": "stream",
     "text": [
      "Error processing article: Шойгу,_Сергей_Кужугетович ru.wikipedia.org\n",
      "Traceback (most recent call last):\n",
      "  File \"/var/folders/1k/l9m7dlqd1knbl3m543_55s4h0000gn/T/ipykernel_14673/3224756989.py\", line 37, in <module>\n",
      "    daily_data = aggregate_daily_data(revisions)\n",
      "  File \"/Users/ajaykarthicksenthilkumar/dev/personal/wiki-forcast/ajay/meta_data_utils.py\", line 66, in aggregate_daily_data\n",
      "    daily_aggregation = df.groupby('date').agg(\n",
      "  File \"/Users/ajaykarthicksenthilkumar/miniconda/envs/web_traffic_forecast/lib/python3.9/site-packages/pandas/core/groupby/generic.py\", line 1432, in aggregate\n",
      "    result = op.agg()\n",
      "  File \"/Users/ajaykarthicksenthilkumar/miniconda/envs/web_traffic_forecast/lib/python3.9/site-packages/pandas/core/apply.py\", line 190, in agg\n",
      "    return self.agg_dict_like()\n",
      "  File \"/Users/ajaykarthicksenthilkumar/miniconda/envs/web_traffic_forecast/lib/python3.9/site-packages/pandas/core/apply.py\", line 423, in agg_dict_like\n",
      "    return self.agg_or_apply_dict_like(op_name=\"agg\")\n",
      "  File \"/Users/ajaykarthicksenthilkumar/miniconda/envs/web_traffic_forecast/lib/python3.9/site-packages/pandas/core/apply.py\", line 1608, in agg_or_apply_dict_like\n",
      "    result_index, result_data = self.compute_dict_like(\n",
      "  File \"/Users/ajaykarthicksenthilkumar/miniconda/envs/web_traffic_forecast/lib/python3.9/site-packages/pandas/core/apply.py\", line 462, in compute_dict_like\n",
      "    func = self.normalize_dictlike_arg(op_name, selected_obj, func)\n",
      "  File \"/Users/ajaykarthicksenthilkumar/miniconda/envs/web_traffic_forecast/lib/python3.9/site-packages/pandas/core/apply.py\", line 663, in normalize_dictlike_arg\n",
      "    raise KeyError(f\"Column(s) {list(cols)} do not exist\")\n",
      "KeyError: \"Column(s) ['userid'] do not exist\"\n",
      "\n"
     ]
    },
    {
     "name": "stderr",
     "output_type": "stream",
     "text": [
      " 34%|██████████████████████████████████████████████████████████████████████                                                                                                                                       | 13615/39802 [00:35<01:23, 313.63it/s]"
     ]
    },
    {
     "name": "stdout",
     "output_type": "stream",
     "text": [
      "Error processing article: Шувалов,_Игорь_Иванович ru.wikipedia.org\n",
      "Traceback (most recent call last):\n",
      "  File \"/var/folders/1k/l9m7dlqd1knbl3m543_55s4h0000gn/T/ipykernel_14673/3224756989.py\", line 37, in <module>\n",
      "    daily_data = aggregate_daily_data(revisions)\n",
      "  File \"/Users/ajaykarthicksenthilkumar/dev/personal/wiki-forcast/ajay/meta_data_utils.py\", line 66, in aggregate_daily_data\n",
      "    daily_aggregation = df.groupby('date').agg(\n",
      "  File \"/Users/ajaykarthicksenthilkumar/miniconda/envs/web_traffic_forecast/lib/python3.9/site-packages/pandas/core/groupby/generic.py\", line 1432, in aggregate\n",
      "    result = op.agg()\n",
      "  File \"/Users/ajaykarthicksenthilkumar/miniconda/envs/web_traffic_forecast/lib/python3.9/site-packages/pandas/core/apply.py\", line 190, in agg\n",
      "    return self.agg_dict_like()\n",
      "  File \"/Users/ajaykarthicksenthilkumar/miniconda/envs/web_traffic_forecast/lib/python3.9/site-packages/pandas/core/apply.py\", line 423, in agg_dict_like\n",
      "    return self.agg_or_apply_dict_like(op_name=\"agg\")\n",
      "  File \"/Users/ajaykarthicksenthilkumar/miniconda/envs/web_traffic_forecast/lib/python3.9/site-packages/pandas/core/apply.py\", line 1608, in agg_or_apply_dict_like\n",
      "    result_index, result_data = self.compute_dict_like(\n",
      "  File \"/Users/ajaykarthicksenthilkumar/miniconda/envs/web_traffic_forecast/lib/python3.9/site-packages/pandas/core/apply.py\", line 462, in compute_dict_like\n",
      "    func = self.normalize_dictlike_arg(op_name, selected_obj, func)\n",
      "  File \"/Users/ajaykarthicksenthilkumar/miniconda/envs/web_traffic_forecast/lib/python3.9/site-packages/pandas/core/apply.py\", line 663, in normalize_dictlike_arg\n",
      "    raise KeyError(f\"Column(s) {list(cols)} do not exist\")\n",
      "KeyError: \"Column(s) ['userid'] do not exist\"\n",
      "\n"
     ]
    },
    {
     "name": "stderr",
     "output_type": "stream",
     "text": [
      " 35%|██████████████████████████████████████████████████████████████████████▉                                                                                                                                      | 13784/39802 [00:35<01:19, 326.01it/s]"
     ]
    },
    {
     "name": "stdout",
     "output_type": "stream",
     "text": [
      "Error processing article: С-300 ru.wikipedia.org\n",
      "Traceback (most recent call last):\n",
      "  File \"/var/folders/1k/l9m7dlqd1knbl3m543_55s4h0000gn/T/ipykernel_14673/3224756989.py\", line 37, in <module>\n",
      "    daily_data = aggregate_daily_data(revisions)\n",
      "  File \"/Users/ajaykarthicksenthilkumar/dev/personal/wiki-forcast/ajay/meta_data_utils.py\", line 66, in aggregate_daily_data\n",
      "    daily_aggregation = df.groupby('date').agg(\n",
      "  File \"/Users/ajaykarthicksenthilkumar/miniconda/envs/web_traffic_forecast/lib/python3.9/site-packages/pandas/core/groupby/generic.py\", line 1432, in aggregate\n",
      "    result = op.agg()\n",
      "  File \"/Users/ajaykarthicksenthilkumar/miniconda/envs/web_traffic_forecast/lib/python3.9/site-packages/pandas/core/apply.py\", line 190, in agg\n",
      "    return self.agg_dict_like()\n",
      "  File \"/Users/ajaykarthicksenthilkumar/miniconda/envs/web_traffic_forecast/lib/python3.9/site-packages/pandas/core/apply.py\", line 423, in agg_dict_like\n",
      "    return self.agg_or_apply_dict_like(op_name=\"agg\")\n",
      "  File \"/Users/ajaykarthicksenthilkumar/miniconda/envs/web_traffic_forecast/lib/python3.9/site-packages/pandas/core/apply.py\", line 1608, in agg_or_apply_dict_like\n",
      "    result_index, result_data = self.compute_dict_like(\n",
      "  File \"/Users/ajaykarthicksenthilkumar/miniconda/envs/web_traffic_forecast/lib/python3.9/site-packages/pandas/core/apply.py\", line 462, in compute_dict_like\n",
      "    func = self.normalize_dictlike_arg(op_name, selected_obj, func)\n",
      "  File \"/Users/ajaykarthicksenthilkumar/miniconda/envs/web_traffic_forecast/lib/python3.9/site-packages/pandas/core/apply.py\", line 663, in normalize_dictlike_arg\n",
      "    raise KeyError(f\"Column(s) {list(cols)} do not exist\")\n",
      "KeyError: \"Column(s) ['userid'] do not exist\"\n",
      "\n"
     ]
    },
    {
     "name": "stderr",
     "output_type": "stream",
     "text": [
      " 35%|███████████████████████████████████████████████████████████████████████▊                                                                                                                                     | 13947/39802 [00:36<01:27, 294.28it/s]"
     ]
    },
    {
     "name": "stdout",
     "output_type": "stream",
     "text": [
      "Error processing article: Кадыров,_Рамзан_Ахматович ru.wikipedia.org\n",
      "Traceback (most recent call last):\n",
      "  File \"/var/folders/1k/l9m7dlqd1knbl3m543_55s4h0000gn/T/ipykernel_14673/3224756989.py\", line 37, in <module>\n",
      "    daily_data = aggregate_daily_data(revisions)\n",
      "  File \"/Users/ajaykarthicksenthilkumar/dev/personal/wiki-forcast/ajay/meta_data_utils.py\", line 66, in aggregate_daily_data\n",
      "    daily_aggregation = df.groupby('date').agg(\n",
      "  File \"/Users/ajaykarthicksenthilkumar/miniconda/envs/web_traffic_forecast/lib/python3.9/site-packages/pandas/core/groupby/generic.py\", line 1432, in aggregate\n",
      "    result = op.agg()\n",
      "  File \"/Users/ajaykarthicksenthilkumar/miniconda/envs/web_traffic_forecast/lib/python3.9/site-packages/pandas/core/apply.py\", line 190, in agg\n",
      "    return self.agg_dict_like()\n",
      "  File \"/Users/ajaykarthicksenthilkumar/miniconda/envs/web_traffic_forecast/lib/python3.9/site-packages/pandas/core/apply.py\", line 423, in agg_dict_like\n",
      "    return self.agg_or_apply_dict_like(op_name=\"agg\")\n",
      "  File \"/Users/ajaykarthicksenthilkumar/miniconda/envs/web_traffic_forecast/lib/python3.9/site-packages/pandas/core/apply.py\", line 1608, in agg_or_apply_dict_like\n",
      "    result_index, result_data = self.compute_dict_like(\n",
      "  File \"/Users/ajaykarthicksenthilkumar/miniconda/envs/web_traffic_forecast/lib/python3.9/site-packages/pandas/core/apply.py\", line 462, in compute_dict_like\n",
      "    func = self.normalize_dictlike_arg(op_name, selected_obj, func)\n",
      "  File \"/Users/ajaykarthicksenthilkumar/miniconda/envs/web_traffic_forecast/lib/python3.9/site-packages/pandas/core/apply.py\", line 663, in normalize_dictlike_arg\n",
      "    raise KeyError(f\"Column(s) {list(cols)} do not exist\")\n",
      "KeyError: \"Column(s) ['userid'] do not exist\"\n",
      "\n"
     ]
    },
    {
     "name": "stderr",
     "output_type": "stream",
     "text": [
      " 35%|████████████████████████████████████████████████████████████████████████                                                                                                                                     | 13987/39802 [00:37<03:05, 139.16it/s]"
     ]
    },
    {
     "name": "stdout",
     "output_type": "stream",
     "text": [
      "Error processing article: Донецкая_Народная_Республика ru.wikipedia.org\n",
      "Traceback (most recent call last):\n",
      "  File \"/var/folders/1k/l9m7dlqd1knbl3m543_55s4h0000gn/T/ipykernel_14673/3224756989.py\", line 37, in <module>\n",
      "    daily_data = aggregate_daily_data(revisions)\n",
      "  File \"/Users/ajaykarthicksenthilkumar/dev/personal/wiki-forcast/ajay/meta_data_utils.py\", line 66, in aggregate_daily_data\n",
      "    daily_aggregation = df.groupby('date').agg(\n",
      "  File \"/Users/ajaykarthicksenthilkumar/miniconda/envs/web_traffic_forecast/lib/python3.9/site-packages/pandas/core/groupby/generic.py\", line 1432, in aggregate\n",
      "    result = op.agg()\n",
      "  File \"/Users/ajaykarthicksenthilkumar/miniconda/envs/web_traffic_forecast/lib/python3.9/site-packages/pandas/core/apply.py\", line 190, in agg\n",
      "    return self.agg_dict_like()\n",
      "  File \"/Users/ajaykarthicksenthilkumar/miniconda/envs/web_traffic_forecast/lib/python3.9/site-packages/pandas/core/apply.py\", line 423, in agg_dict_like\n",
      "    return self.agg_or_apply_dict_like(op_name=\"agg\")\n",
      "  File \"/Users/ajaykarthicksenthilkumar/miniconda/envs/web_traffic_forecast/lib/python3.9/site-packages/pandas/core/apply.py\", line 1608, in agg_or_apply_dict_like\n",
      "    result_index, result_data = self.compute_dict_like(\n",
      "  File \"/Users/ajaykarthicksenthilkumar/miniconda/envs/web_traffic_forecast/lib/python3.9/site-packages/pandas/core/apply.py\", line 462, in compute_dict_like\n",
      "    func = self.normalize_dictlike_arg(op_name, selected_obj, func)\n",
      "  File \"/Users/ajaykarthicksenthilkumar/miniconda/envs/web_traffic_forecast/lib/python3.9/site-packages/pandas/core/apply.py\", line 663, in normalize_dictlike_arg\n",
      "    raise KeyError(f\"Column(s) {list(cols)} do not exist\")\n",
      "KeyError: \"Column(s) ['userid'] do not exist\"\n",
      "\n"
     ]
    },
    {
     "name": "stderr",
     "output_type": "stream",
     "text": [
      " 35%|████████████████████████████████████████████████████████████████████████▊                                                                                                                                     | 14072/39802 [00:41<09:21, 45.80it/s]"
     ]
    },
    {
     "name": "stdout",
     "output_type": "stream",
     "text": [
      "Error processing article: Россия ru.wikipedia.org\n",
      "Traceback (most recent call last):\n",
      "  File \"/var/folders/1k/l9m7dlqd1knbl3m543_55s4h0000gn/T/ipykernel_14673/3224756989.py\", line 37, in <module>\n",
      "    daily_data = aggregate_daily_data(revisions)\n",
      "  File \"/Users/ajaykarthicksenthilkumar/dev/personal/wiki-forcast/ajay/meta_data_utils.py\", line 66, in aggregate_daily_data\n",
      "    daily_aggregation = df.groupby('date').agg(\n",
      "  File \"/Users/ajaykarthicksenthilkumar/miniconda/envs/web_traffic_forecast/lib/python3.9/site-packages/pandas/core/groupby/generic.py\", line 1432, in aggregate\n",
      "    result = op.agg()\n",
      "  File \"/Users/ajaykarthicksenthilkumar/miniconda/envs/web_traffic_forecast/lib/python3.9/site-packages/pandas/core/apply.py\", line 190, in agg\n",
      "    return self.agg_dict_like()\n",
      "  File \"/Users/ajaykarthicksenthilkumar/miniconda/envs/web_traffic_forecast/lib/python3.9/site-packages/pandas/core/apply.py\", line 423, in agg_dict_like\n",
      "    return self.agg_or_apply_dict_like(op_name=\"agg\")\n",
      "  File \"/Users/ajaykarthicksenthilkumar/miniconda/envs/web_traffic_forecast/lib/python3.9/site-packages/pandas/core/apply.py\", line 1608, in agg_or_apply_dict_like\n",
      "    result_index, result_data = self.compute_dict_like(\n",
      "  File \"/Users/ajaykarthicksenthilkumar/miniconda/envs/web_traffic_forecast/lib/python3.9/site-packages/pandas/core/apply.py\", line 462, in compute_dict_like\n",
      "    func = self.normalize_dictlike_arg(op_name, selected_obj, func)\n",
      "  File \"/Users/ajaykarthicksenthilkumar/miniconda/envs/web_traffic_forecast/lib/python3.9/site-packages/pandas/core/apply.py\", line 663, in normalize_dictlike_arg\n",
      "    raise KeyError(f\"Column(s) {list(cols)} do not exist\")\n",
      "KeyError: \"Column(s) ['userid'] do not exist\"\n",
      "\n"
     ]
    },
    {
     "name": "stderr",
     "output_type": "stream",
     "text": [
      " 36%|██████████████████████████████████████████████████████████████████████████▎                                                                                                                                  | 14433/39802 [00:42<02:28, 171.27it/s]"
     ]
    },
    {
     "name": "stdout",
     "output_type": "stream",
     "text": [
      "Error processing article: Гуцериев,_Михаил_Сафарбекович ru.wikipedia.org\n",
      "Traceback (most recent call last):\n",
      "  File \"/var/folders/1k/l9m7dlqd1knbl3m543_55s4h0000gn/T/ipykernel_14673/3224756989.py\", line 37, in <module>\n",
      "    daily_data = aggregate_daily_data(revisions)\n",
      "  File \"/Users/ajaykarthicksenthilkumar/dev/personal/wiki-forcast/ajay/meta_data_utils.py\", line 66, in aggregate_daily_data\n",
      "    daily_aggregation = df.groupby('date').agg(\n",
      "  File \"/Users/ajaykarthicksenthilkumar/miniconda/envs/web_traffic_forecast/lib/python3.9/site-packages/pandas/core/groupby/generic.py\", line 1432, in aggregate\n",
      "    result = op.agg()\n",
      "  File \"/Users/ajaykarthicksenthilkumar/miniconda/envs/web_traffic_forecast/lib/python3.9/site-packages/pandas/core/apply.py\", line 190, in agg\n",
      "    return self.agg_dict_like()\n",
      "  File \"/Users/ajaykarthicksenthilkumar/miniconda/envs/web_traffic_forecast/lib/python3.9/site-packages/pandas/core/apply.py\", line 423, in agg_dict_like\n",
      "    return self.agg_or_apply_dict_like(op_name=\"agg\")\n",
      "  File \"/Users/ajaykarthicksenthilkumar/miniconda/envs/web_traffic_forecast/lib/python3.9/site-packages/pandas/core/apply.py\", line 1608, in agg_or_apply_dict_like\n",
      "    result_index, result_data = self.compute_dict_like(\n",
      "  File \"/Users/ajaykarthicksenthilkumar/miniconda/envs/web_traffic_forecast/lib/python3.9/site-packages/pandas/core/apply.py\", line 462, in compute_dict_like\n",
      "    func = self.normalize_dictlike_arg(op_name, selected_obj, func)\n",
      "  File \"/Users/ajaykarthicksenthilkumar/miniconda/envs/web_traffic_forecast/lib/python3.9/site-packages/pandas/core/apply.py\", line 663, in normalize_dictlike_arg\n",
      "    raise KeyError(f\"Column(s) {list(cols)} do not exist\")\n",
      "KeyError: \"Column(s) ['userid'] do not exist\"\n",
      "\n"
     ]
    },
    {
     "name": "stderr",
     "output_type": "stream",
     "text": [
      " 38%|█████████████████████████████████████████████████████████████████████████████▍                                                                                                                               | 15040/39802 [00:44<01:34, 262.29it/s]"
     ]
    },
    {
     "name": "stdout",
     "output_type": "stream",
     "text": [
      "Error processing article: Захарченко,_Александр_Владимирович ru.wikipedia.org\n",
      "Traceback (most recent call last):\n",
      "  File \"/var/folders/1k/l9m7dlqd1knbl3m543_55s4h0000gn/T/ipykernel_14673/3224756989.py\", line 37, in <module>\n",
      "    daily_data = aggregate_daily_data(revisions)\n",
      "  File \"/Users/ajaykarthicksenthilkumar/dev/personal/wiki-forcast/ajay/meta_data_utils.py\", line 66, in aggregate_daily_data\n",
      "    daily_aggregation = df.groupby('date').agg(\n",
      "  File \"/Users/ajaykarthicksenthilkumar/miniconda/envs/web_traffic_forecast/lib/python3.9/site-packages/pandas/core/groupby/generic.py\", line 1432, in aggregate\n",
      "    result = op.agg()\n",
      "  File \"/Users/ajaykarthicksenthilkumar/miniconda/envs/web_traffic_forecast/lib/python3.9/site-packages/pandas/core/apply.py\", line 190, in agg\n",
      "    return self.agg_dict_like()\n",
      "  File \"/Users/ajaykarthicksenthilkumar/miniconda/envs/web_traffic_forecast/lib/python3.9/site-packages/pandas/core/apply.py\", line 423, in agg_dict_like\n",
      "    return self.agg_or_apply_dict_like(op_name=\"agg\")\n",
      "  File \"/Users/ajaykarthicksenthilkumar/miniconda/envs/web_traffic_forecast/lib/python3.9/site-packages/pandas/core/apply.py\", line 1608, in agg_or_apply_dict_like\n",
      "    result_index, result_data = self.compute_dict_like(\n",
      "  File \"/Users/ajaykarthicksenthilkumar/miniconda/envs/web_traffic_forecast/lib/python3.9/site-packages/pandas/core/apply.py\", line 462, in compute_dict_like\n",
      "    func = self.normalize_dictlike_arg(op_name, selected_obj, func)\n",
      "  File \"/Users/ajaykarthicksenthilkumar/miniconda/envs/web_traffic_forecast/lib/python3.9/site-packages/pandas/core/apply.py\", line 663, in normalize_dictlike_arg\n",
      "    raise KeyError(f\"Column(s) {list(cols)} do not exist\")\n",
      "KeyError: \"Column(s) ['userid'] do not exist\"\n",
      "\n"
     ]
    },
    {
     "name": "stderr",
     "output_type": "stream",
     "text": [
      " 38%|█████████████████████████████████████████████████████████████████████████████▊                                                                                                                               | 15102/39802 [00:45<02:47, 147.57it/s]"
     ]
    },
    {
     "name": "stdout",
     "output_type": "stream",
     "text": [
      "Error processing article: Зеленский,_Владимир_Александрович ru.wikipedia.org\n",
      "Traceback (most recent call last):\n",
      "  File \"/var/folders/1k/l9m7dlqd1knbl3m543_55s4h0000gn/T/ipykernel_14673/3224756989.py\", line 37, in <module>\n",
      "    daily_data = aggregate_daily_data(revisions)\n",
      "  File \"/Users/ajaykarthicksenthilkumar/dev/personal/wiki-forcast/ajay/meta_data_utils.py\", line 66, in aggregate_daily_data\n",
      "    daily_aggregation = df.groupby('date').agg(\n",
      "  File \"/Users/ajaykarthicksenthilkumar/miniconda/envs/web_traffic_forecast/lib/python3.9/site-packages/pandas/core/groupby/generic.py\", line 1432, in aggregate\n",
      "    result = op.agg()\n",
      "  File \"/Users/ajaykarthicksenthilkumar/miniconda/envs/web_traffic_forecast/lib/python3.9/site-packages/pandas/core/apply.py\", line 190, in agg\n",
      "    return self.agg_dict_like()\n",
      "  File \"/Users/ajaykarthicksenthilkumar/miniconda/envs/web_traffic_forecast/lib/python3.9/site-packages/pandas/core/apply.py\", line 423, in agg_dict_like\n",
      "    return self.agg_or_apply_dict_like(op_name=\"agg\")\n",
      "  File \"/Users/ajaykarthicksenthilkumar/miniconda/envs/web_traffic_forecast/lib/python3.9/site-packages/pandas/core/apply.py\", line 1608, in agg_or_apply_dict_like\n",
      "    result_index, result_data = self.compute_dict_like(\n",
      "  File \"/Users/ajaykarthicksenthilkumar/miniconda/envs/web_traffic_forecast/lib/python3.9/site-packages/pandas/core/apply.py\", line 462, in compute_dict_like\n",
      "    func = self.normalize_dictlike_arg(op_name, selected_obj, func)\n",
      "  File \"/Users/ajaykarthicksenthilkumar/miniconda/envs/web_traffic_forecast/lib/python3.9/site-packages/pandas/core/apply.py\", line 663, in normalize_dictlike_arg\n",
      "    raise KeyError(f\"Column(s) {list(cols)} do not exist\")\n",
      "KeyError: \"Column(s) ['userid'] do not exist\"\n",
      "\n"
     ]
    },
    {
     "name": "stderr",
     "output_type": "stream",
     "text": [
      " 38%|██████████████████████████████████████████████████████████████████████████████                                                                                                                               | 15147/39802 [00:46<03:20, 123.06it/s]"
     ]
    },
    {
     "name": "stdout",
     "output_type": "stream",
     "text": [
      "Error processing article: Медведев,_Дмитрий_Анатольевич ru.wikipedia.org\n",
      "Traceback (most recent call last):\n",
      "  File \"/var/folders/1k/l9m7dlqd1knbl3m543_55s4h0000gn/T/ipykernel_14673/3224756989.py\", line 37, in <module>\n",
      "    daily_data = aggregate_daily_data(revisions)\n",
      "  File \"/Users/ajaykarthicksenthilkumar/dev/personal/wiki-forcast/ajay/meta_data_utils.py\", line 66, in aggregate_daily_data\n",
      "    daily_aggregation = df.groupby('date').agg(\n",
      "  File \"/Users/ajaykarthicksenthilkumar/miniconda/envs/web_traffic_forecast/lib/python3.9/site-packages/pandas/core/groupby/generic.py\", line 1432, in aggregate\n",
      "    result = op.agg()\n",
      "  File \"/Users/ajaykarthicksenthilkumar/miniconda/envs/web_traffic_forecast/lib/python3.9/site-packages/pandas/core/apply.py\", line 190, in agg\n",
      "    return self.agg_dict_like()\n",
      "  File \"/Users/ajaykarthicksenthilkumar/miniconda/envs/web_traffic_forecast/lib/python3.9/site-packages/pandas/core/apply.py\", line 423, in agg_dict_like\n",
      "    return self.agg_or_apply_dict_like(op_name=\"agg\")\n",
      "  File \"/Users/ajaykarthicksenthilkumar/miniconda/envs/web_traffic_forecast/lib/python3.9/site-packages/pandas/core/apply.py\", line 1608, in agg_or_apply_dict_like\n",
      "    result_index, result_data = self.compute_dict_like(\n",
      "  File \"/Users/ajaykarthicksenthilkumar/miniconda/envs/web_traffic_forecast/lib/python3.9/site-packages/pandas/core/apply.py\", line 462, in compute_dict_like\n",
      "    func = self.normalize_dictlike_arg(op_name, selected_obj, func)\n",
      "  File \"/Users/ajaykarthicksenthilkumar/miniconda/envs/web_traffic_forecast/lib/python3.9/site-packages/pandas/core/apply.py\", line 663, in normalize_dictlike_arg\n",
      "    raise KeyError(f\"Column(s) {list(cols)} do not exist\")\n",
      "KeyError: \"Column(s) ['userid'] do not exist\"\n",
      "\n"
     ]
    },
    {
     "name": "stderr",
     "output_type": "stream",
     "text": [
      " 39%|████████████████████████████████████████████████████████████████████████████████▋                                                                                                                            | 15665/39802 [00:47<01:28, 273.59it/s]"
     ]
    },
    {
     "name": "stdout",
     "output_type": "stream",
     "text": [
      "Error processing article: Лукашенко,_Александр_Григорьевич ru.wikipedia.org\n",
      "Traceback (most recent call last):\n",
      "  File \"/var/folders/1k/l9m7dlqd1knbl3m543_55s4h0000gn/T/ipykernel_14673/3224756989.py\", line 37, in <module>\n",
      "    daily_data = aggregate_daily_data(revisions)\n",
      "  File \"/Users/ajaykarthicksenthilkumar/dev/personal/wiki-forcast/ajay/meta_data_utils.py\", line 66, in aggregate_daily_data\n",
      "    daily_aggregation = df.groupby('date').agg(\n",
      "  File \"/Users/ajaykarthicksenthilkumar/miniconda/envs/web_traffic_forecast/lib/python3.9/site-packages/pandas/core/groupby/generic.py\", line 1432, in aggregate\n",
      "    result = op.agg()\n",
      "  File \"/Users/ajaykarthicksenthilkumar/miniconda/envs/web_traffic_forecast/lib/python3.9/site-packages/pandas/core/apply.py\", line 190, in agg\n",
      "    return self.agg_dict_like()\n",
      "  File \"/Users/ajaykarthicksenthilkumar/miniconda/envs/web_traffic_forecast/lib/python3.9/site-packages/pandas/core/apply.py\", line 423, in agg_dict_like\n",
      "    return self.agg_or_apply_dict_like(op_name=\"agg\")\n",
      "  File \"/Users/ajaykarthicksenthilkumar/miniconda/envs/web_traffic_forecast/lib/python3.9/site-packages/pandas/core/apply.py\", line 1608, in agg_or_apply_dict_like\n",
      "    result_index, result_data = self.compute_dict_like(\n",
      "  File \"/Users/ajaykarthicksenthilkumar/miniconda/envs/web_traffic_forecast/lib/python3.9/site-packages/pandas/core/apply.py\", line 462, in compute_dict_like\n",
      "    func = self.normalize_dictlike_arg(op_name, selected_obj, func)\n",
      "  File \"/Users/ajaykarthicksenthilkumar/miniconda/envs/web_traffic_forecast/lib/python3.9/site-packages/pandas/core/apply.py\", line 663, in normalize_dictlike_arg\n",
      "    raise KeyError(f\"Column(s) {list(cols)} do not exist\")\n",
      "KeyError: \"Column(s) ['userid'] do not exist\"\n",
      "\n"
     ]
    },
    {
     "name": "stderr",
     "output_type": "stream",
     "text": [
      " 74%|██████████████████████████████████████████████████████████████████████████████████████████████████████████████████████████████████████████████████████▉                                                     | 29440/39802 [09:29<1:53:02,  1.53it/s]/Users/ajaykarthicksenthilkumar/dev/personal/wiki-forcast/ajay/meta_data_utils.py:51: UserWarning: Could not infer format, so each element will be parsed individually, falling back to `dateutil`. To ensure parsing is consistent and as-expected, please specify a format.\n",
      "  df['timestamp'] = pd.to_datetime(df['timestamp'])\n",
      " 75%|██████████████████████████████████████████████████████████████████████████████████████████████████████████████████████████████████████████████████████████                                                    | 29767/39802 [12:51<58:57,  2.84it/s]/Users/ajaykarthicksenthilkumar/dev/personal/wiki-forcast/ajay/meta_data_utils.py:51: UserWarning: Could not infer format, so each element will be parsed individually, falling back to `dateutil`. To ensure parsing is consistent and as-expected, please specify a format.\n",
      "  df['timestamp'] = pd.to_datetime(df['timestamp'])\n",
      " 77%|████████████████████████████████████████████████████████████████████████████████████████████████████████████████████████████████████████████████████████████                                                | 30449/39802 [19:51<1:36:16,  1.62it/s]/Users/ajaykarthicksenthilkumar/dev/personal/wiki-forcast/ajay/meta_data_utils.py:51: UserWarning: Could not infer format, so each element will be parsed individually, falling back to `dateutil`. To ensure parsing is consistent and as-expected, please specify a format.\n",
      "  df['timestamp'] = pd.to_datetime(df['timestamp'])\n",
      " 79%|████████████████████████████████████████████████████████████████████████████████████████████████████████████████████████████████████████████████████████████████▍                                           | 31300/39802 [28:33<2:01:47,  1.16it/s]/Users/ajaykarthicksenthilkumar/dev/personal/wiki-forcast/ajay/meta_data_utils.py:51: UserWarning: Could not infer format, so each element will be parsed individually, falling back to `dateutil`. To ensure parsing is consistent and as-expected, please specify a format.\n",
      "  df['timestamp'] = pd.to_datetime(df['timestamp'])\n",
      " 87%|███████████████████████████████████████████████████████████████████████████████████████████████████████████████████████████████████████████████████████████████████████████████████▋                          | 34719/39802 [47:10<16:24,  5.16it/s]/Users/ajaykarthicksenthilkumar/dev/personal/wiki-forcast/ajay/meta_data_utils.py:51: UserWarning: Could not infer format, so each element will be parsed individually, falling back to `dateutil`. To ensure parsing is consistent and as-expected, please specify a format.\n",
      "  df['timestamp'] = pd.to_datetime(df['timestamp'])\n",
      " 88%|█████████████████████████████████████████████████████████████████████████████████████████████████████████████████████████████████████████████████████████████████████████████████████▍                        | 35051/39802 [49:17<31:48,  2.49it/s]/Users/ajaykarthicksenthilkumar/dev/personal/wiki-forcast/ajay/meta_data_utils.py:51: UserWarning: Could not infer format, so each element will be parsed individually, falling back to `dateutil`. To ensure parsing is consistent and as-expected, please specify a format.\n",
      "  df['timestamp'] = pd.to_datetime(df['timestamp'])\n",
      " 89%|███████████████████████████████████████████████████████████████████████████████████████████████████████████████████████████████████████████████████████████████████████████████████████▎                      | 35425/39802 [51:52<28:49,  2.53it/s]/Users/ajaykarthicksenthilkumar/dev/personal/wiki-forcast/ajay/meta_data_utils.py:51: UserWarning: Could not infer format, so each element will be parsed individually, falling back to `dateutil`. To ensure parsing is consistent and as-expected, please specify a format.\n",
      "  df['timestamp'] = pd.to_datetime(df['timestamp'])\n",
      " 91%|███████████████████████████████████████████████████████████████████████████████████████████████████████████████████████████████████████████████████████████████████████████████████████████▏                  | 36158/39802 [56:22<27:04,  2.24it/s]"
     ]
    },
    {
     "name": "stdout",
     "output_type": "stream",
     "text": [
      "Error processing article: Стрелков,_Игорь_Иванович ru.wikipedia.org\n",
      "Traceback (most recent call last):\n",
      "  File \"/var/folders/1k/l9m7dlqd1knbl3m543_55s4h0000gn/T/ipykernel_14673/3224756989.py\", line 37, in <module>\n",
      "    daily_data = aggregate_daily_data(revisions)\n",
      "  File \"/Users/ajaykarthicksenthilkumar/dev/personal/wiki-forcast/ajay/meta_data_utils.py\", line 66, in aggregate_daily_data\n",
      "    daily_aggregation = df.groupby('date').agg(\n",
      "  File \"/Users/ajaykarthicksenthilkumar/miniconda/envs/web_traffic_forecast/lib/python3.9/site-packages/pandas/core/groupby/generic.py\", line 1432, in aggregate\n",
      "    result = op.agg()\n",
      "  File \"/Users/ajaykarthicksenthilkumar/miniconda/envs/web_traffic_forecast/lib/python3.9/site-packages/pandas/core/apply.py\", line 190, in agg\n",
      "    return self.agg_dict_like()\n",
      "  File \"/Users/ajaykarthicksenthilkumar/miniconda/envs/web_traffic_forecast/lib/python3.9/site-packages/pandas/core/apply.py\", line 423, in agg_dict_like\n",
      "    return self.agg_or_apply_dict_like(op_name=\"agg\")\n",
      "  File \"/Users/ajaykarthicksenthilkumar/miniconda/envs/web_traffic_forecast/lib/python3.9/site-packages/pandas/core/apply.py\", line 1608, in agg_or_apply_dict_like\n",
      "    result_index, result_data = self.compute_dict_like(\n",
      "  File \"/Users/ajaykarthicksenthilkumar/miniconda/envs/web_traffic_forecast/lib/python3.9/site-packages/pandas/core/apply.py\", line 462, in compute_dict_like\n",
      "    func = self.normalize_dictlike_arg(op_name, selected_obj, func)\n",
      "  File \"/Users/ajaykarthicksenthilkumar/miniconda/envs/web_traffic_forecast/lib/python3.9/site-packages/pandas/core/apply.py\", line 663, in normalize_dictlike_arg\n",
      "    raise KeyError(f\"Column(s) {list(cols)} do not exist\")\n",
      "KeyError: \"Column(s) ['userid'] do not exist\"\n",
      "\n"
     ]
    },
    {
     "name": "stderr",
     "output_type": "stream",
     "text": [
      " 91%|███████████████████████████████████████████████████████████████████████████████████████████████████████████████████████████████████████████████████████████████████████████████████████████▉                  | 36307/39802 [56:59<22:37,  2.57it/s]"
     ]
    },
    {
     "name": "stdout",
     "output_type": "stream",
     "text": [
      "Error processing article: Луганская_Народная_Республика ru.wikipedia.org\n",
      "Traceback (most recent call last):\n",
      "  File \"/var/folders/1k/l9m7dlqd1knbl3m543_55s4h0000gn/T/ipykernel_14673/3224756989.py\", line 37, in <module>\n",
      "    daily_data = aggregate_daily_data(revisions)\n",
      "  File \"/Users/ajaykarthicksenthilkumar/dev/personal/wiki-forcast/ajay/meta_data_utils.py\", line 66, in aggregate_daily_data\n",
      "    daily_aggregation = df.groupby('date').agg(\n",
      "  File \"/Users/ajaykarthicksenthilkumar/miniconda/envs/web_traffic_forecast/lib/python3.9/site-packages/pandas/core/groupby/generic.py\", line 1432, in aggregate\n",
      "    result = op.agg()\n",
      "  File \"/Users/ajaykarthicksenthilkumar/miniconda/envs/web_traffic_forecast/lib/python3.9/site-packages/pandas/core/apply.py\", line 190, in agg\n",
      "    return self.agg_dict_like()\n",
      "  File \"/Users/ajaykarthicksenthilkumar/miniconda/envs/web_traffic_forecast/lib/python3.9/site-packages/pandas/core/apply.py\", line 423, in agg_dict_like\n",
      "    return self.agg_or_apply_dict_like(op_name=\"agg\")\n",
      "  File \"/Users/ajaykarthicksenthilkumar/miniconda/envs/web_traffic_forecast/lib/python3.9/site-packages/pandas/core/apply.py\", line 1608, in agg_or_apply_dict_like\n",
      "    result_index, result_data = self.compute_dict_like(\n",
      "  File \"/Users/ajaykarthicksenthilkumar/miniconda/envs/web_traffic_forecast/lib/python3.9/site-packages/pandas/core/apply.py\", line 462, in compute_dict_like\n",
      "    func = self.normalize_dictlike_arg(op_name, selected_obj, func)\n",
      "  File \"/Users/ajaykarthicksenthilkumar/miniconda/envs/web_traffic_forecast/lib/python3.9/site-packages/pandas/core/apply.py\", line 663, in normalize_dictlike_arg\n",
      "    raise KeyError(f\"Column(s) {list(cols)} do not exist\")\n",
      "KeyError: \"Column(s) ['userid'] do not exist\"\n",
      "\n"
     ]
    },
    {
     "name": "stderr",
     "output_type": "stream",
     "text": [
      " 91%|████████████████████████████████████████████████████████████████████████████████████████████████████████████████████████████████████████████████████████████████████████████████████████████▎                 | 36382/39802 [57:25<23:31,  2.42it/s]"
     ]
    },
    {
     "name": "stdout",
     "output_type": "stream",
     "text": [
      "Error processing article: Катастрофа_Boeing_777_в_Донецкой_области ru.wikipedia.org\n",
      "Traceback (most recent call last):\n",
      "  File \"/var/folders/1k/l9m7dlqd1knbl3m543_55s4h0000gn/T/ipykernel_14673/3224756989.py\", line 37, in <module>\n",
      "    daily_data = aggregate_daily_data(revisions)\n",
      "  File \"/Users/ajaykarthicksenthilkumar/dev/personal/wiki-forcast/ajay/meta_data_utils.py\", line 66, in aggregate_daily_data\n",
      "    daily_aggregation = df.groupby('date').agg(\n",
      "  File \"/Users/ajaykarthicksenthilkumar/miniconda/envs/web_traffic_forecast/lib/python3.9/site-packages/pandas/core/groupby/generic.py\", line 1432, in aggregate\n",
      "    result = op.agg()\n",
      "  File \"/Users/ajaykarthicksenthilkumar/miniconda/envs/web_traffic_forecast/lib/python3.9/site-packages/pandas/core/apply.py\", line 190, in agg\n",
      "    return self.agg_dict_like()\n",
      "  File \"/Users/ajaykarthicksenthilkumar/miniconda/envs/web_traffic_forecast/lib/python3.9/site-packages/pandas/core/apply.py\", line 423, in agg_dict_like\n",
      "    return self.agg_or_apply_dict_like(op_name=\"agg\")\n",
      "  File \"/Users/ajaykarthicksenthilkumar/miniconda/envs/web_traffic_forecast/lib/python3.9/site-packages/pandas/core/apply.py\", line 1608, in agg_or_apply_dict_like\n",
      "    result_index, result_data = self.compute_dict_like(\n",
      "  File \"/Users/ajaykarthicksenthilkumar/miniconda/envs/web_traffic_forecast/lib/python3.9/site-packages/pandas/core/apply.py\", line 462, in compute_dict_like\n",
      "    func = self.normalize_dictlike_arg(op_name, selected_obj, func)\n",
      "  File \"/Users/ajaykarthicksenthilkumar/miniconda/envs/web_traffic_forecast/lib/python3.9/site-packages/pandas/core/apply.py\", line 663, in normalize_dictlike_arg\n",
      "    raise KeyError(f\"Column(s) {list(cols)} do not exist\")\n",
      "KeyError: \"Column(s) ['userid'] do not exist\"\n",
      "\n"
     ]
    },
    {
     "name": "stderr",
     "output_type": "stream",
     "text": [
      " 92%|████████████████████████████████████████████████████████████████████████████████████████████████████████████████████████████████████████████████████████████████████████████████████████████▍               | 36763/39802 [1:00:25<10:15,  4.94it/s]"
     ]
    },
    {
     "name": "stdout",
     "output_type": "stream",
     "text": [
      "Error processing article: Авдеевка ru.wikipedia.org\n",
      "Traceback (most recent call last):\n",
      "  File \"/var/folders/1k/l9m7dlqd1knbl3m543_55s4h0000gn/T/ipykernel_14673/3224756989.py\", line 37, in <module>\n",
      "    daily_data = aggregate_daily_data(revisions)\n",
      "  File \"/Users/ajaykarthicksenthilkumar/dev/personal/wiki-forcast/ajay/meta_data_utils.py\", line 66, in aggregate_daily_data\n",
      "    daily_aggregation = df.groupby('date').agg(\n",
      "  File \"/Users/ajaykarthicksenthilkumar/miniconda/envs/web_traffic_forecast/lib/python3.9/site-packages/pandas/core/groupby/generic.py\", line 1432, in aggregate\n",
      "    result = op.agg()\n",
      "  File \"/Users/ajaykarthicksenthilkumar/miniconda/envs/web_traffic_forecast/lib/python3.9/site-packages/pandas/core/apply.py\", line 190, in agg\n",
      "    return self.agg_dict_like()\n",
      "  File \"/Users/ajaykarthicksenthilkumar/miniconda/envs/web_traffic_forecast/lib/python3.9/site-packages/pandas/core/apply.py\", line 423, in agg_dict_like\n",
      "    return self.agg_or_apply_dict_like(op_name=\"agg\")\n",
      "  File \"/Users/ajaykarthicksenthilkumar/miniconda/envs/web_traffic_forecast/lib/python3.9/site-packages/pandas/core/apply.py\", line 1608, in agg_or_apply_dict_like\n",
      "    result_index, result_data = self.compute_dict_like(\n",
      "  File \"/Users/ajaykarthicksenthilkumar/miniconda/envs/web_traffic_forecast/lib/python3.9/site-packages/pandas/core/apply.py\", line 462, in compute_dict_like\n",
      "    func = self.normalize_dictlike_arg(op_name, selected_obj, func)\n",
      "  File \"/Users/ajaykarthicksenthilkumar/miniconda/envs/web_traffic_forecast/lib/python3.9/site-packages/pandas/core/apply.py\", line 663, in normalize_dictlike_arg\n",
      "    raise KeyError(f\"Column(s) {list(cols)} do not exist\")\n",
      "KeyError: \"Column(s) ['userid'] do not exist\"\n",
      "\n"
     ]
    },
    {
     "name": "stderr",
     "output_type": "stream",
     "text": [
      " 98%|███████████████████████████████████████████████████████████████████████████████████████████████████████████████████████████████████████████████████████████████████████████████████████████████████████▊    | 38995/39802 [1:04:32<00:30, 26.74it/s]/Users/ajaykarthicksenthilkumar/dev/personal/wiki-forcast/ajay/meta_data_utils.py:51: UserWarning: Could not infer format, so each element will be parsed individually, falling back to `dateutil`. To ensure parsing is consistent and as-expected, please specify a format.\n",
      "  df['timestamp'] = pd.to_datetime(df['timestamp'])\n",
      "100%|████████████████████████████████████████████████████████████████████████████████████████████████████████████████████████████████████████████████████████████████████████████████████████████████████████████| 39802/39802 [1:07:14<00:00,  9.87it/s]"
     ]
    },
    {
     "name": "stdout",
     "output_type": "stream",
     "text": [
      "Saved list of articles with errors to error_article_domains.txt\n",
      "Saved list of articles with no revisions to no_revisions_article_domains.txt\n"
     ]
    },
    {
     "name": "stderr",
     "output_type": "stream",
     "text": [
      "\n"
     ]
    }
   ],
   "source": [
    "ERROR_LOG = 'error_article_domains.txt'\n",
    "NO_REVISIONS_LOG = 'no_revisions_article_domains.txt'\n",
    "\n",
    "def sanitize_filename(filename):\n",
    "    return re.sub(r'[\\\\/:\"*?<>|]+', '_', filename)\n",
    "\n",
    "def save_daily_agg_meta_data(article, domain, daily_data, output_folder):\n",
    "    if not daily_data.empty:\n",
    "        sanitized_article = sanitize_filename(article)\n",
    "        output_path = os.path.join(output_folder, f\"{sanitized_article}_{domain}.csv\")\n",
    "        daily_data.to_csv(output_path, index=False)\n",
    "\n",
    "if not os.path.exists(META_DATA_FOLDER_PATH):\n",
    "    os.makedirs(META_DATA_FOLDER_PATH)\n",
    "\n",
    "error_articles = []\n",
    "no_revisions_articles = []\n",
    "\n",
    "for article, domain in tqdm(article_domain_tuples, total=len(article_domain_tuples)):\n",
    "    try:\n",
    "        sanitized_article = sanitize_filename(article)\n",
    "\n",
    "        if os.path.exists(os.path.join(META_DATA_FOLDER_PATH, f\"{sanitized_article}_{domain}.csv\")):\n",
    "            continue\n",
    "\n",
    "        existing_file_path = os.path.join(META_DATA_FOLDER_PATH, f\"{sanitized_article}.csv\")\n",
    "        if os.path.exists(existing_file_path) and domain == 'en.wikipedia.org':\n",
    "            new_file_path = os.path.join(META_DATA_FOLDER_PATH, f\"{sanitized_article}_{domain}.csv\")\n",
    "            os.rename(existing_file_path, new_file_path)\n",
    "            continue\n",
    "\n",
    "        revisions = fetch_revision_data(article, domain, start_date, end_date)\n",
    "        if not revisions:\n",
    "            no_revisions_articles.append((article, domain))\n",
    "            continue\n",
    "        \n",
    "        daily_data = aggregate_daily_data(revisions)\n",
    "        save_daily_agg_meta_data(article, domain, daily_data, META_DATA_FOLDER_PATH)\n",
    "    except Exception as e:\n",
    "        error_articles.append((article, domain))\n",
    "        print(f\"Error processing article: {article} {domain}\")\n",
    "        print(traceback.format_exc())\n",
    "\n",
    "if error_articles:\n",
    "    with open(ERROR_LOG, 'w') as f:\n",
    "        for article, domain in error_articles:\n",
    "            f.write(f\"{article} {domain}\\n\")\n",
    "    print(f\"Saved list of articles with errors to {ERROR_LOG}\")\n",
    "\n",
    "if no_revisions_articles:\n",
    "    with open(NO_REVISIONS_LOG, 'w') as f:\n",
    "        for article, domain in no_revisions_articles:\n",
    "            f.write(f\"{article} {domain}\\n\")\n",
    "    print(f\"Saved list of articles with no revisions to {NO_REVISIONS_LOG}\")"
   ]
  },
  {
   "cell_type": "code",
   "execution_count": null,
   "id": "aa701a30-8d44-4e68-9491-801f67f77a6a",
   "metadata": {},
   "outputs": [],
   "source": []
  },
  {
   "cell_type": "code",
   "execution_count": 115,
   "id": "511e1927-07b3-4240-ad6d-f1b1b62f34f5",
   "metadata": {},
   "outputs": [
    {
     "name": "stderr",
     "output_type": "stream",
     "text": [
      "100%|███████████████████████████████████████████████████████████████████████████████████████████████████████████████████████████████████████████████████████████████████████████████████| 39802/39802 [07:12<00:00, 92.09it/s]\n"
     ]
    }
   ],
   "source": [
    "import requests\n",
    "import pandas as pd\n",
    "from tqdm import tqdm\n",
    "from urllib.parse import quote\n",
    "\n",
    "\n",
    "ERROR_LOG = 'error_articles_summary.txt'\n",
    "\n",
    "def encode_article_title(title):\n",
    "    symbols_to_encode = ['%', '/', '?', \"'\", '\"', '&', '=', '#']\n",
    "    for symbol in symbols_to_encode:\n",
    "        title = title.replace(symbol, quote(symbol))\n",
    "    return title\n",
    "\n",
    "def fetch_wikipedia_summary(title, domain):\n",
    "    encoded_title = encode_article_title(title)\n",
    "    urls = [\n",
    "        f\"https://en.wikipedia.org/api/rest_v1/page/summary/{encoded_title}\",\n",
    "        f\"https://{domain}/api/rest_v1/page/summary/{encoded_title}\"\n",
    "    ]\n",
    "    \n",
    "    for url in urls:\n",
    "        try:\n",
    "            response = requests.get(url)\n",
    "            response.raise_for_status()\n",
    "            return response.json().get('extract', '')\n",
    "        except requests.RequestException as e:\n",
    "            # print(f\"Error fetching summary for {title} from {url}: {e}\")\n",
    "            pass\n",
    "    \n",
    "    return None\n",
    "\n",
    "# summaries = []\n",
    "# error_articles = []\n",
    "\n",
    "for article, domain in tqdm(article_domain_tuples, total=len(article_domain_tuples)):\n",
    "    existing_summary = summary_df[(summary_df['article'] == article) & (summary_df['domain'] == domain)]['summary']\n",
    "    if not existing_summary.empty and pd.notna(existing_summary.iloc[0]):\n",
    "        continue  # Skip if summary already exists\n",
    "\n",
    "    summary = fetch_wikipedia_summary(article, domain)\n",
    "    if summary is not None:\n",
    "        summaries.append({'article': article, 'domain': domain, 'summary': summary})\n",
    "    else:\n",
    "        error_articles.append((article, domain))\n",
    "\n",
    "# new_summaries_df = pd.DataFrame(summaries)\n",
    "# updated_summary_df = pd.concat([summary_df, new_summaries_df], ignore_index=True)"
   ]
  },
  {
   "cell_type": "code",
   "execution_count": null,
   "id": "9d89b490-44f3-4e5a-ba74-3c190d2a3228",
   "metadata": {},
   "outputs": [],
   "source": []
  },
  {
   "cell_type": "code",
   "execution_count": null,
   "id": "65ca2045-3802-4692-a9ce-4edee03e8dee",
   "metadata": {},
   "outputs": [],
   "source": [
    "summary_df = pd.DataFrame(summaries)\n",
    "summary_df.to_csv('article_summaries.csv', index=False)\n",
    "\n",
    "if error_articles:\n",
    "    with open(ERROR_LOG, 'w') as f:\n",
    "        for article, domain in error_articles:\n",
    "            f.write(f\"{article},{domain}\\n\")\n",
    "    print(f\"Saved list of articles with errors to {ERROR_LOG}\")\n"
   ]
  },
  {
   "cell_type": "code",
   "execution_count": null,
   "id": "b92b96bd-e28c-43c5-9404-8ba5264a146c",
   "metadata": {},
   "outputs": [],
   "source": []
  },
  {
   "cell_type": "code",
   "execution_count": null,
   "id": "733de329-fd75-458a-a0bb-62f2ba24ad64",
   "metadata": {},
   "outputs": [],
   "source": []
  },
  {
   "cell_type": "code",
   "execution_count": null,
   "id": "4001e3a8-a892-4115-af30-bff12e1b6760",
   "metadata": {},
   "outputs": [],
   "source": []
  },
  {
   "cell_type": "code",
   "execution_count": null,
   "id": "3db347a7-dc33-45eb-91c5-1f13d748374c",
   "metadata": {},
   "outputs": [],
   "source": [
    "import requests\n",
    "import json\n",
    "from tqdm import tqdm\n",
    "\n",
    "def fetch_categories(article_title):\n",
    "    url = \"https://en.wikipedia.org/w/api.php\"\n",
    "    params = {\n",
    "        \"action\": \"query\",\n",
    "        \"format\": \"json\",\n",
    "        \"titles\": article_title,\n",
    "        \"prop\": \"categories\"\n",
    "    }\n",
    "    try:\n",
    "        response = requests.get(url, params=params)\n",
    "        data = response.json()\n",
    "        pages = data['query']['pages']\n",
    "        page_id = next(iter(pages))\n",
    "        categories = [cat['title'] for cat in pages[page_id].get('categories', [])]\n",
    "        return categories\n",
    "    \n",
    "    except requests.exceptions.HTTPError as http_err:\n",
    "        print(f\"HTTP error occurred: {http_err} - {article_title}\")\n",
    "    except requests.exceptions.ConnectionError as conn_err:\n",
    "        print(f\"Connection error occurred: {conn_err} - {article_title}\")\n",
    "    except Exception as err:\n",
    "        print(f\"An error occurred: {err} - {article_title}\")\n",
    "    return []\n",
    "\n",
    "category_dict = {}\n",
    "\n",
    "for article_title in tqdm(page_info_df['article'].unique(), total= page_info_df['article'].nunique()):\n",
    "    categories = fetch_categories(article_title)\n",
    "    category_dict[article_title] = categories\n",
    "\n",
    "with open('category_data.json', 'w') as json_file:\n",
    "    json.dump(category_dict, json_file, indent=4)\n",
    "\n",
    "print(\"Category data has been written to 'category_data.json'.\")"
   ]
  },
  {
   "cell_type": "code",
   "execution_count": null,
   "id": "1df4adbd-80e4-4a83-b4df-3a24075b0169",
   "metadata": {},
   "outputs": [],
   "source": [
    "from collections import defaultdict\n",
    "category_to_articles = defaultdict(list)\n",
    "for article, categories in category_dict.items():\n",
    "    for category in categories:\n",
    "        category_to_articles[category].append(article)\n",
    "len(category_to_articles)"
   ]
  },
  {
   "cell_type": "code",
   "execution_count": null,
   "id": "721e59d0-c3e5-4270-a1c2-9a36cf02ab17",
   "metadata": {},
   "outputs": [],
   "source": [
    "\n"
   ]
  },
  {
   "cell_type": "code",
   "execution_count": null,
   "id": "5f273c6f-c2eb-4952-9994-6362c26a8d83",
   "metadata": {},
   "outputs": [],
   "source": []
  },
  {
   "cell_type": "code",
   "execution_count": 20,
   "id": "7ba6093b-c6be-45af-9cc5-fc0760999034",
   "metadata": {},
   "outputs": [],
   "source": []
  },
  {
   "cell_type": "code",
   "execution_count": null,
   "id": "07f5825a-aa6c-4db4-8ae9-60b9e40b7d84",
   "metadata": {},
   "outputs": [],
   "source": []
  },
  {
   "cell_type": "code",
   "execution_count": 23,
   "id": "ae6e9346-d879-49f4-9f6b-57e968527b8f",
   "metadata": {},
   "outputs": [],
   "source": []
  },
  {
   "cell_type": "code",
   "execution_count": null,
   "id": "7dcfc9fc-5ca9-4116-a735-13c1fce9737e",
   "metadata": {},
   "outputs": [],
   "source": []
  },
  {
   "cell_type": "code",
   "execution_count": null,
   "id": "21f5da39-f75a-44de-8360-1f53a11848d0",
   "metadata": {},
   "outputs": [],
   "source": []
  }
 ],
 "metadata": {
  "kernelspec": {
   "display_name": "Python 3 (ipykernel)",
   "language": "python",
   "name": "python3"
  },
  "language_info": {
   "codemirror_mode": {
    "name": "ipython",
    "version": 3
   },
   "file_extension": ".py",
   "mimetype": "text/x-python",
   "name": "python",
   "nbconvert_exporter": "python",
   "pygments_lexer": "ipython3",
   "version": "3.9.13"
  }
 },
 "nbformat": 4,
 "nbformat_minor": 5
}
