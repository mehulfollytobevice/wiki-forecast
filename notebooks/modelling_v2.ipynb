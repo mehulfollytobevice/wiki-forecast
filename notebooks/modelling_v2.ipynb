{
 "cells": [
  {
   "cell_type": "markdown",
   "metadata": {},
   "source": [
    "# Modelling version-2:\n",
    "\n",
    "In the first version, we tried creating a baseline model using a subset of pages. We developed a single model that captures the temporal relationships for each of the pages and is able to predict the number of visits. \n",
    "\n",
    "In this notebook, we will use prophet to create a model that is able to perform more accurately while handling a larger subset of pages. "
   ]
  },
  {
   "cell_type": "code",
   "execution_count": 193,
   "metadata": {},
   "outputs": [],
   "source": [
    "import pandas as pd\n",
    "import numpy as np\n",
    "import matplotlib.pyplot as plt\n",
    "from prophet import Prophet\n",
    "from joblib import Parallel, delayed"
   ]
  },
  {
   "cell_type": "markdown",
   "metadata": {},
   "source": [
    "## Load the data:"
   ]
  },
  {
   "cell_type": "code",
   "execution_count": 194,
   "metadata": {},
   "outputs": [],
   "source": [
    "PATH= \"../data/train_1.csv\""
   ]
  },
  {
   "cell_type": "code",
   "execution_count": 195,
   "metadata": {},
   "outputs": [],
   "source": [
    "df= pd.read_csv(PATH)"
   ]
  },
  {
   "cell_type": "code",
   "execution_count": 196,
   "metadata": {},
   "outputs": [
    {
     "data": {
      "text/html": [
       "<div>\n",
       "<style scoped>\n",
       "    .dataframe tbody tr th:only-of-type {\n",
       "        vertical-align: middle;\n",
       "    }\n",
       "\n",
       "    .dataframe tbody tr th {\n",
       "        vertical-align: top;\n",
       "    }\n",
       "\n",
       "    .dataframe thead th {\n",
       "        text-align: right;\n",
       "    }\n",
       "</style>\n",
       "<table border=\"1\" class=\"dataframe\">\n",
       "  <thead>\n",
       "    <tr style=\"text-align: right;\">\n",
       "      <th></th>\n",
       "      <th>Page</th>\n",
       "      <th>2015-07-01</th>\n",
       "      <th>2015-07-02</th>\n",
       "      <th>2015-07-03</th>\n",
       "      <th>2015-07-04</th>\n",
       "      <th>2015-07-05</th>\n",
       "      <th>2015-07-06</th>\n",
       "      <th>2015-07-07</th>\n",
       "      <th>2015-07-08</th>\n",
       "      <th>2015-07-09</th>\n",
       "      <th>...</th>\n",
       "      <th>2016-12-22</th>\n",
       "      <th>2016-12-23</th>\n",
       "      <th>2016-12-24</th>\n",
       "      <th>2016-12-25</th>\n",
       "      <th>2016-12-26</th>\n",
       "      <th>2016-12-27</th>\n",
       "      <th>2016-12-28</th>\n",
       "      <th>2016-12-29</th>\n",
       "      <th>2016-12-30</th>\n",
       "      <th>2016-12-31</th>\n",
       "    </tr>\n",
       "  </thead>\n",
       "  <tbody>\n",
       "    <tr>\n",
       "      <th>0</th>\n",
       "      <td>2NE1_zh.wikipedia.org_all-access_spider</td>\n",
       "      <td>18.0</td>\n",
       "      <td>11.0</td>\n",
       "      <td>5.0</td>\n",
       "      <td>13.0</td>\n",
       "      <td>14.0</td>\n",
       "      <td>9.0</td>\n",
       "      <td>9.0</td>\n",
       "      <td>22.0</td>\n",
       "      <td>26.0</td>\n",
       "      <td>...</td>\n",
       "      <td>32.0</td>\n",
       "      <td>63.0</td>\n",
       "      <td>15.0</td>\n",
       "      <td>26.0</td>\n",
       "      <td>14.0</td>\n",
       "      <td>20.0</td>\n",
       "      <td>22.0</td>\n",
       "      <td>19.0</td>\n",
       "      <td>18.0</td>\n",
       "      <td>20.0</td>\n",
       "    </tr>\n",
       "    <tr>\n",
       "      <th>1</th>\n",
       "      <td>2PM_zh.wikipedia.org_all-access_spider</td>\n",
       "      <td>11.0</td>\n",
       "      <td>14.0</td>\n",
       "      <td>15.0</td>\n",
       "      <td>18.0</td>\n",
       "      <td>11.0</td>\n",
       "      <td>13.0</td>\n",
       "      <td>22.0</td>\n",
       "      <td>11.0</td>\n",
       "      <td>10.0</td>\n",
       "      <td>...</td>\n",
       "      <td>17.0</td>\n",
       "      <td>42.0</td>\n",
       "      <td>28.0</td>\n",
       "      <td>15.0</td>\n",
       "      <td>9.0</td>\n",
       "      <td>30.0</td>\n",
       "      <td>52.0</td>\n",
       "      <td>45.0</td>\n",
       "      <td>26.0</td>\n",
       "      <td>20.0</td>\n",
       "    </tr>\n",
       "    <tr>\n",
       "      <th>2</th>\n",
       "      <td>3C_zh.wikipedia.org_all-access_spider</td>\n",
       "      <td>1.0</td>\n",
       "      <td>0.0</td>\n",
       "      <td>1.0</td>\n",
       "      <td>1.0</td>\n",
       "      <td>0.0</td>\n",
       "      <td>4.0</td>\n",
       "      <td>0.0</td>\n",
       "      <td>3.0</td>\n",
       "      <td>4.0</td>\n",
       "      <td>...</td>\n",
       "      <td>3.0</td>\n",
       "      <td>1.0</td>\n",
       "      <td>1.0</td>\n",
       "      <td>7.0</td>\n",
       "      <td>4.0</td>\n",
       "      <td>4.0</td>\n",
       "      <td>6.0</td>\n",
       "      <td>3.0</td>\n",
       "      <td>4.0</td>\n",
       "      <td>17.0</td>\n",
       "    </tr>\n",
       "    <tr>\n",
       "      <th>3</th>\n",
       "      <td>4minute_zh.wikipedia.org_all-access_spider</td>\n",
       "      <td>35.0</td>\n",
       "      <td>13.0</td>\n",
       "      <td>10.0</td>\n",
       "      <td>94.0</td>\n",
       "      <td>4.0</td>\n",
       "      <td>26.0</td>\n",
       "      <td>14.0</td>\n",
       "      <td>9.0</td>\n",
       "      <td>11.0</td>\n",
       "      <td>...</td>\n",
       "      <td>32.0</td>\n",
       "      <td>10.0</td>\n",
       "      <td>26.0</td>\n",
       "      <td>27.0</td>\n",
       "      <td>16.0</td>\n",
       "      <td>11.0</td>\n",
       "      <td>17.0</td>\n",
       "      <td>19.0</td>\n",
       "      <td>10.0</td>\n",
       "      <td>11.0</td>\n",
       "    </tr>\n",
       "    <tr>\n",
       "      <th>4</th>\n",
       "      <td>52_Hz_I_Love_You_zh.wikipedia.org_all-access_s...</td>\n",
       "      <td>NaN</td>\n",
       "      <td>NaN</td>\n",
       "      <td>NaN</td>\n",
       "      <td>NaN</td>\n",
       "      <td>NaN</td>\n",
       "      <td>NaN</td>\n",
       "      <td>NaN</td>\n",
       "      <td>NaN</td>\n",
       "      <td>NaN</td>\n",
       "      <td>...</td>\n",
       "      <td>48.0</td>\n",
       "      <td>9.0</td>\n",
       "      <td>25.0</td>\n",
       "      <td>13.0</td>\n",
       "      <td>3.0</td>\n",
       "      <td>11.0</td>\n",
       "      <td>27.0</td>\n",
       "      <td>13.0</td>\n",
       "      <td>36.0</td>\n",
       "      <td>10.0</td>\n",
       "    </tr>\n",
       "  </tbody>\n",
       "</table>\n",
       "<p>5 rows × 551 columns</p>\n",
       "</div>"
      ],
      "text/plain": [
       "                                                Page  2015-07-01  2015-07-02  \\\n",
       "0            2NE1_zh.wikipedia.org_all-access_spider        18.0        11.0   \n",
       "1             2PM_zh.wikipedia.org_all-access_spider        11.0        14.0   \n",
       "2              3C_zh.wikipedia.org_all-access_spider         1.0         0.0   \n",
       "3         4minute_zh.wikipedia.org_all-access_spider        35.0        13.0   \n",
       "4  52_Hz_I_Love_You_zh.wikipedia.org_all-access_s...         NaN         NaN   \n",
       "\n",
       "   2015-07-03  2015-07-04  2015-07-05  2015-07-06  2015-07-07  2015-07-08  \\\n",
       "0         5.0        13.0        14.0         9.0         9.0        22.0   \n",
       "1        15.0        18.0        11.0        13.0        22.0        11.0   \n",
       "2         1.0         1.0         0.0         4.0         0.0         3.0   \n",
       "3        10.0        94.0         4.0        26.0        14.0         9.0   \n",
       "4         NaN         NaN         NaN         NaN         NaN         NaN   \n",
       "\n",
       "   2015-07-09  ...  2016-12-22  2016-12-23  2016-12-24  2016-12-25  \\\n",
       "0        26.0  ...        32.0        63.0        15.0        26.0   \n",
       "1        10.0  ...        17.0        42.0        28.0        15.0   \n",
       "2         4.0  ...         3.0         1.0         1.0         7.0   \n",
       "3        11.0  ...        32.0        10.0        26.0        27.0   \n",
       "4         NaN  ...        48.0         9.0        25.0        13.0   \n",
       "\n",
       "   2016-12-26  2016-12-27  2016-12-28  2016-12-29  2016-12-30  2016-12-31  \n",
       "0        14.0        20.0        22.0        19.0        18.0        20.0  \n",
       "1         9.0        30.0        52.0        45.0        26.0        20.0  \n",
       "2         4.0         4.0         6.0         3.0         4.0        17.0  \n",
       "3        16.0        11.0        17.0        19.0        10.0        11.0  \n",
       "4         3.0        11.0        27.0        13.0        36.0        10.0  \n",
       "\n",
       "[5 rows x 551 columns]"
      ]
     },
     "execution_count": 196,
     "metadata": {},
     "output_type": "execute_result"
    }
   ],
   "source": [
    "df.head()"
   ]
  },
  {
   "cell_type": "code",
   "execution_count": 197,
   "metadata": {},
   "outputs": [
    {
     "name": "stdout",
     "output_type": "stream",
     "text": [
      "<class 'pandas.core.frame.DataFrame'>\n",
      "RangeIndex: 145063 entries, 0 to 145062\n",
      "Columns: 551 entries, Page to 2016-12-31\n",
      "dtypes: float64(550), object(1)\n",
      "memory usage: 609.8+ MB\n"
     ]
    }
   ],
   "source": [
    "df.info()"
   ]
  },
  {
   "cell_type": "markdown",
   "metadata": {},
   "source": [
    "What are the columns in the dataset?"
   ]
  },
  {
   "cell_type": "code",
   "execution_count": 198,
   "metadata": {},
   "outputs": [
    {
     "data": {
      "text/plain": [
       "Index(['Page', '2015-07-01', '2015-07-02', '2015-07-03', '2015-07-04',\n",
       "       '2015-07-05', '2015-07-06', '2015-07-07', '2015-07-08', '2015-07-09',\n",
       "       ...\n",
       "       '2016-12-22', '2016-12-23', '2016-12-24', '2016-12-25', '2016-12-26',\n",
       "       '2016-12-27', '2016-12-28', '2016-12-29', '2016-12-30', '2016-12-31'],\n",
       "      dtype='object', length=551)"
      ]
     },
     "execution_count": 198,
     "metadata": {},
     "output_type": "execute_result"
    }
   ],
   "source": [
    "df.columns"
   ]
  },
  {
   "cell_type": "markdown",
   "metadata": {},
   "source": [
    "Other dataframes"
   ]
  },
  {
   "cell_type": "code",
   "execution_count": 199,
   "metadata": {},
   "outputs": [],
   "source": [
    "PATH_2= \"../data/key_1.csv\""
   ]
  },
  {
   "cell_type": "code",
   "execution_count": 200,
   "metadata": {},
   "outputs": [],
   "source": [
    "key_df= pd.read_csv(PATH_2)"
   ]
  },
  {
   "cell_type": "code",
   "execution_count": 201,
   "metadata": {},
   "outputs": [
    {
     "data": {
      "text/html": [
       "<div>\n",
       "<style scoped>\n",
       "    .dataframe tbody tr th:only-of-type {\n",
       "        vertical-align: middle;\n",
       "    }\n",
       "\n",
       "    .dataframe tbody tr th {\n",
       "        vertical-align: top;\n",
       "    }\n",
       "\n",
       "    .dataframe thead th {\n",
       "        text-align: right;\n",
       "    }\n",
       "</style>\n",
       "<table border=\"1\" class=\"dataframe\">\n",
       "  <thead>\n",
       "    <tr style=\"text-align: right;\">\n",
       "      <th></th>\n",
       "      <th>Page</th>\n",
       "      <th>Id</th>\n",
       "    </tr>\n",
       "  </thead>\n",
       "  <tbody>\n",
       "    <tr>\n",
       "      <th>0</th>\n",
       "      <td>!vote_en.wikipedia.org_all-access_all-agents_2...</td>\n",
       "      <td>bf4edcf969af</td>\n",
       "    </tr>\n",
       "    <tr>\n",
       "      <th>1</th>\n",
       "      <td>!vote_en.wikipedia.org_all-access_all-agents_2...</td>\n",
       "      <td>929ed2bf52b9</td>\n",
       "    </tr>\n",
       "    <tr>\n",
       "      <th>2</th>\n",
       "      <td>!vote_en.wikipedia.org_all-access_all-agents_2...</td>\n",
       "      <td>ff29d0f51d5c</td>\n",
       "    </tr>\n",
       "    <tr>\n",
       "      <th>3</th>\n",
       "      <td>!vote_en.wikipedia.org_all-access_all-agents_2...</td>\n",
       "      <td>e98873359be6</td>\n",
       "    </tr>\n",
       "    <tr>\n",
       "      <th>4</th>\n",
       "      <td>!vote_en.wikipedia.org_all-access_all-agents_2...</td>\n",
       "      <td>fa012434263a</td>\n",
       "    </tr>\n",
       "  </tbody>\n",
       "</table>\n",
       "</div>"
      ],
      "text/plain": [
       "                                                Page            Id\n",
       "0  !vote_en.wikipedia.org_all-access_all-agents_2...  bf4edcf969af\n",
       "1  !vote_en.wikipedia.org_all-access_all-agents_2...  929ed2bf52b9\n",
       "2  !vote_en.wikipedia.org_all-access_all-agents_2...  ff29d0f51d5c\n",
       "3  !vote_en.wikipedia.org_all-access_all-agents_2...  e98873359be6\n",
       "4  !vote_en.wikipedia.org_all-access_all-agents_2...  fa012434263a"
      ]
     },
     "execution_count": 201,
     "metadata": {},
     "output_type": "execute_result"
    }
   ],
   "source": [
    "key_df.head()"
   ]
  },
  {
   "cell_type": "code",
   "execution_count": 202,
   "metadata": {},
   "outputs": [
    {
     "data": {
      "text/plain": [
       "(8703780, 2)"
      ]
     },
     "execution_count": 202,
     "metadata": {},
     "output_type": "execute_result"
    }
   ],
   "source": [
    "key_df.shape"
   ]
  },
  {
   "cell_type": "markdown",
   "metadata": {},
   "source": [
    "`key_df` contains the alpha-numeric ID for each Page and Date combination"
   ]
  },
  {
   "cell_type": "code",
   "execution_count": 203,
   "metadata": {},
   "outputs": [
    {
     "data": {
      "text/plain": [
       "'!vote_en.wikipedia.org_all-access_all-agents_2017-01-02'"
      ]
     },
     "execution_count": 203,
     "metadata": {},
     "output_type": "execute_result"
    }
   ],
   "source": [
    "# for example\n",
    "key_df.iloc[1].Page"
   ]
  },
  {
   "cell_type": "markdown",
   "metadata": {},
   "source": [
    "## Melt the dataframe:"
   ]
  },
  {
   "cell_type": "markdown",
   "metadata": {},
   "source": [
    "First, drop rows with null values"
   ]
  },
  {
   "cell_type": "code",
   "execution_count": 204,
   "metadata": {},
   "outputs": [],
   "source": [
    "df=df.dropna()"
   ]
  },
  {
   "cell_type": "code",
   "execution_count": 205,
   "metadata": {},
   "outputs": [
    {
     "data": {
      "text/html": [
       "<div>\n",
       "<style scoped>\n",
       "    .dataframe tbody tr th:only-of-type {\n",
       "        vertical-align: middle;\n",
       "    }\n",
       "\n",
       "    .dataframe tbody tr th {\n",
       "        vertical-align: top;\n",
       "    }\n",
       "\n",
       "    .dataframe thead th {\n",
       "        text-align: right;\n",
       "    }\n",
       "</style>\n",
       "<table border=\"1\" class=\"dataframe\">\n",
       "  <thead>\n",
       "    <tr style=\"text-align: right;\">\n",
       "      <th></th>\n",
       "      <th>Page</th>\n",
       "      <th>2015-07-01</th>\n",
       "      <th>2015-07-02</th>\n",
       "      <th>2015-07-03</th>\n",
       "      <th>2015-07-04</th>\n",
       "      <th>2015-07-05</th>\n",
       "      <th>2015-07-06</th>\n",
       "      <th>2015-07-07</th>\n",
       "      <th>2015-07-08</th>\n",
       "      <th>2015-07-09</th>\n",
       "      <th>...</th>\n",
       "      <th>2016-12-22</th>\n",
       "      <th>2016-12-23</th>\n",
       "      <th>2016-12-24</th>\n",
       "      <th>2016-12-25</th>\n",
       "      <th>2016-12-26</th>\n",
       "      <th>2016-12-27</th>\n",
       "      <th>2016-12-28</th>\n",
       "      <th>2016-12-29</th>\n",
       "      <th>2016-12-30</th>\n",
       "      <th>2016-12-31</th>\n",
       "    </tr>\n",
       "  </thead>\n",
       "  <tbody>\n",
       "    <tr>\n",
       "      <th>0</th>\n",
       "      <td>2NE1_zh.wikipedia.org_all-access_spider</td>\n",
       "      <td>18.0</td>\n",
       "      <td>11.0</td>\n",
       "      <td>5.0</td>\n",
       "      <td>13.0</td>\n",
       "      <td>14.0</td>\n",
       "      <td>9.0</td>\n",
       "      <td>9.0</td>\n",
       "      <td>22.0</td>\n",
       "      <td>26.0</td>\n",
       "      <td>...</td>\n",
       "      <td>32.0</td>\n",
       "      <td>63.0</td>\n",
       "      <td>15.0</td>\n",
       "      <td>26.0</td>\n",
       "      <td>14.0</td>\n",
       "      <td>20.0</td>\n",
       "      <td>22.0</td>\n",
       "      <td>19.0</td>\n",
       "      <td>18.0</td>\n",
       "      <td>20.0</td>\n",
       "    </tr>\n",
       "    <tr>\n",
       "      <th>1</th>\n",
       "      <td>2PM_zh.wikipedia.org_all-access_spider</td>\n",
       "      <td>11.0</td>\n",
       "      <td>14.0</td>\n",
       "      <td>15.0</td>\n",
       "      <td>18.0</td>\n",
       "      <td>11.0</td>\n",
       "      <td>13.0</td>\n",
       "      <td>22.0</td>\n",
       "      <td>11.0</td>\n",
       "      <td>10.0</td>\n",
       "      <td>...</td>\n",
       "      <td>17.0</td>\n",
       "      <td>42.0</td>\n",
       "      <td>28.0</td>\n",
       "      <td>15.0</td>\n",
       "      <td>9.0</td>\n",
       "      <td>30.0</td>\n",
       "      <td>52.0</td>\n",
       "      <td>45.0</td>\n",
       "      <td>26.0</td>\n",
       "      <td>20.0</td>\n",
       "    </tr>\n",
       "    <tr>\n",
       "      <th>2</th>\n",
       "      <td>3C_zh.wikipedia.org_all-access_spider</td>\n",
       "      <td>1.0</td>\n",
       "      <td>0.0</td>\n",
       "      <td>1.0</td>\n",
       "      <td>1.0</td>\n",
       "      <td>0.0</td>\n",
       "      <td>4.0</td>\n",
       "      <td>0.0</td>\n",
       "      <td>3.0</td>\n",
       "      <td>4.0</td>\n",
       "      <td>...</td>\n",
       "      <td>3.0</td>\n",
       "      <td>1.0</td>\n",
       "      <td>1.0</td>\n",
       "      <td>7.0</td>\n",
       "      <td>4.0</td>\n",
       "      <td>4.0</td>\n",
       "      <td>6.0</td>\n",
       "      <td>3.0</td>\n",
       "      <td>4.0</td>\n",
       "      <td>17.0</td>\n",
       "    </tr>\n",
       "    <tr>\n",
       "      <th>3</th>\n",
       "      <td>4minute_zh.wikipedia.org_all-access_spider</td>\n",
       "      <td>35.0</td>\n",
       "      <td>13.0</td>\n",
       "      <td>10.0</td>\n",
       "      <td>94.0</td>\n",
       "      <td>4.0</td>\n",
       "      <td>26.0</td>\n",
       "      <td>14.0</td>\n",
       "      <td>9.0</td>\n",
       "      <td>11.0</td>\n",
       "      <td>...</td>\n",
       "      <td>32.0</td>\n",
       "      <td>10.0</td>\n",
       "      <td>26.0</td>\n",
       "      <td>27.0</td>\n",
       "      <td>16.0</td>\n",
       "      <td>11.0</td>\n",
       "      <td>17.0</td>\n",
       "      <td>19.0</td>\n",
       "      <td>10.0</td>\n",
       "      <td>11.0</td>\n",
       "    </tr>\n",
       "    <tr>\n",
       "      <th>5</th>\n",
       "      <td>5566_zh.wikipedia.org_all-access_spider</td>\n",
       "      <td>12.0</td>\n",
       "      <td>7.0</td>\n",
       "      <td>4.0</td>\n",
       "      <td>5.0</td>\n",
       "      <td>20.0</td>\n",
       "      <td>8.0</td>\n",
       "      <td>5.0</td>\n",
       "      <td>17.0</td>\n",
       "      <td>24.0</td>\n",
       "      <td>...</td>\n",
       "      <td>16.0</td>\n",
       "      <td>27.0</td>\n",
       "      <td>8.0</td>\n",
       "      <td>17.0</td>\n",
       "      <td>32.0</td>\n",
       "      <td>19.0</td>\n",
       "      <td>23.0</td>\n",
       "      <td>17.0</td>\n",
       "      <td>17.0</td>\n",
       "      <td>50.0</td>\n",
       "    </tr>\n",
       "  </tbody>\n",
       "</table>\n",
       "<p>5 rows × 551 columns</p>\n",
       "</div>"
      ],
      "text/plain": [
       "                                         Page  2015-07-01  2015-07-02  \\\n",
       "0     2NE1_zh.wikipedia.org_all-access_spider        18.0        11.0   \n",
       "1      2PM_zh.wikipedia.org_all-access_spider        11.0        14.0   \n",
       "2       3C_zh.wikipedia.org_all-access_spider         1.0         0.0   \n",
       "3  4minute_zh.wikipedia.org_all-access_spider        35.0        13.0   \n",
       "5     5566_zh.wikipedia.org_all-access_spider        12.0         7.0   \n",
       "\n",
       "   2015-07-03  2015-07-04  2015-07-05  2015-07-06  2015-07-07  2015-07-08  \\\n",
       "0         5.0        13.0        14.0         9.0         9.0        22.0   \n",
       "1        15.0        18.0        11.0        13.0        22.0        11.0   \n",
       "2         1.0         1.0         0.0         4.0         0.0         3.0   \n",
       "3        10.0        94.0         4.0        26.0        14.0         9.0   \n",
       "5         4.0         5.0        20.0         8.0         5.0        17.0   \n",
       "\n",
       "   2015-07-09  ...  2016-12-22  2016-12-23  2016-12-24  2016-12-25  \\\n",
       "0        26.0  ...        32.0        63.0        15.0        26.0   \n",
       "1        10.0  ...        17.0        42.0        28.0        15.0   \n",
       "2         4.0  ...         3.0         1.0         1.0         7.0   \n",
       "3        11.0  ...        32.0        10.0        26.0        27.0   \n",
       "5        24.0  ...        16.0        27.0         8.0        17.0   \n",
       "\n",
       "   2016-12-26  2016-12-27  2016-12-28  2016-12-29  2016-12-30  2016-12-31  \n",
       "0        14.0        20.0        22.0        19.0        18.0        20.0  \n",
       "1         9.0        30.0        52.0        45.0        26.0        20.0  \n",
       "2         4.0         4.0         6.0         3.0         4.0        17.0  \n",
       "3        16.0        11.0        17.0        19.0        10.0        11.0  \n",
       "5        32.0        19.0        23.0        17.0        17.0        50.0  \n",
       "\n",
       "[5 rows x 551 columns]"
      ]
     },
     "execution_count": 205,
     "metadata": {},
     "output_type": "execute_result"
    }
   ],
   "source": [
    "df.head()"
   ]
  },
  {
   "cell_type": "markdown",
   "metadata": {},
   "source": [
    "Take a sample from the dataframe"
   ]
  },
  {
   "cell_type": "code",
   "execution_count": 206,
   "metadata": {},
   "outputs": [],
   "source": [
    "df_sample=df.sample(n=500, random_state=42)"
   ]
  },
  {
   "cell_type": "code",
   "execution_count": 207,
   "metadata": {},
   "outputs": [
    {
     "data": {
      "text/html": [
       "<div>\n",
       "<style scoped>\n",
       "    .dataframe tbody tr th:only-of-type {\n",
       "        vertical-align: middle;\n",
       "    }\n",
       "\n",
       "    .dataframe tbody tr th {\n",
       "        vertical-align: top;\n",
       "    }\n",
       "\n",
       "    .dataframe thead th {\n",
       "        text-align: right;\n",
       "    }\n",
       "</style>\n",
       "<table border=\"1\" class=\"dataframe\">\n",
       "  <thead>\n",
       "    <tr style=\"text-align: right;\">\n",
       "      <th></th>\n",
       "      <th>Page</th>\n",
       "      <th>2015-07-01</th>\n",
       "      <th>2015-07-02</th>\n",
       "      <th>2015-07-03</th>\n",
       "      <th>2015-07-04</th>\n",
       "      <th>2015-07-05</th>\n",
       "      <th>2015-07-06</th>\n",
       "      <th>2015-07-07</th>\n",
       "      <th>2015-07-08</th>\n",
       "      <th>2015-07-09</th>\n",
       "      <th>...</th>\n",
       "      <th>2016-12-22</th>\n",
       "      <th>2016-12-23</th>\n",
       "      <th>2016-12-24</th>\n",
       "      <th>2016-12-25</th>\n",
       "      <th>2016-12-26</th>\n",
       "      <th>2016-12-27</th>\n",
       "      <th>2016-12-28</th>\n",
       "      <th>2016-12-29</th>\n",
       "      <th>2016-12-30</th>\n",
       "      <th>2016-12-31</th>\n",
       "    </tr>\n",
       "  </thead>\n",
       "  <tbody>\n",
       "    <tr>\n",
       "      <th>42042</th>\n",
       "      <td>Luis_Suárez_en.wikipedia.org_all-access_all-ag...</td>\n",
       "      <td>4261.0</td>\n",
       "      <td>3872.0</td>\n",
       "      <td>3896.0</td>\n",
       "      <td>4270.0</td>\n",
       "      <td>3973.0</td>\n",
       "      <td>4300.0</td>\n",
       "      <td>4115.0</td>\n",
       "      <td>4028.0</td>\n",
       "      <td>3846.0</td>\n",
       "      <td>...</td>\n",
       "      <td>4437.0</td>\n",
       "      <td>3676.0</td>\n",
       "      <td>3226.0</td>\n",
       "      <td>3291.0</td>\n",
       "      <td>3836.0</td>\n",
       "      <td>4008.0</td>\n",
       "      <td>4092.0</td>\n",
       "      <td>3764.0</td>\n",
       "      <td>3719.0</td>\n",
       "      <td>3477.0</td>\n",
       "    </tr>\n",
       "    <tr>\n",
       "      <th>99800</th>\n",
       "      <td>Фрейзер,_Джо_ru.wikipedia.org_all-access_all-a...</td>\n",
       "      <td>291.0</td>\n",
       "      <td>347.0</td>\n",
       "      <td>335.0</td>\n",
       "      <td>305.0</td>\n",
       "      <td>283.0</td>\n",
       "      <td>270.0</td>\n",
       "      <td>302.0</td>\n",
       "      <td>327.0</td>\n",
       "      <td>303.0</td>\n",
       "      <td>...</td>\n",
       "      <td>421.0</td>\n",
       "      <td>391.0</td>\n",
       "      <td>528.0</td>\n",
       "      <td>418.0</td>\n",
       "      <td>403.0</td>\n",
       "      <td>356.0</td>\n",
       "      <td>379.0</td>\n",
       "      <td>388.0</td>\n",
       "      <td>365.0</td>\n",
       "      <td>243.0</td>\n",
       "    </tr>\n",
       "    <tr>\n",
       "      <th>53520</th>\n",
       "      <td>Dr_House_fr.wikipedia.org_mobile-web_all-agents</td>\n",
       "      <td>304.0</td>\n",
       "      <td>264.0</td>\n",
       "      <td>417.0</td>\n",
       "      <td>230.0</td>\n",
       "      <td>1002.0</td>\n",
       "      <td>406.0</td>\n",
       "      <td>318.0</td>\n",
       "      <td>321.0</td>\n",
       "      <td>345.0</td>\n",
       "      <td>...</td>\n",
       "      <td>450.0</td>\n",
       "      <td>442.0</td>\n",
       "      <td>335.0</td>\n",
       "      <td>373.0</td>\n",
       "      <td>914.0</td>\n",
       "      <td>728.0</td>\n",
       "      <td>961.0</td>\n",
       "      <td>1648.0</td>\n",
       "      <td>501.0</td>\n",
       "      <td>500.0</td>\n",
       "    </tr>\n",
       "    <tr>\n",
       "      <th>80024</th>\n",
       "      <td>File:Penny_black.jpg_commons.wikimedia.org_mob...</td>\n",
       "      <td>0.0</td>\n",
       "      <td>1.0</td>\n",
       "      <td>5.0</td>\n",
       "      <td>0.0</td>\n",
       "      <td>0.0</td>\n",
       "      <td>1.0</td>\n",
       "      <td>0.0</td>\n",
       "      <td>2.0</td>\n",
       "      <td>0.0</td>\n",
       "      <td>...</td>\n",
       "      <td>1.0</td>\n",
       "      <td>0.0</td>\n",
       "      <td>2.0</td>\n",
       "      <td>1.0</td>\n",
       "      <td>1.0</td>\n",
       "      <td>3.0</td>\n",
       "      <td>1.0</td>\n",
       "      <td>2.0</td>\n",
       "      <td>1.0</td>\n",
       "      <td>1.0</td>\n",
       "    </tr>\n",
       "    <tr>\n",
       "      <th>106799</th>\n",
       "      <td>射鵰英雄傳_(2008年電視劇)_zh.wikipedia.org_mobile-web_a...</td>\n",
       "      <td>121.0</td>\n",
       "      <td>107.0</td>\n",
       "      <td>107.0</td>\n",
       "      <td>117.0</td>\n",
       "      <td>107.0</td>\n",
       "      <td>111.0</td>\n",
       "      <td>114.0</td>\n",
       "      <td>105.0</td>\n",
       "      <td>105.0</td>\n",
       "      <td>...</td>\n",
       "      <td>339.0</td>\n",
       "      <td>387.0</td>\n",
       "      <td>178.0</td>\n",
       "      <td>179.0</td>\n",
       "      <td>339.0</td>\n",
       "      <td>330.0</td>\n",
       "      <td>387.0</td>\n",
       "      <td>342.0</td>\n",
       "      <td>524.0</td>\n",
       "      <td>218.0</td>\n",
       "    </tr>\n",
       "  </tbody>\n",
       "</table>\n",
       "<p>5 rows × 551 columns</p>\n",
       "</div>"
      ],
      "text/plain": [
       "                                                     Page  2015-07-01  \\\n",
       "42042   Luis_Suárez_en.wikipedia.org_all-access_all-ag...      4261.0   \n",
       "99800   Фрейзер,_Джо_ru.wikipedia.org_all-access_all-a...       291.0   \n",
       "53520     Dr_House_fr.wikipedia.org_mobile-web_all-agents       304.0   \n",
       "80024   File:Penny_black.jpg_commons.wikimedia.org_mob...         0.0   \n",
       "106799  射鵰英雄傳_(2008年電視劇)_zh.wikipedia.org_mobile-web_a...       121.0   \n",
       "\n",
       "        2015-07-02  2015-07-03  2015-07-04  2015-07-05  2015-07-06  \\\n",
       "42042       3872.0      3896.0      4270.0      3973.0      4300.0   \n",
       "99800        347.0       335.0       305.0       283.0       270.0   \n",
       "53520        264.0       417.0       230.0      1002.0       406.0   \n",
       "80024          1.0         5.0         0.0         0.0         1.0   \n",
       "106799       107.0       107.0       117.0       107.0       111.0   \n",
       "\n",
       "        2015-07-07  2015-07-08  2015-07-09  ...  2016-12-22  2016-12-23  \\\n",
       "42042       4115.0      4028.0      3846.0  ...      4437.0      3676.0   \n",
       "99800        302.0       327.0       303.0  ...       421.0       391.0   \n",
       "53520        318.0       321.0       345.0  ...       450.0       442.0   \n",
       "80024          0.0         2.0         0.0  ...         1.0         0.0   \n",
       "106799       114.0       105.0       105.0  ...       339.0       387.0   \n",
       "\n",
       "        2016-12-24  2016-12-25  2016-12-26  2016-12-27  2016-12-28  \\\n",
       "42042       3226.0      3291.0      3836.0      4008.0      4092.0   \n",
       "99800        528.0       418.0       403.0       356.0       379.0   \n",
       "53520        335.0       373.0       914.0       728.0       961.0   \n",
       "80024          2.0         1.0         1.0         3.0         1.0   \n",
       "106799       178.0       179.0       339.0       330.0       387.0   \n",
       "\n",
       "        2016-12-29  2016-12-30  2016-12-31  \n",
       "42042       3764.0      3719.0      3477.0  \n",
       "99800        388.0       365.0       243.0  \n",
       "53520       1648.0       501.0       500.0  \n",
       "80024          2.0         1.0         1.0  \n",
       "106799       342.0       524.0       218.0  \n",
       "\n",
       "[5 rows x 551 columns]"
      ]
     },
     "execution_count": 207,
     "metadata": {},
     "output_type": "execute_result"
    }
   ],
   "source": [
    "df_sample.head()"
   ]
  },
  {
   "cell_type": "markdown",
   "metadata": {},
   "source": [
    "Now melt the dataframe"
   ]
  },
  {
   "cell_type": "code",
   "execution_count": 208,
   "metadata": {},
   "outputs": [],
   "source": [
    "melted= df_sample.melt(id_vars='Page',var_name='Date' , value_name= 'Visits')"
   ]
  },
  {
   "cell_type": "markdown",
   "metadata": {},
   "source": [
    "Let's check out the melted dataframe"
   ]
  },
  {
   "cell_type": "code",
   "execution_count": 209,
   "metadata": {},
   "outputs": [
    {
     "data": {
      "text/html": [
       "<div>\n",
       "<style scoped>\n",
       "    .dataframe tbody tr th:only-of-type {\n",
       "        vertical-align: middle;\n",
       "    }\n",
       "\n",
       "    .dataframe tbody tr th {\n",
       "        vertical-align: top;\n",
       "    }\n",
       "\n",
       "    .dataframe thead th {\n",
       "        text-align: right;\n",
       "    }\n",
       "</style>\n",
       "<table border=\"1\" class=\"dataframe\">\n",
       "  <thead>\n",
       "    <tr style=\"text-align: right;\">\n",
       "      <th></th>\n",
       "      <th>Page</th>\n",
       "      <th>Date</th>\n",
       "      <th>Visits</th>\n",
       "    </tr>\n",
       "  </thead>\n",
       "  <tbody>\n",
       "    <tr>\n",
       "      <th>0</th>\n",
       "      <td>Luis_Suárez_en.wikipedia.org_all-access_all-ag...</td>\n",
       "      <td>2015-07-01</td>\n",
       "      <td>4261.0</td>\n",
       "    </tr>\n",
       "    <tr>\n",
       "      <th>1</th>\n",
       "      <td>Фрейзер,_Джо_ru.wikipedia.org_all-access_all-a...</td>\n",
       "      <td>2015-07-01</td>\n",
       "      <td>291.0</td>\n",
       "    </tr>\n",
       "    <tr>\n",
       "      <th>2</th>\n",
       "      <td>Dr_House_fr.wikipedia.org_mobile-web_all-agents</td>\n",
       "      <td>2015-07-01</td>\n",
       "      <td>304.0</td>\n",
       "    </tr>\n",
       "    <tr>\n",
       "      <th>3</th>\n",
       "      <td>File:Penny_black.jpg_commons.wikimedia.org_mob...</td>\n",
       "      <td>2015-07-01</td>\n",
       "      <td>0.0</td>\n",
       "    </tr>\n",
       "    <tr>\n",
       "      <th>4</th>\n",
       "      <td>射鵰英雄傳_(2008年電視劇)_zh.wikipedia.org_mobile-web_a...</td>\n",
       "      <td>2015-07-01</td>\n",
       "      <td>121.0</td>\n",
       "    </tr>\n",
       "    <tr>\n",
       "      <th>5</th>\n",
       "      <td>Steyr_(Traktorenhersteller)_de.wikipedia.org_d...</td>\n",
       "      <td>2015-07-01</td>\n",
       "      <td>58.0</td>\n",
       "    </tr>\n",
       "    <tr>\n",
       "      <th>6</th>\n",
       "      <td>Category:Nude_in_photography_commons.wikimedia...</td>\n",
       "      <td>2015-07-01</td>\n",
       "      <td>98.0</td>\n",
       "    </tr>\n",
       "    <tr>\n",
       "      <th>7</th>\n",
       "      <td>張善為_zh.wikipedia.org_all-access_spider</td>\n",
       "      <td>2015-07-01</td>\n",
       "      <td>1.0</td>\n",
       "    </tr>\n",
       "    <tr>\n",
       "      <th>8</th>\n",
       "      <td>Bahlika_en.wikipedia.org_all-access_all-agents</td>\n",
       "      <td>2015-07-01</td>\n",
       "      <td>11.0</td>\n",
       "    </tr>\n",
       "    <tr>\n",
       "      <th>9</th>\n",
       "      <td>Ronaldinho_es.wikipedia.org_desktop_all-agents</td>\n",
       "      <td>2015-07-01</td>\n",
       "      <td>2804.0</td>\n",
       "    </tr>\n",
       "  </tbody>\n",
       "</table>\n",
       "</div>"
      ],
      "text/plain": [
       "                                                Page        Date  Visits\n",
       "0  Luis_Suárez_en.wikipedia.org_all-access_all-ag...  2015-07-01  4261.0\n",
       "1  Фрейзер,_Джо_ru.wikipedia.org_all-access_all-a...  2015-07-01   291.0\n",
       "2    Dr_House_fr.wikipedia.org_mobile-web_all-agents  2015-07-01   304.0\n",
       "3  File:Penny_black.jpg_commons.wikimedia.org_mob...  2015-07-01     0.0\n",
       "4  射鵰英雄傳_(2008年電視劇)_zh.wikipedia.org_mobile-web_a...  2015-07-01   121.0\n",
       "5  Steyr_(Traktorenhersteller)_de.wikipedia.org_d...  2015-07-01    58.0\n",
       "6  Category:Nude_in_photography_commons.wikimedia...  2015-07-01    98.0\n",
       "7             張善為_zh.wikipedia.org_all-access_spider  2015-07-01     1.0\n",
       "8     Bahlika_en.wikipedia.org_all-access_all-agents  2015-07-01    11.0\n",
       "9     Ronaldinho_es.wikipedia.org_desktop_all-agents  2015-07-01  2804.0"
      ]
     },
     "execution_count": 209,
     "metadata": {},
     "output_type": "execute_result"
    }
   ],
   "source": [
    "melted.head(10)"
   ]
  },
  {
   "cell_type": "markdown",
   "metadata": {},
   "source": [
    "## Splitting the data:"
   ]
  },
  {
   "cell_type": "markdown",
   "metadata": {},
   "source": [
    "Split the data into training and validation set"
   ]
  },
  {
   "cell_type": "code",
   "execution_count": 210,
   "metadata": {},
   "outputs": [],
   "source": [
    "melted['DateTime'] = pd.to_datetime(melted['Date'])"
   ]
  },
  {
   "cell_type": "code",
   "execution_count": 211,
   "metadata": {},
   "outputs": [
    {
     "data": {
      "text/plain": [
       "('2015-07-01', '2016-12-31')"
      ]
     },
     "execution_count": 211,
     "metadata": {},
     "output_type": "execute_result"
    }
   ],
   "source": [
    "melted.Date.min(), melted.Date.max()"
   ]
  },
  {
   "cell_type": "code",
   "execution_count": 212,
   "metadata": {},
   "outputs": [],
   "source": [
    "earliest_date=melted.DateTime.min()\n",
    "melted['time_step'] = (melted['DateTime'] - earliest_date).dt.days"
   ]
  },
  {
   "cell_type": "code",
   "execution_count": 213,
   "metadata": {},
   "outputs": [
    {
     "data": {
      "text/html": [
       "<div>\n",
       "<style scoped>\n",
       "    .dataframe tbody tr th:only-of-type {\n",
       "        vertical-align: middle;\n",
       "    }\n",
       "\n",
       "    .dataframe tbody tr th {\n",
       "        vertical-align: top;\n",
       "    }\n",
       "\n",
       "    .dataframe thead th {\n",
       "        text-align: right;\n",
       "    }\n",
       "</style>\n",
       "<table border=\"1\" class=\"dataframe\">\n",
       "  <thead>\n",
       "    <tr style=\"text-align: right;\">\n",
       "      <th></th>\n",
       "      <th>Page</th>\n",
       "      <th>Date</th>\n",
       "      <th>Visits</th>\n",
       "      <th>DateTime</th>\n",
       "      <th>time_step</th>\n",
       "    </tr>\n",
       "  </thead>\n",
       "  <tbody>\n",
       "    <tr>\n",
       "      <th>274995</th>\n",
       "      <td>スタジオジブリ_ja.wikipedia.org_all-access_all-agents</td>\n",
       "      <td>2016-12-31</td>\n",
       "      <td>1125.0</td>\n",
       "      <td>2016-12-31</td>\n",
       "      <td>549</td>\n",
       "    </tr>\n",
       "    <tr>\n",
       "      <th>274996</th>\n",
       "      <td>Печенеги_ru.wikipedia.org_all-access_all-agents</td>\n",
       "      <td>2016-12-31</td>\n",
       "      <td>1509.0</td>\n",
       "      <td>2016-12-31</td>\n",
       "      <td>549</td>\n",
       "    </tr>\n",
       "    <tr>\n",
       "      <th>274997</th>\n",
       "      <td>Boy_George_en.wikipedia.org_mobile-web_all-agents</td>\n",
       "      <td>2016-12-31</td>\n",
       "      <td>5228.0</td>\n",
       "      <td>2016-12-31</td>\n",
       "      <td>549</td>\n",
       "    </tr>\n",
       "    <tr>\n",
       "      <th>274998</th>\n",
       "      <td>Decathlon_en.wikipedia.org_mobile-web_all-agents</td>\n",
       "      <td>2016-12-31</td>\n",
       "      <td>812.0</td>\n",
       "      <td>2016-12-31</td>\n",
       "      <td>549</td>\n",
       "    </tr>\n",
       "    <tr>\n",
       "      <th>274999</th>\n",
       "      <td>Saroo_Brierley_en.wikipedia.org_desktop_all-ag...</td>\n",
       "      <td>2016-12-31</td>\n",
       "      <td>2187.0</td>\n",
       "      <td>2016-12-31</td>\n",
       "      <td>549</td>\n",
       "    </tr>\n",
       "  </tbody>\n",
       "</table>\n",
       "</div>"
      ],
      "text/plain": [
       "                                                     Page        Date  Visits  \\\n",
       "274995     スタジオジブリ_ja.wikipedia.org_all-access_all-agents  2016-12-31  1125.0   \n",
       "274996    Печенеги_ru.wikipedia.org_all-access_all-agents  2016-12-31  1509.0   \n",
       "274997  Boy_George_en.wikipedia.org_mobile-web_all-agents  2016-12-31  5228.0   \n",
       "274998   Decathlon_en.wikipedia.org_mobile-web_all-agents  2016-12-31   812.0   \n",
       "274999  Saroo_Brierley_en.wikipedia.org_desktop_all-ag...  2016-12-31  2187.0   \n",
       "\n",
       "         DateTime  time_step  \n",
       "274995 2016-12-31        549  \n",
       "274996 2016-12-31        549  \n",
       "274997 2016-12-31        549  \n",
       "274998 2016-12-31        549  \n",
       "274999 2016-12-31        549  "
      ]
     },
     "execution_count": 213,
     "metadata": {},
     "output_type": "execute_result"
    }
   ],
   "source": [
    "melted.tail()"
   ]
  },
  {
   "cell_type": "markdown",
   "metadata": {},
   "source": [
    "Rename some columns before splitting"
   ]
  },
  {
   "cell_type": "code",
   "execution_count": 214,
   "metadata": {},
   "outputs": [],
   "source": [
    "# Renaming columns inplace\n",
    "melted.rename(columns={'DateTime': 'ds', 'Visits': 'y','Page':'page'}, inplace=True)"
   ]
  },
  {
   "cell_type": "markdown",
   "metadata": {},
   "source": [
    "Use the last month data as validation data"
   ]
  },
  {
   "cell_type": "code",
   "execution_count": 215,
   "metadata": {},
   "outputs": [],
   "source": [
    "train=melted[melted['time_step']<520].copy()\n",
    "valid=melted[melted['time_step']>=520].copy()"
   ]
  },
  {
   "cell_type": "code",
   "execution_count": 216,
   "metadata": {},
   "outputs": [],
   "source": [
    "train=train[['ds','y','page']]\n",
    "valid=valid[['ds','y','page']]"
   ]
  },
  {
   "cell_type": "markdown",
   "metadata": {},
   "source": [
    "## Training `Prophet` model:"
   ]
  },
  {
   "cell_type": "code",
   "execution_count": 217,
   "metadata": {},
   "outputs": [],
   "source": [
    "# p=list()\n",
    "\n",
    "# for page in train['page'].unique():\n",
    "#     print(f'Page:{page}')\n",
    "    \n",
    "#     # get training and validation set\n",
    "#     train_= train.loc[train['page']== page]\n",
    "#     valid_= valid.loc[valid['page']== page]\n",
    "\n",
    "#     # build model\n",
    "#     m= Prophet(seasonality_mode='additive', yearly_seasonality=False, \n",
    "#                 weekly_seasonality=True, daily_seasonality=True)\n",
    "    \n",
    "#     # train the model\n",
    "#     m.fit(train_)\n",
    "\n",
    "#     # create future\n",
    "#     future = m.make_future_dataframe(periods=valid_.shape[0], include_history=False)\n",
    "#     forecast= m.predict(future)\n",
    "#     forecast= m.predict(future)\n",
    "#     forecast['page']=page\n",
    "#     p.append(forecast[['ds', 'yhat', 'page']])\n",
    "\n"
   ]
  },
  {
   "cell_type": "code",
   "execution_count": 218,
   "metadata": {},
   "outputs": [],
   "source": [
    "# p = pd.concat(p, ignore_index=True)\n",
    "# p['yhat'] = p['yhat'].clip(lower=0)\n",
    "# p = p.merge(valid, on=['ds', 'page'], how='left')"
   ]
  },
  {
   "cell_type": "markdown",
   "metadata": {},
   "source": [
    "Calculate performance"
   ]
  },
  {
   "cell_type": "code",
   "execution_count": 219,
   "metadata": {},
   "outputs": [],
   "source": [
    "def smape(actual, forecast):\n",
    "    result = 1/len(actual) * np.sum(2*np.abs(forecast-actual) / (np.abs(actual) + np.abs(forecast))*100)\n",
    "    return result"
   ]
  },
  {
   "cell_type": "code",
   "execution_count": 220,
   "metadata": {},
   "outputs": [],
   "source": [
    "# smape(p['y'], p['yhat'])"
   ]
  },
  {
   "cell_type": "code",
   "execution_count": 221,
   "metadata": {},
   "outputs": [
    {
     "data": {
      "text/plain": [
       "(15000, 3)"
      ]
     },
     "execution_count": 221,
     "metadata": {},
     "output_type": "execute_result"
    }
   ],
   "source": [
    "valid.shape"
   ]
  },
  {
   "cell_type": "markdown",
   "metadata": {},
   "source": [
    "Let's plot our predictions"
   ]
  },
  {
   "cell_type": "code",
   "execution_count": 222,
   "metadata": {},
   "outputs": [],
   "source": [
    "# fig, ax = plt.subplots(3,2, figsize=(1280/96, 720/96), dpi=96)\n",
    "# ax = ax.flatten()\n",
    "# for ax_ ,family in enumerate(p['page'].unique()[:6]):\n",
    "#     p_ = p.loc[p['page'] == family]\n",
    "#     p_.plot(x='ds', y='y', ax=ax[ax_], label='Visits')\n",
    "#     p_.plot(x='ds', y='yhat', ax=ax[ax_], label='Forecast')\n",
    "#     ax[ax_].set_title(family)\n",
    "#     ax[ax_].legend()\n",
    "#     ax[ax_].set_xlabel('Date')\n",
    "#     ax[ax_].set_ylabel('Sales')\n",
    "# fig.tight_layout()\n",
    "# plt.show()"
   ]
  },
  {
   "cell_type": "markdown",
   "metadata": {},
   "source": [
    "## Parallelize `Prophet`"
   ]
  },
  {
   "cell_type": "code",
   "execution_count": 228,
   "metadata": {},
   "outputs": [],
   "source": [
    "def run_one(train_, valid_, page):\n",
    "    print(f'Page:{page}')  \n",
    "\n",
    "    # build model\n",
    "    m= Prophet(seasonality_mode='additive', yearly_seasonality=True, \n",
    "                weekly_seasonality=True, daily_seasonality=False)\n",
    "    \n",
    "    # train the model\n",
    "    m.fit(train_)\n",
    "\n",
    "    # create future\n",
    "    future = m.make_future_dataframe(periods=valid_.shape[0], include_history=False)\n",
    "    forecast= m.predict(future)\n",
    "    forecast= m.predict(future)\n",
    "    forecast['page']=page\n",
    "    return forecast[['ds', 'yhat', 'page']]"
   ]
  },
  {
   "cell_type": "markdown",
   "metadata": {},
   "source": [
    "Create a list of jobs"
   ]
  },
  {
   "cell_type": "code",
   "execution_count": 229,
   "metadata": {},
   "outputs": [],
   "source": [
    "jobs = list()\n",
    "for page in train['page'].unique():\n",
    "    train_= train.loc[train['page']== page]\n",
    "    valid_= valid.loc[valid['page']== page]\n",
    "    jobs.append(delayed(run_one)(train_, valid_, page))"
   ]
  },
  {
   "cell_type": "markdown",
   "metadata": {},
   "source": [
    "Run parallel jobs"
   ]
  },
  {
   "cell_type": "code",
   "execution_count": 230,
   "metadata": {},
   "outputs": [
    {
     "name": "stdout",
     "output_type": "stream",
     "text": [
      "Page:Luis_Suárez_en.wikipedia.org_all-access_all-agents\n",
      "Page:Фрейзер,_Джо_ru.wikipedia.org_all-access_all-agents\n",
      "Page:Dr_House_fr.wikipedia.org_mobile-web_all-agents\n",
      "Page:File:Penny_black.jpg_commons.wikimedia.org_mobile-web_all-agents\n",
      "Page:射鵰英雄傳_(2008年電視劇)_zh.wikipedia.org_mobile-web_all-agents\n",
      "Page:Steyr_(Traktorenhersteller)_de.wikipedia.org_desktop_all-agents\n",
      "Page:Category:Nude_in_photography_commons.wikimedia.org_desktop_all-agents\n",
      "Page:張善為_zh.wikipedia.org_all-access_spider\n"
     ]
    },
    {
     "name": "stderr",
     "output_type": "stream",
     "text": [
      "00:14:34 - cmdstanpy - INFO - Chain [1] start processing\n",
      "00:14:34 - cmdstanpy - INFO - Chain [1] start processing\n",
      "00:14:34 - cmdstanpy - INFO - Chain [1] start processing\n",
      "00:14:34 - cmdstanpy - INFO - Chain [1] done processing\n",
      "00:14:34 - cmdstanpy - INFO - Chain [1] start processing\n",
      "00:14:34 - cmdstanpy - INFO - Chain [1] done processing\n",
      "00:14:34 - cmdstanpy - INFO - Chain [1] done processing\n",
      "00:14:34 - cmdstanpy - INFO - Chain [1] done processing\n",
      "00:14:34 - cmdstanpy - INFO - Chain [1] start processing\n",
      "00:14:34 - cmdstanpy - INFO - Chain [1] start processing\n",
      "00:14:34 - cmdstanpy - INFO - Chain [1] start processing\n",
      "00:14:34 - cmdstanpy - INFO - Chain [1] done processing\n",
      "00:14:34 - cmdstanpy - INFO - Chain [1] start processing\n",
      "00:14:34 - cmdstanpy - INFO - Chain [1] done processing\n",
      "00:14:34 - cmdstanpy - INFO - Chain [1] done processing\n",
      "00:14:34 - cmdstanpy - INFO - Chain [1] done processing\n"
     ]
    },
    {
     "name": "stdout",
     "output_type": "stream",
     "text": [
      "Page:Bahlika_en.wikipedia.org_all-access_all-agents\n",
      "Page:Объединённая_команда_ru.wikipedia.org_desktop_all-agents\n",
      "Page:Holocaust_de.wikipedia.org_all-access_spider\n",
      "Page:Kaley_Cuoco_fr.wikipedia.org_all-access_spider\n",
      "Page:Ronaldinho_es.wikipedia.org_desktop_all-agents\n",
      "Page:Niños_Héroes_es.wikipedia.org_all-access_spider\n",
      "Page:速水もこみち_ja.wikipedia.org_mobile-web_all-agents\n",
      "Page:Empire_(2015_TV_series)_en.wikipedia.org_mobile-web_all-agents\n"
     ]
    },
    {
     "name": "stderr",
     "output_type": "stream",
     "text": [
      "00:14:35 - cmdstanpy - INFO - Chain [1] start processing\n",
      "00:14:35 - cmdstanpy - INFO - Chain [1] start processing\n",
      "00:14:35 - cmdstanpy - INFO - Chain [1] done processing\n",
      "00:14:35 - cmdstanpy - INFO - Chain [1] start processing\n",
      "00:14:35 - cmdstanpy - INFO - Chain [1] start processing\n",
      "00:14:35 - cmdstanpy - INFO - Chain [1] done processing\n",
      "00:14:35 - cmdstanpy - INFO - Chain [1] done processing\n",
      "00:14:35 - cmdstanpy - INFO - Chain [1] done processing\n",
      "00:14:35 - cmdstanpy - INFO - Chain [1] start processing\n",
      "00:14:35 - cmdstanpy - INFO - Chain [1] start processing\n",
      "00:14:35 - cmdstanpy - INFO - Chain [1] start processing\n",
      "00:14:35 - cmdstanpy - INFO - Chain [1] start processing\n",
      "00:14:35 - cmdstanpy - INFO - Chain [1] done processing\n",
      "00:14:35 - cmdstanpy - INFO - Chain [1] done processing\n",
      "00:14:35 - cmdstanpy - INFO - Chain [1] done processing\n",
      "00:14:35 - cmdstanpy - INFO - Chain [1] done processing\n",
      "00:14:35 - cmdstanpy - INFO - Chain [1] start processing\n",
      "00:14:35 - cmdstanpy - INFO - Chain [1] start processing\n"
     ]
    },
    {
     "name": "stdout",
     "output_type": "stream",
     "text": [
      "Page:Partei_der_Nichtwähler_de.wikipedia.org_mobile-web_all-agents\n",
      "Page:2016年歐洲國家盃外圍賽_zh.wikipedia.org_desktop_all-agents\n",
      "Page:Новикова,_Клара_Борисовна_ru.wikipedia.org_all-access_spider\n",
      "Page:Ray_Kroc_en.wikipedia.org_all-access_all-agents\n",
      "Page:Étoile_fr.wikipedia.org_all-access_all-agents\n",
      "Page:Category:Gay_sex_in_threesome_with_one_woman_and_two_men_commons.wikimedia.org_all-access_all-agents\n",
      "Page:Sigmund_Freud_de.wikipedia.org_all-access_spider\n",
      "Page:The_Nice_Guys_en.wikipedia.org_all-access_spider\n",
      "Page:Saison_6_de_The_Walking_Dead_fr.wikipedia.org_mobile-web_all-agents\n",
      "Page:O・J・シンプソン_ja.wikipedia.org_desktop_all-agents\n",
      "Page:Empire_byzantin_fr.wikipedia.org_desktop_all-agents\n",
      "Page:Kurt_Cobain_fr.wikipedia.org_all-access_spider\n"
     ]
    },
    {
     "name": "stderr",
     "output_type": "stream",
     "text": [
      "00:14:35 - cmdstanpy - INFO - Chain [1] start processing\n",
      "00:14:35 - cmdstanpy - INFO - Chain [1] done processing\n",
      "00:14:35 - cmdstanpy - INFO - Chain [1] start processing\n",
      "00:14:35 - cmdstanpy - INFO - Chain [1] done processing\n",
      "00:14:35 - cmdstanpy - INFO - Chain [1] done processing\n",
      "00:14:35 - cmdstanpy - INFO - Chain [1] done processing\n",
      "00:14:35 - cmdstanpy - INFO - Chain [1] start processing\n",
      "00:14:35 - cmdstanpy - INFO - Chain [1] start processing\n",
      "00:14:35 - cmdstanpy - INFO - Chain [1] done processing\n",
      "00:14:35 - cmdstanpy - INFO - Chain [1] start processing\n",
      "00:14:35 - cmdstanpy - INFO - Chain [1] start processing\n",
      "00:14:35 - cmdstanpy - INFO - Chain [1] done processing\n",
      "00:14:35 - cmdstanpy - INFO - Chain [1] done processing\n",
      "00:14:35 - cmdstanpy - INFO - Chain [1] done processing\n",
      "00:14:35 - cmdstanpy - INFO - Chain [1] start processing\n",
      "00:14:35 - cmdstanpy - INFO - Chain [1] start processing\n",
      "00:14:35 - cmdstanpy - INFO - Chain [1] start processing\n",
      "00:14:35 - cmdstanpy - INFO - Chain [1] start processing\n",
      "00:14:35 - cmdstanpy - INFO - Chain [1] done processing\n",
      "00:14:35 - cmdstanpy - INFO - Chain [1] done processing\n",
      "00:14:35 - cmdstanpy - INFO - Chain [1] done processing\n",
      "00:14:35 - cmdstanpy - INFO - Chain [1] done processing\n",
      "00:14:35 - cmdstanpy - INFO - Chain [1] start processing\n",
      "00:14:35 - cmdstanpy - INFO - Chain [1] start processing\n",
      "00:14:35 - cmdstanpy - INFO - Chain [1] start processing\n",
      "00:14:35 - cmdstanpy - INFO - Chain [1] done processing\n",
      "00:14:35 - cmdstanpy - INFO - Chain [1] start processing\n",
      "00:14:35 - cmdstanpy - INFO - Chain [1] done processing\n",
      "00:14:35 - cmdstanpy - INFO - Chain [1] done processing\n",
      "00:14:35 - cmdstanpy - INFO - Chain [1] done processing\n",
      "00:14:35 - cmdstanpy - INFO - Chain [1] start processing\n",
      "00:14:35 - cmdstanpy - INFO - Chain [1] start processing\n",
      "00:14:35 - cmdstanpy - INFO - Chain [1] done processing\n",
      "00:14:35 - cmdstanpy - INFO - Chain [1] start processing\n",
      "00:14:35 - cmdstanpy - INFO - Chain [1] done processing\n",
      "00:14:35 - cmdstanpy - INFO - Chain [1] start processing\n",
      "00:14:35 - cmdstanpy - INFO - Chain [1] done processing\n",
      "00:14:35 - cmdstanpy - INFO - Chain [1] done processing\n"
     ]
    },
    {
     "name": "stdout",
     "output_type": "stream",
     "text": [
      "Page:加島銀行_ja.wikipedia.org_all-access_all-agents\n",
      "Page:Gilmore_Girls_de.wikipedia.org_desktop_all-agents\n",
      "Page:Category:Lesbic_sex_in_art_commons.wikimedia.org_mobile-web_all-agents\n",
      "Page:Bonez_MC_de.wikipedia.org_all-access_all-agents\n",
      "Page:Бабаян,_Роксана_Рубеновна_ru.wikipedia.org_desktop_all-agents\n",
      "Page:Kon-Tiki_de.wikipedia.org_all-access_spider\n",
      "Page:亀田大毅_ja.wikipedia.org_all-access_spider\n",
      "Page:12-часовой_формат_времени_ru.wikipedia.org_mobile-web_all-agents\n",
      "Page:趙又廷_zh.wikipedia.org_all-access_spider\n",
      "Page:Charles_de_Gaulle_fr.wikipedia.org_all-access_spider\n",
      "Page:Ricardo_Quaresma_de.wikipedia.org_all-access_spider\n"
     ]
    },
    {
     "name": "stderr",
     "output_type": "stream",
     "text": [
      "00:14:35 - cmdstanpy - INFO - Chain [1] start processing\n",
      "00:14:35 - cmdstanpy - INFO - Chain [1] done processing\n",
      "00:14:35 - cmdstanpy - INFO - Chain [1] start processing\n",
      "00:14:35 - cmdstanpy - INFO - Chain [1] start processing\n",
      "00:14:35 - cmdstanpy - INFO - Chain [1] done processing\n",
      "00:14:35 - cmdstanpy - INFO - Chain [1] done processing\n",
      "00:14:35 - cmdstanpy - INFO - Chain [1] start processing\n",
      "00:14:35 - cmdstanpy - INFO - Chain [1] done processing\n",
      "00:14:35 - cmdstanpy - INFO - Chain [1] start processing\n",
      "00:14:35 - cmdstanpy - INFO - Chain [1] done processing\n",
      "00:14:35 - cmdstanpy - INFO - Chain [1] start processing\n",
      "00:14:35 - cmdstanpy - INFO - Chain [1] start processing\n",
      "00:14:35 - cmdstanpy - INFO - Chain [1] done processing\n",
      "00:14:35 - cmdstanpy - INFO - Chain [1] start processing\n",
      "00:14:35 - cmdstanpy - INFO - Chain [1] done processing\n",
      "00:14:35 - cmdstanpy - INFO - Chain [1] done processing\n",
      "00:14:35 - cmdstanpy - INFO - Chain [1] start processing\n",
      "00:14:35 - cmdstanpy - INFO - Chain [1] start processing\n",
      "00:14:35 - cmdstanpy - INFO - Chain [1] start processing\n",
      "00:14:35 - cmdstanpy - INFO - Chain [1] done processing\n"
     ]
    },
    {
     "name": "stdout",
     "output_type": "stream",
     "text": [
      "Page:Hip-Hop_(Subkultur)_de.wikipedia.org_all-access_all-agents\n",
      "Page:Aimé_Jacquet_fr.wikipedia.org_all-access_spider\n",
      "Page:フラッシュモブ_ja.wikipedia.org_all-access_spider\n",
      "Page:Эдкинс,_Скотт_ru.wikipedia.org_all-access_spider\n",
      "Page:Urraca_I_de_León_es.wikipedia.org_all-access_all-agents\n",
      "Page:袁偉豪_zh.wikipedia.org_all-access_spider\n",
      "Page:Briefkastengesellschaft_de.wikipedia.org_mobile-web_all-agents\n",
      "Page:觀世音菩薩_zh.wikipedia.org_all-access_all-agents\n",
      "Page:День_сурка_ru.wikipedia.org_mobile-web_all-agents\n"
     ]
    },
    {
     "name": "stderr",
     "output_type": "stream",
     "text": [
      "00:14:35 - cmdstanpy - INFO - Chain [1] done processing\n",
      "00:14:35 - cmdstanpy - INFO - Chain [1] start processing\n",
      "00:14:35 - cmdstanpy - INFO - Chain [1] done processing\n",
      "00:14:35 - cmdstanpy - INFO - Chain [1] done processing\n",
      "00:14:35 - cmdstanpy - INFO - Chain [1] start processing\n",
      "00:14:35 - cmdstanpy - INFO - Chain [1] start processing\n",
      "00:14:35 - cmdstanpy - INFO - Chain [1] done processing\n",
      "00:14:35 - cmdstanpy - INFO - Chain [1] start processing\n",
      "00:14:35 - cmdstanpy - INFO - Chain [1] done processing\n",
      "00:14:35 - cmdstanpy - INFO - Chain [1] start processing\n",
      "00:14:35 - cmdstanpy - INFO - Chain [1] done processing\n",
      "00:14:35 - cmdstanpy - INFO - Chain [1] done processing\n",
      "00:14:35 - cmdstanpy - INFO - Chain [1] start processing\n",
      "00:14:35 - cmdstanpy - INFO - Chain [1] start processing\n",
      "00:14:36 - cmdstanpy - INFO - Chain [1] done processing\n",
      "00:14:36 - cmdstanpy - INFO - Chain [1] start processing\n",
      "00:14:36 - cmdstanpy - INFO - Chain [1] start processing\n",
      "00:14:36 - cmdstanpy - INFO - Chain [1] done processing\n",
      "00:14:36 - cmdstanpy - INFO - Chain [1] done processing\n"
     ]
    },
    {
     "name": "stdout",
     "output_type": "stream",
     "text": [
      "Page:Gisele_Bündchen_fr.wikipedia.org_all-access_spider\n",
      "Page:丹下桜_ja.wikipedia.org_all-access_spider\n",
      "Page:市川実日子_ja.wikipedia.org_desktop_all-agents\n",
      "Page:Franklin_Delano_Roosevelt_fr.wikipedia.org_all-access_all-agents\n",
      "Page:ワンパンマン_ja.wikipedia.org_mobile-web_all-agents\n",
      "Page:Ley_es.wikipedia.org_all-access_all-agents\n",
      "Page:Juan_Martín_del_Potro_en.wikipedia.org_all-access_all-agents\n",
      "Page:Google_de.wikipedia.org_desktop_all-agents\n",
      "Page:Are_You_the_One?_en.wikipedia.org_all-access_spider\n",
      "Page:庄司哲郎_ja.wikipedia.org_all-access_all-agents\n",
      "Page:The_100_es.wikipedia.org_desktop_all-agents\n"
     ]
    },
    {
     "name": "stderr",
     "output_type": "stream",
     "text": [
      "00:14:36 - cmdstanpy - INFO - Chain [1] done processing\n",
      "00:14:36 - cmdstanpy - INFO - Chain [1] start processing\n",
      "00:14:36 - cmdstanpy - INFO - Chain [1] start processing\n",
      "00:14:36 - cmdstanpy - INFO - Chain [1] start processing\n",
      "00:14:36 - cmdstanpy - INFO - Chain [1] done processing\n",
      "00:14:36 - cmdstanpy - INFO - Chain [1] done processing\n",
      "00:14:36 - cmdstanpy - INFO - Chain [1] start processing\n",
      "00:14:36 - cmdstanpy - INFO - Chain [1] done processing\n",
      "00:14:36 - cmdstanpy - INFO - Chain [1] done processing\n",
      "00:14:36 - cmdstanpy - INFO - Chain [1] start processing\n",
      "00:14:36 - cmdstanpy - INFO - Chain [1] start processing\n",
      "00:14:36 - cmdstanpy - INFO - Chain [1] done processing\n",
      "00:14:36 - cmdstanpy - INFO - Chain [1] done processing\n",
      "00:14:36 - cmdstanpy - INFO - Chain [1] start processing\n",
      "00:14:36 - cmdstanpy - INFO - Chain [1] start processing\n",
      "00:14:36 - cmdstanpy - INFO - Chain [1] done processing\n",
      "00:14:36 - cmdstanpy - INFO - Chain [1] done processing\n"
     ]
    },
    {
     "name": "stdout",
     "output_type": "stream",
     "text": [
      "Page:Ceuta_de.wikipedia.org_desktop_all-agents\n",
      "Page:Viscosidad_es.wikipedia.org_mobile-web_all-agents\n",
      "Page:C・W・ニコル_ja.wikipedia.org_mobile-web_all-agents\n",
      "Page:詹啟賢_zh.wikipedia.org_all-access_spiderPage:任天堂_ja.wikipedia.org_desktop_all-agents\n",
      "\n",
      "Page:Ophélie_Meunier_fr.wikipedia.org_all-access_spider\n",
      "Page:白成鉉_zh.wikipedia.org_mobile-web_all-agents\n",
      "Page:黃又南_zh.wikipedia.org_all-access_all-agents\n",
      "Page:Manual:$wgDefaultSkin_www.mediawiki.org_all-access_all-agents\n"
     ]
    },
    {
     "name": "stderr",
     "output_type": "stream",
     "text": [
      "00:14:36 - cmdstanpy - INFO - Chain [1] start processing\n",
      "00:14:36 - cmdstanpy - INFO - Chain [1] start processing\n",
      "00:14:36 - cmdstanpy - INFO - Chain [1] done processing\n",
      "00:14:36 - cmdstanpy - INFO - Chain [1] done processing\n",
      "00:14:36 - cmdstanpy - INFO - Chain [1] start processing\n",
      "00:14:36 - cmdstanpy - INFO - Chain [1] done processing\n",
      "00:14:36 - cmdstanpy - INFO - Chain [1] start processing\n",
      "00:14:36 - cmdstanpy - INFO - Chain [1] done processing\n",
      "00:14:36 - cmdstanpy - INFO - Chain [1] start processing\n",
      "00:14:36 - cmdstanpy - INFO - Chain [1] start processing\n",
      "00:14:36 - cmdstanpy - INFO - Chain [1] done processing\n",
      "00:14:36 - cmdstanpy - INFO - Chain [1] done processing\n",
      "00:14:36 - cmdstanpy - INFO - Chain [1] start processing\n",
      "00:14:36 - cmdstanpy - INFO - Chain [1] start processing\n",
      "00:14:36 - cmdstanpy - INFO - Chain [1] done processing\n",
      "00:14:36 - cmdstanpy - INFO - Chain [1] done processing\n",
      "00:14:36 - cmdstanpy - INFO - Chain [1] start processing\n",
      "00:14:36 - cmdstanpy - INFO - Chain [1] start processing\n",
      "00:14:36 - cmdstanpy - INFO - Chain [1] done processing\n",
      "00:14:36 - cmdstanpy - INFO - Chain [1] start processing\n",
      "00:14:36 - cmdstanpy - INFO - Chain [1] done processing\n"
     ]
    },
    {
     "name": "stdout",
     "output_type": "stream",
     "text": [
      "Page:Mayotte_fr.wikipedia.org_desktop_all-agents\n",
      "Page:Man_of_Steel_fr.wikipedia.org_mobile-web_all-agents\n",
      "Page:File:Da_Vinci_Studies_of_Embryos_Luc_Viatour.jpg_commons.wikimedia.org_desktop_all-agents\n",
      "Page:Tiritiri_Matangi_Island_en.wikipedia.org_all-access_all-agents\n",
      "Page:Tecnologías_de_la_información_y_la_comunicación_es.wikipedia.org_all-access_all-agents\n",
      "Page:Entreprise_fr.wikipedia.org_desktop_all-agents\n",
      "Page:費玉清_zh.wikipedia.org_desktop_all-agents\n",
      "Page:Order_of_the_British_Empire_de.wikipedia.org_all-access_spider\n",
      "Page:Net_cafe_refugee_en.wikipedia.org_all-access_all-agents\n",
      "Page:感恩节_zh.wikipedia.org_all-access_spider\n",
      "Page:Category:Quickie_(sex)_commons.wikimedia.org_mobile-web_all-agents\n"
     ]
    },
    {
     "name": "stderr",
     "output_type": "stream",
     "text": [
      "00:14:36 - cmdstanpy - INFO - Chain [1] start processing\n",
      "00:14:36 - cmdstanpy - INFO - Chain [1] done processing\n",
      "00:14:36 - cmdstanpy - INFO - Chain [1] done processing\n",
      "00:14:36 - cmdstanpy - INFO - Chain [1] start processing\n",
      "00:14:36 - cmdstanpy - INFO - Chain [1] start processing\n",
      "00:14:36 - cmdstanpy - INFO - Chain [1] done processing\n",
      "00:14:36 - cmdstanpy - INFO - Chain [1] done processing\n",
      "00:14:36 - cmdstanpy - INFO - Chain [1] start processing\n",
      "00:14:36 - cmdstanpy - INFO - Chain [1] start processing\n",
      "00:14:36 - cmdstanpy - INFO - Chain [1] done processing\n",
      "00:14:36 - cmdstanpy - INFO - Chain [1] done processing\n",
      "00:14:36 - cmdstanpy - INFO - Chain [1] start processing\n",
      "00:14:36 - cmdstanpy - INFO - Chain [1] start processing\n",
      "00:14:36 - cmdstanpy - INFO - Chain [1] done processing\n",
      "00:14:36 - cmdstanpy - INFO - Chain [1] done processing\n",
      "00:14:36 - cmdstanpy - INFO - Chain [1] start processing\n",
      "00:14:36 - cmdstanpy - INFO - Chain [1] start processing\n",
      "00:14:36 - cmdstanpy - INFO - Chain [1] done processing\n",
      "00:14:36 - cmdstanpy - INFO - Chain [1] done processing\n"
     ]
    },
    {
     "name": "stdout",
     "output_type": "stream",
     "text": [
      "Page:アレックス・ロドリゲス_ja.wikipedia.org_all-access_spider\n",
      "Page:Help:Links/ru_www.mediawiki.org_all-access_spider\n",
      "Page:Chris_Marques_fr.wikipedia.org_all-access_all-agents\n",
      "Page:胡鴻鈞_zh.wikipedia.org_all-access_all-agents\n",
      "Page:29._Juni_de.wikipedia.org_desktop_all-agents\n",
      "Page:Die_purpurnen_Flüsse_(Film)_de.wikipedia.org_mobile-web_all-agents\n",
      "Page:Тайвань_ru.wikipedia.org_all-access_spider\n",
      "Page:Список_покемонов_(52—101)_ru.wikipedia.org_mobile-web_all-agents\n",
      "Page:Angelique_Boyer_es.wikipedia.org_mobile-web_all-agents\n"
     ]
    },
    {
     "name": "stderr",
     "output_type": "stream",
     "text": [
      "00:14:36 - cmdstanpy - INFO - Chain [1] start processing\n",
      "00:14:36 - cmdstanpy - INFO - Chain [1] start processing\n",
      "00:14:36 - cmdstanpy - INFO - Chain [1] done processing\n",
      "00:14:36 - cmdstanpy - INFO - Chain [1] start processing\n",
      "00:14:36 - cmdstanpy - INFO - Chain [1] done processing\n",
      "00:14:36 - cmdstanpy - INFO - Chain [1] start processing\n",
      "00:14:36 - cmdstanpy - INFO - Chain [1] done processing\n",
      "00:14:36 - cmdstanpy - INFO - Chain [1] start processing\n",
      "00:14:36 - cmdstanpy - INFO - Chain [1] done processing\n",
      "00:14:36 - cmdstanpy - INFO - Chain [1] start processing\n",
      "00:14:36 - cmdstanpy - INFO - Chain [1] done processing\n",
      "00:14:36 - cmdstanpy - INFO - Chain [1] start processing\n",
      "00:14:36 - cmdstanpy - INFO - Chain [1] done processing\n",
      "00:14:36 - cmdstanpy - INFO - Chain [1] start processing\n",
      "00:14:36 - cmdstanpy - INFO - Chain [1] done processing\n",
      "00:14:36 - cmdstanpy - INFO - Chain [1] done processing\n",
      "00:14:36 - cmdstanpy - INFO - Chain [1] start processing\n",
      "00:14:36 - cmdstanpy - INFO - Chain [1] done processing\n",
      "00:14:36 - cmdstanpy - INFO - Chain [1] start processing\n"
     ]
    },
    {
     "name": "stdout",
     "output_type": "stream",
     "text": [
      "Page:Mont_Rushmore_fr.wikipedia.org_all-access_spider\n",
      "Page:Люди_Икс_(фильм)_ru.wikipedia.org_mobile-web_all-agents\n",
      "Page:近似_zh.wikipedia.org_desktop_all-agents\n",
      "Page:杉田あきひろ_ja.wikipedia.org_all-access_all-agents\n",
      "Page:松本利夫_ja.wikipedia.org_all-access_spider\n",
      "Page:Gmail_fr.wikipedia.org_mobile-web_all-agents\n",
      "Page:Elecciones_presidenciales_de_Estados_Unidos_de_2008_es.wikipedia.org_all-access_spider\n",
      "Page:Thanksgiving_(United_States)_en.wikipedia.org_all-access_spider\n",
      "Page:Electromagnetismo_es.wikipedia.org_desktop_all-agents\n"
     ]
    },
    {
     "name": "stderr",
     "output_type": "stream",
     "text": [
      "00:14:36 - cmdstanpy - INFO - Chain [1] done processing\n",
      "00:14:36 - cmdstanpy - INFO - Chain [1] start processing\n",
      "00:14:36 - cmdstanpy - INFO - Chain [1] start processing\n",
      "00:14:36 - cmdstanpy - INFO - Chain [1] done processing\n",
      "00:14:36 - cmdstanpy - INFO - Chain [1] done processing\n",
      "00:14:36 - cmdstanpy - INFO - Chain [1] start processing\n",
      "00:14:36 - cmdstanpy - INFO - Chain [1] done processing\n",
      "00:14:36 - cmdstanpy - INFO - Chain [1] start processing\n",
      "00:14:36 - cmdstanpy - INFO - Chain [1] done processing\n",
      "00:14:36 - cmdstanpy - INFO - Chain [1] start processing\n",
      "00:14:36 - cmdstanpy - INFO - Chain [1] start processing\n",
      "00:14:36 - cmdstanpy - INFO - Chain [1] done processing\n",
      "00:14:36 - cmdstanpy - INFO - Chain [1] done processing\n",
      "00:14:36 - cmdstanpy - INFO - Chain [1] start processing\n",
      "00:14:37 - cmdstanpy - INFO - Chain [1] done processing\n",
      "00:14:37 - cmdstanpy - INFO - Chain [1] start processing\n",
      "00:14:37 - cmdstanpy - INFO - Chain [1] done processing\n"
     ]
    },
    {
     "name": "stdout",
     "output_type": "stream",
     "text": [
      "Page:Hepatitis_C_de.wikipedia.org_mobile-web_all-agents\n",
      "Page:Liste_der_500_reichsten_Deutschen_de.wikipedia.org_desktop_all-agents\n",
      "Page:市原隼人_ja.wikipedia.org_all-access_all-agents\n",
      "Page:Otto_Waalkes_de.wikipedia.org_all-access_spider\n",
      "Page:Équipe_du_Brésil_de_football_fr.wikipedia.org_desktop_all-agents\n",
      "Page:XXX_de.wikipedia.org_all-access_all-agents\n",
      "Page:岡井千聖_ja.wikipedia.org_all-access_spider\n",
      "Page:Перес,_Шимон_ru.wikipedia.org_desktop_all-agents\n"
     ]
    },
    {
     "name": "stderr",
     "output_type": "stream",
     "text": [
      "00:14:37 - cmdstanpy - INFO - Chain [1] start processing\n",
      "00:14:37 - cmdstanpy - INFO - Chain [1] start processing\n",
      "00:14:37 - cmdstanpy - INFO - Chain [1] done processing\n",
      "00:14:37 - cmdstanpy - INFO - Chain [1] start processing\n",
      "00:14:37 - cmdstanpy - INFO - Chain [1] done processing\n",
      "00:14:37 - cmdstanpy - INFO - Chain [1] done processing\n",
      "00:14:37 - cmdstanpy - INFO - Chain [1] start processing\n",
      "00:14:37 - cmdstanpy - INFO - Chain [1] start processing\n",
      "00:14:37 - cmdstanpy - INFO - Chain [1] start processing\n",
      "00:14:37 - cmdstanpy - INFO - Chain [1] done processing\n",
      "00:14:37 - cmdstanpy - INFO - Chain [1] start processing\n",
      "00:14:37 - cmdstanpy - INFO - Chain [1] done processing\n",
      "00:14:37 - cmdstanpy - INFO - Chain [1] done processing\n",
      "00:14:37 - cmdstanpy - INFO - Chain [1] done processing\n"
     ]
    },
    {
     "name": "stdout",
     "output_type": "stream",
     "text": [
      "Page:Category:Condoms_by_sex_commons.wikimedia.org_all-access_all-agents\n",
      "Page:Летние_Олимпийские_игры_1984_ru.wikipedia.org_desktop_all-agents\n",
      "Page:Canada_at_the_2016_Summer_Olympics_en.wikipedia.org_desktop_all-agents\n",
      "Page:Teneriffa_de.wikipedia.org_desktop_all-agents\n",
      "Page:Sami_Frey_fr.wikipedia.org_mobile-web_all-agents\n",
      "Page:Ковальчук,_Илья_Валерьевич_ru.wikipedia.org_all-access_spider\n",
      "Page:Клуни,_Джордж_ru.wikipedia.org_mobile-web_all-agents\n",
      "Page:Burkina_Faso_de.wikipedia.org_all-access_spider\n",
      "Page:Sexion_d'Assaut_fr.wikipedia.org_mobile-web_all-agents\n",
      "Page:Taekwondo_es.wikipedia.org_mobile-web_all-agents\n",
      "Page:File:MediaWiki-sysadmins-icon.svg_www.mediawiki.org_all-access_spider\n",
      "Page:BMW_F30_de.wikipedia.org_all-access_spider\n",
      "Page:Hoda_Kotb_en.wikipedia.org_all-access_spider\n"
     ]
    },
    {
     "name": "stderr",
     "output_type": "stream",
     "text": [
      "00:14:37 - cmdstanpy - INFO - Chain [1] start processing\n",
      "00:14:37 - cmdstanpy - INFO - Chain [1] start processing\n",
      "00:14:37 - cmdstanpy - INFO - Chain [1] start processing\n",
      "00:14:37 - cmdstanpy - INFO - Chain [1] start processing\n",
      "00:14:37 - cmdstanpy - INFO - Chain [1] done processing\n",
      "00:14:37 - cmdstanpy - INFO - Chain [1] done processing\n",
      "00:14:37 - cmdstanpy - INFO - Chain [1] done processing\n",
      "00:14:37 - cmdstanpy - INFO - Chain [1] done processing\n",
      "00:14:37 - cmdstanpy - INFO - Chain [1] start processing\n",
      "00:14:37 - cmdstanpy - INFO - Chain [1] start processing\n",
      "00:14:37 - cmdstanpy - INFO - Chain [1] start processing\n",
      "00:14:37 - cmdstanpy - INFO - Chain [1] start processing\n",
      "00:14:37 - cmdstanpy - INFO - Chain [1] done processing\n",
      "00:14:37 - cmdstanpy - INFO - Chain [1] done processing\n",
      "00:14:37 - cmdstanpy - INFO - Chain [1] done processing\n",
      "00:14:37 - cmdstanpy - INFO - Chain [1] done processing\n"
     ]
    },
    {
     "name": "stdout",
     "output_type": "stream",
     "text": [
      "Page:Breel_Embolo_fr.wikipedia.org_mobile-web_all-agents\n",
      "Page:Paul_Pierce_en.wikipedia.org_mobile-web_all-agents\n",
      "Page:Area_51_en.wikipedia.org_all-access_spider\n",
      "Page:Manual:Maintenance_scripts_www.mediawiki.org_desktop_all-agents\n",
      "Page:Nom_islandais_fr.wikipedia.org_mobile-web_all-agents\n",
      "Page:Lemmy_Kilmister_es.wikipedia.org_desktop_all-agents\n",
      "Page:Star_Wars_en.wikipedia.org_all-access_all-agents\n",
      "Page:Christine_Ockrent_fr.wikipedia.org_all-access_all-agents\n",
      "Page:Société_extraterritoriale_fr.wikipedia.org_all-access_spider\n",
      "Page:T411_fr.wikipedia.org_all-access_all-agents\n",
      "Page:Кизяков,_Тимур_Борисович_ru.wikipedia.org_all-access_all-agents\n"
     ]
    },
    {
     "name": "stderr",
     "output_type": "stream",
     "text": [
      "00:14:37 - cmdstanpy - INFO - Chain [1] start processing\n",
      "00:14:37 - cmdstanpy - INFO - Chain [1] start processing\n",
      "00:14:37 - cmdstanpy - INFO - Chain [1] start processing\n",
      "00:14:37 - cmdstanpy - INFO - Chain [1] done processing\n",
      "00:14:37 - cmdstanpy - INFO - Chain [1] start processing\n",
      "00:14:37 - cmdstanpy - INFO - Chain [1] done processing\n",
      "00:14:37 - cmdstanpy - INFO - Chain [1] done processing\n",
      "00:14:37 - cmdstanpy - INFO - Chain [1] done processing\n",
      "00:14:37 - cmdstanpy - INFO - Chain [1] start processing\n",
      "00:14:37 - cmdstanpy - INFO - Chain [1] start processing\n",
      "00:14:37 - cmdstanpy - INFO - Chain [1] done processing\n",
      "00:14:37 - cmdstanpy - INFO - Chain [1] start processing\n",
      "00:14:37 - cmdstanpy - INFO - Chain [1] start processing\n",
      "00:14:37 - cmdstanpy - INFO - Chain [1] done processing\n",
      "00:14:37 - cmdstanpy - INFO - Chain [1] done processing\n",
      "00:14:37 - cmdstanpy - INFO - Chain [1] done processing\n",
      "00:14:37 - cmdstanpy - INFO - Chain [1] start processing\n",
      "00:14:37 - cmdstanpy - INFO - Chain [1] done processing\n",
      "00:14:37 - cmdstanpy - INFO - Chain [1] start processing\n",
      "00:14:37 - cmdstanpy - INFO - Chain [1] start processing\n",
      "00:14:37 - cmdstanpy - INFO - Chain [1] done processing\n",
      "00:14:37 - cmdstanpy - INFO - Chain [1] start processing\n",
      "00:14:37 - cmdstanpy - INFO - Chain [1] done processing\n",
      "00:14:37 - cmdstanpy - INFO - Chain [1] done processing\n",
      "00:14:37 - cmdstanpy - INFO - Chain [1] start processing\n",
      "00:14:37 - cmdstanpy - INFO - Chain [1] start processing\n",
      "00:14:37 - cmdstanpy - INFO - Chain [1] done processing\n",
      "00:14:37 - cmdstanpy - INFO - Chain [1] start processing\n",
      "00:14:37 - cmdstanpy - INFO - Chain [1] start processing\n",
      "00:14:37 - cmdstanpy - INFO - Chain [1] done processing\n",
      "00:14:37 - cmdstanpy - INFO - Chain [1] done processing\n",
      "00:14:37 - cmdstanpy - INFO - Chain [1] done processing\n",
      "00:14:37 - cmdstanpy - INFO - Chain [1] start processing\n",
      "00:14:37 - cmdstanpy - INFO - Chain [1] done processing\n",
      "00:14:37 - cmdstanpy - INFO - Chain [1] start processing\n",
      "00:14:37 - cmdstanpy - INFO - Chain [1] start processing\n",
      "00:14:37 - cmdstanpy - INFO - Chain [1] start processing\n",
      "00:14:37 - cmdstanpy - INFO - Chain [1] done processing\n",
      "00:14:37 - cmdstanpy - INFO - Chain [1] done processing\n",
      "00:14:37 - cmdstanpy - INFO - Chain [1] done processing\n"
     ]
    },
    {
     "name": "stdout",
     "output_type": "stream",
     "text": [
      "Page:Category:Males_performing_cunnilingus_in_art_commons.wikimedia.org_all-access_all-agents\n",
      "Page:Doria_Tillier_fr.wikipedia.org_all-access_spider\n",
      "Page:The_Beatles_fr.wikipedia.org_all-access_spider\n",
      "Page:Новый_год_ru.wikipedia.org_mobile-web_all-agents\n",
      "Page:Priestley_College_en.wikipedia.org_all-access_all-agents\n",
      "Page:Oxford_Manifesto_en.wikipedia.org_all-access_all-agents\n",
      "Page:菲德尔·卡斯特罗_zh.wikipedia.org_mobile-web_all-agents\n",
      "Page:Gerrit_www.mediawiki.org_all-access_all-agents\n",
      "Page:Legal_high_zh.wikipedia.org_desktop_all-agents\n",
      "Page:Mitología_griega_es.wikipedia.org_desktop_all-agents\n",
      "Page:Jesse_&_Joy_es.wikipedia.org_mobile-web_all-agents\n"
     ]
    },
    {
     "name": "stderr",
     "output_type": "stream",
     "text": [
      "00:14:37 - cmdstanpy - INFO - Chain [1] start processing\n",
      "00:14:37 - cmdstanpy - INFO - Chain [1] done processing\n",
      "00:14:37 - cmdstanpy - INFO - Chain [1] start processing\n",
      "00:14:37 - cmdstanpy - INFO - Chain [1] start processing\n",
      "00:14:38 - cmdstanpy - INFO - Chain [1] start processing\n",
      "00:14:38 - cmdstanpy - INFO - Chain [1] done processing\n",
      "00:14:38 - cmdstanpy - INFO - Chain [1] done processing\n",
      "00:14:38 - cmdstanpy - INFO - Chain [1] done processing\n",
      "00:14:38 - cmdstanpy - INFO - Chain [1] start processing\n",
      "00:14:38 - cmdstanpy - INFO - Chain [1] done processing\n",
      "00:14:38 - cmdstanpy - INFO - Chain [1] start processing\n",
      "00:14:38 - cmdstanpy - INFO - Chain [1] start processing\n",
      "00:14:38 - cmdstanpy - INFO - Chain [1] start processing\n",
      "00:14:38 - cmdstanpy - INFO - Chain [1] done processing\n",
      "00:14:38 - cmdstanpy - INFO - Chain [1] done processing\n",
      "00:14:38 - cmdstanpy - INFO - Chain [1] done processing\n",
      "00:14:38 - cmdstanpy - INFO - Chain [1] start processing\n",
      "00:14:38 - cmdstanpy - INFO - Chain [1] done processing\n",
      "00:14:38 - cmdstanpy - INFO - Chain [1] start processing\n"
     ]
    },
    {
     "name": "stdout",
     "output_type": "stream",
     "text": [
      "Page:Субъекты_Российской_Федерации_ru.wikipedia.org_all-access_all-agents\n",
      "Page:Hayden_Christensen_es.wikipedia.org_mobile-web_all-agents\n",
      "Page:謝沛恩_zh.wikipedia.org_all-access_spider\n",
      "Page:Carmen_Miranda_es.wikipedia.org_desktop_all-agents\n",
      "Page:Anthony_Delon_fr.wikipedia.org_all-access_spider\n",
      "Page:Manuel_da_Costa_fr.wikipedia.org_all-access_all-agents\n",
      "Page:畠山愛理_ja.wikipedia.org_desktop_all-agents\n",
      "Page:Luke_Skywalker_fr.wikipedia.org_all-access_all-agents\n",
      "Page:ラーメンズ_ja.wikipedia.org_all-access_all-agents\n"
     ]
    },
    {
     "name": "stderr",
     "output_type": "stream",
     "text": [
      "00:14:38 - cmdstanpy - INFO - Chain [1] start processing\n",
      "00:14:38 - cmdstanpy - INFO - Chain [1] start processing\n",
      "00:14:38 - cmdstanpy - INFO - Chain [1] done processing\n",
      "00:14:38 - cmdstanpy - INFO - Chain [1] done processing\n",
      "00:14:38 - cmdstanpy - INFO - Chain [1] done processing\n",
      "00:14:38 - cmdstanpy - INFO - Chain [1] start processing\n",
      "00:14:38 - cmdstanpy - INFO - Chain [1] done processing\n",
      "00:14:38 - cmdstanpy - INFO - Chain [1] start processing\n",
      "00:14:38 - cmdstanpy - INFO - Chain [1] start processing\n",
      "00:14:38 - cmdstanpy - INFO - Chain [1] start processing\n",
      "00:14:38 - cmdstanpy - INFO - Chain [1] done processing\n",
      "00:14:38 - cmdstanpy - INFO - Chain [1] done processing\n",
      "00:14:38 - cmdstanpy - INFO - Chain [1] done processing\n",
      "00:14:38 - cmdstanpy - INFO - Chain [1] start processing\n",
      "00:14:38 - cmdstanpy - INFO - Chain [1] done processing\n",
      "00:14:38 - cmdstanpy - INFO - Chain [1] start processing\n",
      "00:14:38 - cmdstanpy - INFO - Chain [1] start processing\n",
      "00:14:38 - cmdstanpy - INFO - Chain [1] start processing\n",
      "00:14:38 - cmdstanpy - INFO - Chain [1] done processing\n",
      "00:14:38 - cmdstanpy - INFO - Chain [1] done processing\n"
     ]
    },
    {
     "name": "stdout",
     "output_type": "stream",
     "text": [
      "Page:Реальные_пацаны_ru.wikipedia.org_all-access_all-agents\n",
      "Page:Amado_Carrillo_es.wikipedia.org_all-access_spider\n",
      "Page:芈月传_zh.wikipedia.org_all-access_all-agents\n",
      "Page:Personnages_de_Game_of_Thrones_fr.wikipedia.org_all-access_spider\n",
      "Page:Искандер_(ОТРК)_ru.wikipedia.org_desktop_all-agents\n",
      "Page:Vereinte_Nationen_de.wikipedia.org_all-access_all-agents\n",
      "Page:Nikolaus_Harnoncourt_de.wikipedia.org_desktop_all-agents\n",
      "Page:Матрица_(фильм)_ru.wikipedia.org_mobile-web_all-agents\n",
      "Page:Чумаков,_Алексей_Георгиевич_ru.wikipedia.org_all-access_spider\n"
     ]
    },
    {
     "name": "stderr",
     "output_type": "stream",
     "text": [
      "00:14:38 - cmdstanpy - INFO - Chain [1] done processing\n",
      "00:14:38 - cmdstanpy - INFO - Chain [1] start processing\n",
      "00:14:38 - cmdstanpy - INFO - Chain [1] done processing\n",
      "00:14:38 - cmdstanpy - INFO - Chain [1] start processing\n",
      "00:14:38 - cmdstanpy - INFO - Chain [1] start processing\n",
      "00:14:38 - cmdstanpy - INFO - Chain [1] start processing\n",
      "00:14:38 - cmdstanpy - INFO - Chain [1] done processing\n",
      "00:14:38 - cmdstanpy - INFO - Chain [1] done processing\n",
      "00:14:38 - cmdstanpy - INFO - Chain [1] done processing\n",
      "00:14:38 - cmdstanpy - INFO - Chain [1] start processing\n",
      "00:14:38 - cmdstanpy - INFO - Chain [1] done processing\n",
      "00:14:38 - cmdstanpy - INFO - Chain [1] start processing\n",
      "00:14:38 - cmdstanpy - INFO - Chain [1] start processing\n",
      "00:14:38 - cmdstanpy - INFO - Chain [1] start processing\n",
      "00:14:38 - cmdstanpy - INFO - Chain [1] done processing\n",
      "00:14:38 - cmdstanpy - INFO - Chain [1] done processing\n",
      "00:14:38 - cmdstanpy - INFO - Chain [1] start processing\n",
      "00:14:38 - cmdstanpy - INFO - Chain [1] done processing\n"
     ]
    },
    {
     "name": "stdout",
     "output_type": "stream",
     "text": [
      "Page:奇異博士_zh.wikipedia.org_desktop_all-agents\n",
      "Page:井岡一翔_ja.wikipedia.org_desktop_all-agents\n",
      "Page:王浩信_zh.wikipedia.org_all-access_spider\n",
      "Page:香西咲_ja.wikipedia.org_all-access_spider\n",
      "Page:波瑠_ja.wikipedia.org_desktop_all-agents\n",
      "Page:Wolf_Biermann_de.wikipedia.org_all-access_all-agents\n",
      "Page:我是歌手_(第三季)_zh.wikipedia.org_all-access_spider\n",
      "Page:Low-Carb_de.wikipedia.org_all-access_spider\n",
      "Page:Teen_Wolf_(Fernsehserie)_de.wikipedia.org_all-access_all-agents\n",
      "Page:Michèle_Mercier_fr.wikipedia.org_all-access_spider\n"
     ]
    },
    {
     "name": "stderr",
     "output_type": "stream",
     "text": [
      "00:14:38 - cmdstanpy - INFO - Chain [1] done processing\n",
      "00:14:38 - cmdstanpy - INFO - Chain [1] start processing\n",
      "00:14:38 - cmdstanpy - INFO - Chain [1] start processing\n",
      "00:14:38 - cmdstanpy - INFO - Chain [1] done processing\n",
      "00:14:38 - cmdstanpy - INFO - Chain [1] start processing\n",
      "00:14:38 - cmdstanpy - INFO - Chain [1] done processing\n",
      "00:14:38 - cmdstanpy - INFO - Chain [1] start processing\n",
      "00:14:38 - cmdstanpy - INFO - Chain [1] done processing\n",
      "00:14:38 - cmdstanpy - INFO - Chain [1] done processing\n",
      "00:14:38 - cmdstanpy - INFO - Chain [1] start processing\n",
      "00:14:38 - cmdstanpy - INFO - Chain [1] start processing\n",
      "00:14:38 - cmdstanpy - INFO - Chain [1] done processing\n",
      "00:14:38 - cmdstanpy - INFO - Chain [1] start processing\n",
      "00:14:38 - cmdstanpy - INFO - Chain [1] done processing\n",
      "00:14:38 - cmdstanpy - INFO - Chain [1] start processing\n",
      "00:14:38 - cmdstanpy - INFO - Chain [1] done processing\n",
      "00:14:38 - cmdstanpy - INFO - Chain [1] done processing\n",
      "00:14:38 - cmdstanpy - INFO - Chain [1] start processing\n"
     ]
    },
    {
     "name": "stdout",
     "output_type": "stream",
     "text": [
      "Page:256_(число)_ru.wikipedia.org_desktop_all-agents\n",
      "Page:Introversion_und_Extraversion_de.wikipedia.org_all-access_all-agents\n",
      "Page:Jesse_Owens_en.wikipedia.org_all-access_spider\n",
      "Page:王毅_zh.wikipedia.org_all-access_all-agents\n",
      "Page:Фуркад,_Мартен_ru.wikipedia.org_mobile-web_all-agents\n",
      "Page:Anexo:Récords_de_fútbol_es.wikipedia.org_all-access_spider\n",
      "Page:Alepo_es.wikipedia.org_mobile-web_all-agents\n",
      "Page:Иман_(модель)_ru.wikipedia.org_desktop_all-agents\n",
      "Page:Alexander_Hold_de.wikipedia.org_mobile-web_all-agents\n"
     ]
    },
    {
     "name": "stderr",
     "output_type": "stream",
     "text": [
      "00:14:38 - cmdstanpy - INFO - Chain [1] start processing\n",
      "00:14:38 - cmdstanpy - INFO - Chain [1] done processing\n",
      "00:14:38 - cmdstanpy - INFO - Chain [1] start processing\n",
      "00:14:38 - cmdstanpy - INFO - Chain [1] done processing\n",
      "00:14:38 - cmdstanpy - INFO - Chain [1] start processing\n",
      "00:14:38 - cmdstanpy - INFO - Chain [1] done processing\n",
      "00:14:38 - cmdstanpy - INFO - Chain [1] done processing\n",
      "00:14:38 - cmdstanpy - INFO - Chain [1] start processing\n",
      "00:14:38 - cmdstanpy - INFO - Chain [1] start processing\n",
      "00:14:38 - cmdstanpy - INFO - Chain [1] done processing\n",
      "00:14:38 - cmdstanpy - INFO - Chain [1] done processing\n",
      "00:14:38 - cmdstanpy - INFO - Chain [1] start processing\n",
      "00:14:38 - cmdstanpy - INFO - Chain [1] done processing\n",
      "00:14:38 - cmdstanpy - INFO - Chain [1] start processing\n",
      "00:14:38 - cmdstanpy - INFO - Chain [1] done processing\n",
      "00:14:38 - cmdstanpy - INFO - Chain [1] start processing\n",
      "00:14:38 - cmdstanpy - INFO - Chain [1] start processing\n",
      "00:14:38 - cmdstanpy - INFO - Chain [1] done processing\n",
      "00:14:38 - cmdstanpy - INFO - Chain [1] start processing\n",
      "00:14:38 - cmdstanpy - INFO - Chain [1] done processing\n"
     ]
    },
    {
     "name": "stdout",
     "output_type": "stream",
     "text": [
      "Page:捉妖记_(2015年电影)_zh.wikipedia.org_all-access_all-agents\n",
      "Page:Kolosseum_de.wikipedia.org_all-access_all-agents\n",
      "Page:День_святого_Патрика_ru.wikipedia.org_all-access_spider\n",
      "Page:Manual:Preventing_access_www.mediawiki.org_mobile-web_all-agents\n",
      "Page:Peter_Thiel_en.wikipedia.org_mobile-web_all-agents\n",
      "Page:侯寬仁_zh.wikipedia.org_all-access_all-agents\n",
      "Page:蓮舫_zh.wikipedia.org_desktop_all-agents\n",
      "Page:Coupe_du_monde_de_football_de_1998_fr.wikipedia.org_all-access_spider\n",
      "Page:User_talk:Odder_commons.wikimedia.org_desktop_all-agents\n"
     ]
    },
    {
     "name": "stderr",
     "output_type": "stream",
     "text": [
      "00:14:39 - cmdstanpy - INFO - Chain [1] done processing\n",
      "00:14:39 - cmdstanpy - INFO - Chain [1] start processing\n",
      "00:14:39 - cmdstanpy - INFO - Chain [1] start processing\n",
      "00:14:39 - cmdstanpy - INFO - Chain [1] done processing\n",
      "00:14:39 - cmdstanpy - INFO - Chain [1] start processing\n",
      "00:14:39 - cmdstanpy - INFO - Chain [1] done processing\n",
      "00:14:39 - cmdstanpy - INFO - Chain [1] start processing\n",
      "00:14:39 - cmdstanpy - INFO - Chain [1] done processing\n",
      "00:14:39 - cmdstanpy - INFO - Chain [1] done processing\n",
      "00:14:39 - cmdstanpy - INFO - Chain [1] start processing\n",
      "00:14:39 - cmdstanpy - INFO - Chain [1] done processing\n",
      "00:14:39 - cmdstanpy - INFO - Chain [1] start processing\n",
      "00:14:39 - cmdstanpy - INFO - Chain [1] start processing\n",
      "00:14:39 - cmdstanpy - INFO - Chain [1] done processing\n",
      "00:14:39 - cmdstanpy - INFO - Chain [1] start processing\n",
      "00:14:39 - cmdstanpy - INFO - Chain [1] done processing\n"
     ]
    },
    {
     "name": "stdout",
     "output_type": "stream",
     "text": [
      "Page:教育ニ関スル勅語_ja.wikipedia.org_mobile-web_all-agents\n",
      "Page:Wales_en.wikipedia.org_mobile-web_all-agents\n",
      "Page:Denitsa_Ikonomova_fr.wikipedia.org_all-access_all-agents\n",
      "Page:PlayStation_4_de.wikipedia.org_all-access_spider\n",
      "Page:Julie_Andrieu_fr.wikipedia.org_all-access_spider\n",
      "Page:Chicago_es.wikipedia.org_mobile-web_all-agents\n",
      "Page:國際乒乓球總會世界排名_zh.wikipedia.org_all-access_all-agents\n",
      "Page:Austin_Russell_es.wikipedia.org_mobile-web_all-agents\n",
      "Page:Капитан_Америка_ru.wikipedia.org_mobile-web_all-agents\n",
      "Page:Реон,_Иван_ru.wikipedia.org_desktop_all-agents\n",
      "Page:Whoopi_Goldberg_en.wikipedia.org_mobile-web_all-agents\n",
      "Page:RWBY_zh.wikipedia.org_desktop_all-agents\n",
      "Page:Liste_der_Berge_oder_Erhebungen_in_Europa_de.wikipedia.org_all-access_all-agents\n",
      "Page:Peter_Brock_en.wikipedia.org_all-access_spider\n",
      "Page:肋間神経痛_ja.wikipedia.org_mobile-web_all-agents\n",
      "Page:Heidi_Klum_de.wikipedia.org_mobile-web_all-agents\n",
      "Page:Keanu_Reeves_fr.wikipedia.org_desktop_all-agents\n"
     ]
    },
    {
     "name": "stderr",
     "output_type": "stream",
     "text": [
      "00:14:39 - cmdstanpy - INFO - Chain [1] start processing\n",
      "00:14:39 - cmdstanpy - INFO - Chain [1] done processing\n",
      "00:14:39 - cmdstanpy - INFO - Chain [1] start processing\n",
      "00:14:39 - cmdstanpy - INFO - Chain [1] done processing\n",
      "00:14:39 - cmdstanpy - INFO - Chain [1] start processing\n",
      "00:14:39 - cmdstanpy - INFO - Chain [1] done processing\n",
      "00:14:39 - cmdstanpy - INFO - Chain [1] start processing\n",
      "00:14:39 - cmdstanpy - INFO - Chain [1] done processing\n",
      "00:14:39 - cmdstanpy - INFO - Chain [1] start processing\n",
      "00:14:39 - cmdstanpy - INFO - Chain [1] done processing\n",
      "00:14:39 - cmdstanpy - INFO - Chain [1] start processing\n",
      "00:14:39 - cmdstanpy - INFO - Chain [1] done processing\n",
      "00:14:39 - cmdstanpy - INFO - Chain [1] done processing\n",
      "00:14:39 - cmdstanpy - INFO - Chain [1] start processing\n",
      "00:14:39 - cmdstanpy - INFO - Chain [1] start processing\n",
      "00:14:39 - cmdstanpy - INFO - Chain [1] start processing\n",
      "00:14:39 - cmdstanpy - INFO - Chain [1] start processing\n",
      "00:14:39 - cmdstanpy - INFO - Chain [1] done processing\n",
      "00:14:39 - cmdstanpy - INFO - Chain [1] done processing\n",
      "00:14:39 - cmdstanpy - INFO - Chain [1] done processing\n",
      "00:14:39 - cmdstanpy - INFO - Chain [1] done processing\n",
      "00:14:39 - cmdstanpy - INFO - Chain [1] start processing\n",
      "00:14:39 - cmdstanpy - INFO - Chain [1] start processing\n",
      "00:14:39 - cmdstanpy - INFO - Chain [1] done processing\n",
      "00:14:39 - cmdstanpy - INFO - Chain [1] start processing\n",
      "00:14:39 - cmdstanpy - INFO - Chain [1] start processing\n",
      "00:14:39 - cmdstanpy - INFO - Chain [1] done processing\n",
      "00:14:39 - cmdstanpy - INFO - Chain [1] done processing\n",
      "00:14:39 - cmdstanpy - INFO - Chain [1] done processing\n",
      "00:14:39 - cmdstanpy - INFO - Chain [1] start processing\n",
      "00:14:39 - cmdstanpy - INFO - Chain [1] start processing\n",
      "00:14:39 - cmdstanpy - INFO - Chain [1] done processing\n",
      "00:14:39 - cmdstanpy - INFO - Chain [1] start processing\n",
      "00:14:39 - cmdstanpy - INFO - Chain [1] done processing\n",
      "00:14:39 - cmdstanpy - INFO - Chain [1] start processing\n"
     ]
    },
    {
     "name": "stdout",
     "output_type": "stream",
     "text": [
      "Page:妥瑞症_zh.wikipedia.org_all-access_spider\n",
      "Page:Google_Chrome_en.wikipedia.org_all-access_all-agents\n",
      "Page:Irlande_du_Nord_fr.wikipedia.org_mobile-web_all-agents\n",
      "Page:United_States_two-dollar_bill_en.wikipedia.org_all-access_spider\n",
      "Page:Soulja_Boy_en.wikipedia.org_all-access_spider\n",
      "Page:Poder_legislativo_es.wikipedia.org_mobile-web_all-agents\n",
      "Page:Suisse_fr.wikipedia.org_mobile-web_all-agents\n",
      "Page:日本の刑事事件の一覧_ja.wikipedia.org_desktop_all-agents\n",
      "Page:The_Sims_4_ru.wikipedia.org_desktop_all-agents\n",
      "Page:Category:PD-Art_(PD-old-100)_commons.wikimedia.org_desktop_all-agents\n"
     ]
    },
    {
     "name": "stderr",
     "output_type": "stream",
     "text": [
      "00:14:39 - cmdstanpy - INFO - Chain [1] done processing\n",
      "00:14:39 - cmdstanpy - INFO - Chain [1] done processing\n",
      "00:14:39 - cmdstanpy - INFO - Chain [1] start processing\n",
      "00:14:39 - cmdstanpy - INFO - Chain [1] start processing\n",
      "00:14:39 - cmdstanpy - INFO - Chain [1] start processing\n",
      "00:14:39 - cmdstanpy - INFO - Chain [1] done processing\n",
      "00:14:39 - cmdstanpy - INFO - Chain [1] done processing\n",
      "00:14:39 - cmdstanpy - INFO - Chain [1] start processing\n",
      "00:14:39 - cmdstanpy - INFO - Chain [1] done processing\n",
      "00:14:39 - cmdstanpy - INFO - Chain [1] done processing\n",
      "00:14:39 - cmdstanpy - INFO - Chain [1] start processing\n",
      "00:14:39 - cmdstanpy - INFO - Chain [1] start processing\n",
      "00:14:39 - cmdstanpy - INFO - Chain [1] start processing\n",
      "00:14:39 - cmdstanpy - INFO - Chain [1] done processing\n",
      "00:14:39 - cmdstanpy - INFO - Chain [1] done processing\n",
      "00:14:39 - cmdstanpy - INFO - Chain [1] start processing\n",
      "00:14:39 - cmdstanpy - INFO - Chain [1] done processing\n",
      "00:14:39 - cmdstanpy - INFO - Chain [1] done processing\n"
     ]
    },
    {
     "name": "stdout",
     "output_type": "stream",
     "text": [
      "Page:张继科_zh.wikipedia.org_desktop_all-agents\n",
      "Page:安美佳_ja.wikipedia.org_all-access_all-agents\n",
      "Page:Morse_(alphabet)_fr.wikipedia.org_mobile-web_all-agents\n",
      "Page:張成沢_ja.wikipedia.org_all-access_all-agents\n",
      "Page:杉杉来了_zh.wikipedia.org_all-access_all-agents\n",
      "Page:Concours_Eurovision_de_la_chanson_fr.wikipedia.org_mobile-web_all-agents\n",
      "Page:姜素拉_zh.wikipedia.org_desktop_all-agents\n",
      "Page:Pentium_4_ru.wikipedia.org_all-access_spider\n",
      "Page:赤髮白雪姬_zh.wikipedia.org_all-access_spider\n",
      "Page:Category:MediaWiki_configuration_settings_www.mediawiki.org_mobile-web_all-agents\n"
     ]
    },
    {
     "name": "stderr",
     "output_type": "stream",
     "text": [
      "00:14:39 - cmdstanpy - INFO - Chain [1] start processing\n",
      "00:14:39 - cmdstanpy - INFO - Chain [1] start processing\n",
      "00:14:39 - cmdstanpy - INFO - Chain [1] start processing\n",
      "00:14:39 - cmdstanpy - INFO - Chain [1] start processing\n",
      "00:14:39 - cmdstanpy - INFO - Chain [1] done processing\n",
      "00:14:39 - cmdstanpy - INFO - Chain [1] done processing\n",
      "00:14:39 - cmdstanpy - INFO - Chain [1] done processing\n",
      "00:14:39 - cmdstanpy - INFO - Chain [1] done processing\n",
      "00:14:39 - cmdstanpy - INFO - Chain [1] start processing\n",
      "00:14:39 - cmdstanpy - INFO - Chain [1] start processing\n",
      "00:14:40 - cmdstanpy - INFO - Chain [1] start processing\n",
      "00:14:40 - cmdstanpy - INFO - Chain [1] start processing\n",
      "00:14:40 - cmdstanpy - INFO - Chain [1] done processing\n",
      "00:14:40 - cmdstanpy - INFO - Chain [1] done processing\n",
      "00:14:40 - cmdstanpy - INFO - Chain [1] done processing\n",
      "00:14:40 - cmdstanpy - INFO - Chain [1] done processing\n"
     ]
    },
    {
     "name": "stdout",
     "output_type": "stream",
     "text": [
      "Page:Гонзо-журналистика_ru.wikipedia.org_desktop_all-agents\n",
      "Page:San_Carlos_de_Bariloche_es.wikipedia.org_all-access_all-agents\n",
      "Page:Hawaii_Five-0_ja.wikipedia.org_mobile-web_all-agents\n",
      "Page:Халиков,_Ильдар_Шафкатович_ru.wikipedia.org_all-access_spider\n",
      "Page:Semana_Santa_es.wikipedia.org_mobile-web_all-agents\n",
      "Page:Bixente_Lizarazu_fr.wikipedia.org_desktop_all-agents\n",
      "Page:WWE_es.wikipedia.org_mobile-web_all-agents\n",
      "Page:Canadá_es.wikipedia.org_mobile-web_all-agents\n",
      "Page:Category:Human_vulvas_commons.wikimedia.org_mobile-web_all-agents\n",
      "Page:American_Idol_en.wikipedia.org_mobile-web_all-agents\n",
      "Page:Fifth_Harmony_fr.wikipedia.org_all-access_all-agents\n"
     ]
    },
    {
     "name": "stderr",
     "output_type": "stream",
     "text": [
      "00:14:40 - cmdstanpy - INFO - Chain [1] start processing\n",
      "00:14:40 - cmdstanpy - INFO - Chain [1] start processing\n",
      "00:14:40 - cmdstanpy - INFO - Chain [1] start processing\n",
      "00:14:40 - cmdstanpy - INFO - Chain [1] start processing\n",
      "00:14:40 - cmdstanpy - INFO - Chain [1] done processing\n",
      "00:14:40 - cmdstanpy - INFO - Chain [1] done processing\n",
      "00:14:40 - cmdstanpy - INFO - Chain [1] done processing\n",
      "00:14:40 - cmdstanpy - INFO - Chain [1] done processing\n",
      "00:14:40 - cmdstanpy - INFO - Chain [1] start processing\n",
      "00:14:40 - cmdstanpy - INFO - Chain [1] start processing\n",
      "00:14:40 - cmdstanpy - INFO - Chain [1] start processing\n",
      "00:14:40 - cmdstanpy - INFO - Chain [1] start processing\n",
      "00:14:40 - cmdstanpy - INFO - Chain [1] done processing\n",
      "00:14:40 - cmdstanpy - INFO - Chain [1] done processing\n",
      "00:14:40 - cmdstanpy - INFO - Chain [1] done processing\n",
      "00:14:40 - cmdstanpy - INFO - Chain [1] done processing\n",
      "00:14:40 - cmdstanpy - INFO - Chain [1] start processing\n",
      "00:14:40 - cmdstanpy - INFO - Chain [1] start processing\n",
      "00:14:40 - cmdstanpy - INFO - Chain [1] start processing\n"
     ]
    },
    {
     "name": "stdout",
     "output_type": "stream",
     "text": [
      "Page:Уокер,_Пол_ru.wikipedia.org_all-access_spider\n",
      "Page:Javier_Fernández_Fernández_es.wikipedia.org_mobile-web_all-agents\n",
      "Page:バック・トゥ・ザ・フューチャー_ja.wikipedia.org_mobile-web_all-agents\n",
      "Page:Färöer_de.wikipedia.org_all-access_all-agents\n",
      "Page:SISTAR_zh.wikipedia.org_all-access_spider\n",
      "Page:John_Krasinski_en.wikipedia.org_all-access_all-agents\n",
      "Page:Instagram_en.wikipedia.org_mobile-web_all-agents\n",
      "Page:Чемпионат_России_по_футболу_ru.wikipedia.org_all-access_all-agents\n",
      "Page:Judentum_de.wikipedia.org_desktop_all-agents\n"
     ]
    },
    {
     "name": "stderr",
     "output_type": "stream",
     "text": [
      "00:14:40 - cmdstanpy - INFO - Chain [1] start processing\n",
      "00:14:40 - cmdstanpy - INFO - Chain [1] done processing\n",
      "00:14:40 - cmdstanpy - INFO - Chain [1] done processing\n",
      "00:14:40 - cmdstanpy - INFO - Chain [1] done processing\n",
      "00:14:40 - cmdstanpy - INFO - Chain [1] done processing\n",
      "00:14:40 - cmdstanpy - INFO - Chain [1] start processing\n",
      "00:14:40 - cmdstanpy - INFO - Chain [1] start processing\n",
      "00:14:40 - cmdstanpy - INFO - Chain [1] start processing\n",
      "00:14:40 - cmdstanpy - INFO - Chain [1] start processing\n",
      "00:14:40 - cmdstanpy - INFO - Chain [1] done processing\n",
      "00:14:40 - cmdstanpy - INFO - Chain [1] done processing\n",
      "00:14:40 - cmdstanpy - INFO - Chain [1] done processing\n",
      "00:14:40 - cmdstanpy - INFO - Chain [1] done processing\n",
      "00:14:40 - cmdstanpy - INFO - Chain [1] start processing\n",
      "00:14:40 - cmdstanpy - INFO - Chain [1] start processing\n",
      "00:14:40 - cmdstanpy - INFO - Chain [1] start processing\n",
      "00:14:40 - cmdstanpy - INFO - Chain [1] start processing\n",
      "00:14:40 - cmdstanpy - INFO - Chain [1] done processing\n",
      "00:14:40 - cmdstanpy - INFO - Chain [1] done processing\n",
      "00:14:40 - cmdstanpy - INFO - Chain [1] done processing\n"
     ]
    },
    {
     "name": "stdout",
     "output_type": "stream",
     "text": [
      "Page:何鴻燊_zh.wikipedia.org_all-access_spider\n",
      "Page:Geneviève_de_Fontenay_fr.wikipedia.org_desktop_all-agents\n",
      "Page:希良梨_ja.wikipedia.org_all-access_all-agents\n",
      "Page:Säkularismus_de.wikipedia.org_all-access_all-agents\n",
      "Page:宋慧喬_zh.wikipedia.org_all-access_all-agents\n",
      "Page:Laila_Ali_en.wikipedia.org_all-access_all-agents\n",
      "Page:Claudio_Pizarro_de.wikipedia.org_all-access_all-agents\n",
      "Page:Erin_Brockovich_de.wikipedia.org_all-access_all-agents\n",
      "Page:畑中健二_ja.wikipedia.org_all-access_all-agents\n",
      "Page:Henri_Salvador_fr.wikipedia.org_mobile-web_all-agents\n",
      "Page:Carlo_Ancelotti_de.wikipedia.org_mobile-web_all-agents\n"
     ]
    },
    {
     "name": "stderr",
     "output_type": "stream",
     "text": [
      "00:14:40 - cmdstanpy - INFO - Chain [1] done processing\n",
      "00:14:40 - cmdstanpy - INFO - Chain [1] start processing\n",
      "00:14:40 - cmdstanpy - INFO - Chain [1] start processing\n",
      "00:14:40 - cmdstanpy - INFO - Chain [1] start processing\n",
      "00:14:40 - cmdstanpy - INFO - Chain [1] done processing\n",
      "00:14:40 - cmdstanpy - INFO - Chain [1] start processing\n",
      "00:14:40 - cmdstanpy - INFO - Chain [1] done processing\n",
      "00:14:40 - cmdstanpy - INFO - Chain [1] done processing\n",
      "00:14:40 - cmdstanpy - INFO - Chain [1] done processing\n",
      "00:14:40 - cmdstanpy - INFO - Chain [1] start processing\n",
      "00:14:40 - cmdstanpy - INFO - Chain [1] start processing\n",
      "00:14:40 - cmdstanpy - INFO - Chain [1] done processing\n",
      "00:14:40 - cmdstanpy - INFO - Chain [1] start processing\n",
      "00:14:40 - cmdstanpy - INFO - Chain [1] done processing\n",
      "00:14:40 - cmdstanpy - INFO - Chain [1] start processing\n",
      "00:14:40 - cmdstanpy - INFO - Chain [1] done processing\n",
      "00:14:40 - cmdstanpy - INFO - Chain [1] done processing\n"
     ]
    },
    {
     "name": "stdout",
     "output_type": "stream",
     "text": [
      "Page:Vincent_Lacoste_fr.wikipedia.org_all-access_spider\n",
      "Page:早乙女太一_ja.wikipedia.org_desktop_all-agents\n",
      "Page:Myanmar_en.wikipedia.org_desktop_all-agents\n",
      "Page:List_of_Once_Upon_a_Time_episodes_en.wikipedia.org_all-access_spider\n",
      "Page:三又又三_ja.wikipedia.org_desktop_all-agents\n",
      "Page:Championnat_d'Europe_de_football_2008_fr.wikipedia.org_desktop_all-agents\n",
      "Page:Solomon_Northup_de.wikipedia.org_mobile-web_all-agents\n",
      "Page:Congruencia_(geometría)_es.wikipedia.org_all-access_all-agents\n",
      "Page:バイオハザードシリーズ_ja.wikipedia.org_all-access_spider\n"
     ]
    },
    {
     "name": "stderr",
     "output_type": "stream",
     "text": [
      "00:14:40 - cmdstanpy - INFO - Chain [1] start processing\n",
      "00:14:40 - cmdstanpy - INFO - Chain [1] start processing\n",
      "00:14:40 - cmdstanpy - INFO - Chain [1] done processing\n",
      "00:14:40 - cmdstanpy - INFO - Chain [1] start processing\n",
      "00:14:40 - cmdstanpy - INFO - Chain [1] start processing\n",
      "00:14:40 - cmdstanpy - INFO - Chain [1] done processing\n",
      "00:14:40 - cmdstanpy - INFO - Chain [1] done processing\n",
      "00:14:40 - cmdstanpy - INFO - Chain [1] done processing\n",
      "00:14:40 - cmdstanpy - INFO - Chain [1] start processing\n",
      "00:14:40 - cmdstanpy - INFO - Chain [1] start processing\n",
      "00:14:40 - cmdstanpy - INFO - Chain [1] start processing\n",
      "00:14:40 - cmdstanpy - INFO - Chain [1] done processing\n",
      "00:14:40 - cmdstanpy - INFO - Chain [1] start processing\n",
      "00:14:40 - cmdstanpy - INFO - Chain [1] done processing\n",
      "00:14:40 - cmdstanpy - INFO - Chain [1] done processing\n",
      "00:14:40 - cmdstanpy - INFO - Chain [1] done processing\n",
      "00:14:40 - cmdstanpy - INFO - Chain [1] start processing\n",
      "00:14:40 - cmdstanpy - INFO - Chain [1] start processing\n"
     ]
    },
    {
     "name": "stdout",
     "output_type": "stream",
     "text": [
      "Page:Ralph_Tresvant_en.wikipedia.org_all-access_all-agents\n",
      "Page:Pat_McAfee_en.wikipedia.org_desktop_all-agents\n",
      "Page:Арсенал_(футбольный_клуб,_Лондон)_ru.wikipedia.org_all-access_all-agents\n",
      "Page:Norbert_Hofer_de.wikipedia.org_all-access_all-agents\n",
      "Page:Milli_Vanilli_de.wikipedia.org_mobile-web_all-agents\n",
      "Page:家和萬事興_(2010年電視劇)_zh.wikipedia.org_all-access_all-agents\n",
      "Page:Nathan_Fillion_de.wikipedia.org_mobile-web_all-agents\n",
      "Page:Riesen-Bärenklau_de.wikipedia.org_all-access_spider\n",
      "Page:DaiGo_ja.wikipedia.org_all-access_all-agents\n",
      "Page:XXe_siècle_fr.wikipedia.org_all-access_spider\n"
     ]
    },
    {
     "name": "stderr",
     "output_type": "stream",
     "text": [
      "00:14:40 - cmdstanpy - INFO - Chain [1] start processing\n",
      "00:14:40 - cmdstanpy - INFO - Chain [1] start processing\n",
      "00:14:40 - cmdstanpy - INFO - Chain [1] done processing\n",
      "00:14:40 - cmdstanpy - INFO - Chain [1] done processing\n",
      "00:14:40 - cmdstanpy - INFO - Chain [1] done processing\n",
      "00:14:40 - cmdstanpy - INFO - Chain [1] done processing\n",
      "00:14:40 - cmdstanpy - INFO - Chain [1] start processing\n",
      "00:14:40 - cmdstanpy - INFO - Chain [1] start processing\n",
      "00:14:40 - cmdstanpy - INFO - Chain [1] done processing\n",
      "00:14:40 - cmdstanpy - INFO - Chain [1] start processing\n",
      "00:14:41 - cmdstanpy - INFO - Chain [1] done processing\n",
      "00:14:41 - cmdstanpy - INFO - Chain [1] start processing\n",
      "00:14:41 - cmdstanpy - INFO - Chain [1] done processing\n",
      "00:14:41 - cmdstanpy - INFO - Chain [1] done processing\n",
      "00:14:41 - cmdstanpy - INFO - Chain [1] start processing\n",
      "00:14:41 - cmdstanpy - INFO - Chain [1] start processing\n",
      "00:14:41 - cmdstanpy - INFO - Chain [1] done processing\n",
      "00:14:41 - cmdstanpy - INFO - Chain [1] start processing\n",
      "00:14:41 - cmdstanpy - INFO - Chain [1] done processing\n",
      "00:14:41 - cmdstanpy - INFO - Chain [1] start processing\n"
     ]
    },
    {
     "name": "stdout",
     "output_type": "stream",
     "text": [
      "Page:Интерстеллар_ru.wikipedia.org_all-access_all-agents\n",
      "Page:Tejido_(biología)_es.wikipedia.org_desktop_all-agents\n",
      "Page:Category:Sexual_licking_commons.wikimedia.org_all-access_all-agents\n",
      "Page:Marc_Márquez_es.wikipedia.org_mobile-web_all-agents\n",
      "Page:Nina_Simone_en.wikipedia.org_desktop_all-agents\n",
      "Page:Lily_James_en.wikipedia.org_desktop_all-agents\n",
      "Page:Кроссбоунс_ru.wikipedia.org_all-access_spider\n",
      "Page:Now_You_See_Me_es.wikipedia.org_mobile-web_all-agents\n",
      "Page:黄妙珠_zh.wikipedia.org_all-access_all-agents\n",
      "Page:Голый_землекоп_ru.wikipedia.org_desktop_all-agents\n"
     ]
    },
    {
     "name": "stderr",
     "output_type": "stream",
     "text": [
      "00:14:41 - cmdstanpy - INFO - Chain [1] done processing\n",
      "00:14:41 - cmdstanpy - INFO - Chain [1] done processing\n",
      "00:14:41 - cmdstanpy - INFO - Chain [1] start processing\n",
      "00:14:41 - cmdstanpy - INFO - Chain [1] start processing\n",
      "00:14:41 - cmdstanpy - INFO - Chain [1] done processing\n",
      "00:14:41 - cmdstanpy - INFO - Chain [1] done processing\n",
      "00:14:41 - cmdstanpy - INFO - Chain [1] start processing\n",
      "00:14:41 - cmdstanpy - INFO - Chain [1] start processing\n",
      "00:14:41 - cmdstanpy - INFO - Chain [1] done processing\n",
      "00:14:41 - cmdstanpy - INFO - Chain [1] done processing\n",
      "00:14:41 - cmdstanpy - INFO - Chain [1] start processing\n",
      "00:14:41 - cmdstanpy - INFO - Chain [1] start processing\n",
      "00:14:41 - cmdstanpy - INFO - Chain [1] done processing\n",
      "00:14:41 - cmdstanpy - INFO - Chain [1] start processing\n",
      "00:14:41 - cmdstanpy - INFO - Chain [1] done processing\n",
      "00:14:41 - cmdstanpy - INFO - Chain [1] start processing\n",
      "00:14:41 - cmdstanpy - INFO - Chain [1] done processing\n",
      "00:14:41 - cmdstanpy - INFO - Chain [1] done processing\n",
      "00:14:41 - cmdstanpy - INFO - Chain [1] start processing\n"
     ]
    },
    {
     "name": "stdout",
     "output_type": "stream",
     "text": [
      "Page:José_Luis_Moreno_es.wikipedia.org_all-access_all-agents\n",
      "Page:Kostja_Ullmann_de.wikipedia.org_all-access_spider\n",
      "Page:Andrés_Iniesta_de.wikipedia.org_mobile-web_all-agents\n",
      "Page:Дания_ru.wikipedia.org_mobile-web_all-agents\n",
      "Page:Jawaharlal_Nehru_en.wikipedia.org_desktop_all-agents\n",
      "Page:Max_Giesinger_de.wikipedia.org_all-access_all-agents\n",
      "Page:妖怪手錶角色列表_zh.wikipedia.org_desktop_all-agents\n",
      "Page:杨幂_zh.wikipedia.org_desktop_all-agents\n",
      "Page:Евреи_ru.wikipedia.org_desktop_all-agents\n",
      "Page:Robert_Downey_Jr._es.wikipedia.org_mobile-web_all-agents\n"
     ]
    },
    {
     "name": "stderr",
     "output_type": "stream",
     "text": [
      "00:14:41 - cmdstanpy - INFO - Chain [1] start processing\n",
      "00:14:41 - cmdstanpy - INFO - Chain [1] done processing\n",
      "00:14:41 - cmdstanpy - INFO - Chain [1] start processing\n",
      "00:14:41 - cmdstanpy - INFO - Chain [1] start processing\n",
      "00:14:41 - cmdstanpy - INFO - Chain [1] done processing\n",
      "00:14:41 - cmdstanpy - INFO - Chain [1] done processing\n",
      "00:14:41 - cmdstanpy - INFO - Chain [1] done processing\n",
      "00:14:41 - cmdstanpy - INFO - Chain [1] start processing\n",
      "00:14:41 - cmdstanpy - INFO - Chain [1] start processing\n",
      "00:14:41 - cmdstanpy - INFO - Chain [1] done processing\n",
      "00:14:41 - cmdstanpy - INFO - Chain [1] start processing\n",
      "00:14:41 - cmdstanpy - INFO - Chain [1] done processing\n",
      "00:14:41 - cmdstanpy - INFO - Chain [1] start processing\n",
      "00:14:41 - cmdstanpy - INFO - Chain [1] done processing\n",
      "00:14:41 - cmdstanpy - INFO - Chain [1] done processing\n",
      "00:14:41 - cmdstanpy - INFO - Chain [1] start processing\n",
      "00:14:41 - cmdstanpy - INFO - Chain [1] start processing\n",
      "00:14:41 - cmdstanpy - INFO - Chain [1] done processing\n",
      "00:14:41 - cmdstanpy - INFO - Chain [1] done processing\n",
      "00:14:41 - cmdstanpy - INFO - Chain [1] start processing\n"
     ]
    },
    {
     "name": "stdout",
     "output_type": "stream",
     "text": [
      "Page:父の日_ja.wikipedia.org_all-access_all-agents\n",
      "Page:楚懷王_zh.wikipedia.org_desktop_all-agents\n",
      "Page:Between_(TV_series)_en.wikipedia.org_mobile-web_all-agents\n",
      "Page:Чемпионат_Европы_по_футболу_2020_ru.wikipedia.org_desktop_all-agents\n",
      "Page:Dzhokhar_Tsarnaev_en.wikipedia.org_all-access_all-agents\n",
      "Page:Prise_de_la_Bastille_fr.wikipedia.org_all-access_all-agents\n",
      "Page:東京都知事_ja.wikipedia.org_all-access_all-agents\n",
      "Page:Paula_Pareto_es.wikipedia.org_desktop_all-agents\n",
      "Page:Martina_Stoessel_es.wikipedia.org_desktop_all-agents\n",
      "Page:前田日明_ja.wikipedia.org_mobile-web_all-agents\n"
     ]
    },
    {
     "name": "stderr",
     "output_type": "stream",
     "text": [
      "00:14:41 - cmdstanpy - INFO - Chain [1] start processing\n",
      "00:14:41 - cmdstanpy - INFO - Chain [1] done processing\n",
      "00:14:41 - cmdstanpy - INFO - Chain [1] done processing\n",
      "00:14:41 - cmdstanpy - INFO - Chain [1] start processing\n",
      "00:14:41 - cmdstanpy - INFO - Chain [1] start processing\n",
      "00:14:41 - cmdstanpy - INFO - Chain [1] start processing\n",
      "00:14:41 - cmdstanpy - INFO - Chain [1] start processing\n",
      "00:14:41 - cmdstanpy - INFO - Chain [1] done processing\n",
      "00:14:41 - cmdstanpy - INFO - Chain [1] done processing\n",
      "00:14:41 - cmdstanpy - INFO - Chain [1] done processing\n",
      "00:14:41 - cmdstanpy - INFO - Chain [1] done processing\n",
      "00:14:41 - cmdstanpy - INFO - Chain [1] start processing\n",
      "00:14:41 - cmdstanpy - INFO - Chain [1] start processing\n",
      "00:14:41 - cmdstanpy - INFO - Chain [1] start processing\n",
      "00:14:41 - cmdstanpy - INFO - Chain [1] start processing\n",
      "00:14:41 - cmdstanpy - INFO - Chain [1] done processing\n",
      "00:14:41 - cmdstanpy - INFO - Chain [1] done processing\n",
      "00:14:41 - cmdstanpy - INFO - Chain [1] done processing\n",
      "00:14:41 - cmdstanpy - INFO - Chain [1] done processing\n"
     ]
    },
    {
     "name": "stdout",
     "output_type": "stream",
     "text": [
      "Page:Emily_Deschanel_en.wikipedia.org_mobile-web_all-agents\n",
      "Page:山本太郎_ja.wikipedia.org_all-access_spider\n",
      "Page:Секс_в_большом_городе_ru.wikipedia.org_all-access_all-agents\n",
      "Page:Перспективный_авиационный_комплекс_фронтовой_авиации_ru.wikipedia.org_desktop_all-agents\n",
      "Page:Amish_fr.wikipedia.org_all-access_spider\n",
      "Page:Русская_Правда_ru.wikipedia.org_mobile-web_all-agents\n",
      "Page:Trainspotting_(film)_en.wikipedia.org_all-access_spider\n",
      "Page:Satz_des_Pythagoras_de.wikipedia.org_all-access_spider\n",
      "Page:暁星中学校・高等学校_ja.wikipedia.org_mobile-web_all-agents\n",
      "Page:Help:Navigation/be-tarask_www.mediawiki.org_mobile-web_all-agents\n",
      "Page:Pansexuality_en.wikipedia.org_all-access_all-agents\n",
      "Page:Harry_Potter_et_la_Coupe_de_feu_(film)_fr.wikipedia.org_desktop_all-agents\n"
     ]
    },
    {
     "name": "stderr",
     "output_type": "stream",
     "text": [
      "00:14:41 - cmdstanpy - INFO - Chain [1] start processing\n",
      "00:14:41 - cmdstanpy - INFO - Chain [1] start processing\n",
      "00:14:41 - cmdstanpy - INFO - Chain [1] start processing\n",
      "00:14:41 - cmdstanpy - INFO - Chain [1] start processing\n",
      "00:14:41 - cmdstanpy - INFO - Chain [1] done processing\n",
      "00:14:41 - cmdstanpy - INFO - Chain [1] done processing\n",
      "00:14:41 - cmdstanpy - INFO - Chain [1] done processing\n",
      "00:14:41 - cmdstanpy - INFO - Chain [1] done processing\n",
      "00:14:41 - cmdstanpy - INFO - Chain [1] start processing\n",
      "00:14:41 - cmdstanpy - INFO - Chain [1] start processing\n",
      "00:14:41 - cmdstanpy - INFO - Chain [1] start processing\n",
      "00:14:41 - cmdstanpy - INFO - Chain [1] start processing\n",
      "00:14:41 - cmdstanpy - INFO - Chain [1] done processing\n",
      "00:14:41 - cmdstanpy - INFO - Chain [1] done processing\n",
      "00:14:41 - cmdstanpy - INFO - Chain [1] done processing\n",
      "00:14:41 - cmdstanpy - INFO - Chain [1] done processing\n",
      "00:14:41 - cmdstanpy - INFO - Chain [1] start processing\n",
      "00:14:41 - cmdstanpy - INFO - Chain [1] start processing\n",
      "00:14:41 - cmdstanpy - INFO - Chain [1] start processing\n",
      "00:14:41 - cmdstanpy - INFO - Chain [1] start processing\n",
      "00:14:41 - cmdstanpy - INFO - Chain [1] done processing\n",
      "00:14:41 - cmdstanpy - INFO - Chain [1] done processing\n",
      "00:14:41 - cmdstanpy - INFO - Chain [1] done processing\n",
      "00:14:41 - cmdstanpy - INFO - Chain [1] done processing\n",
      "00:14:42 - cmdstanpy - INFO - Chain [1] start processing\n",
      "00:14:42 - cmdstanpy - INFO - Chain [1] start processing\n",
      "00:14:42 - cmdstanpy - INFO - Chain [1] start processing\n",
      "00:14:42 - cmdstanpy - INFO - Chain [1] done processing\n",
      "00:14:42 - cmdstanpy - INFO - Chain [1] start processing\n",
      "00:14:42 - cmdstanpy - INFO - Chain [1] done processing\n",
      "00:14:42 - cmdstanpy - INFO - Chain [1] done processing\n",
      "00:14:42 - cmdstanpy - INFO - Chain [1] done processing\n",
      "00:14:42 - cmdstanpy - INFO - Chain [1] start processing\n",
      "00:14:42 - cmdstanpy - INFO - Chain [1] start processing\n",
      "00:14:42 - cmdstanpy - INFO - Chain [1] done processing\n",
      "00:14:42 - cmdstanpy - INFO - Chain [1] start processing\n",
      "00:14:42 - cmdstanpy - INFO - Chain [1] start processing\n",
      "00:14:42 - cmdstanpy - INFO - Chain [1] done processing\n",
      "00:14:42 - cmdstanpy - INFO - Chain [1] done processing\n",
      "00:14:42 - cmdstanpy - INFO - Chain [1] done processing\n"
     ]
    },
    {
     "name": "stdout",
     "output_type": "stream",
     "text": [
      "Page:2015_NBA_Finals_en.wikipedia.org_mobile-web_all-agents\n",
      "Page:Forever_(série_télévisée)_fr.wikipedia.org_all-access_spider\n",
      "Page:Мората,_Альваро_ru.wikipedia.org_all-access_all-agents\n",
      "Page:Guillermo_Barros_Schelotto_es.wikipedia.org_mobile-web_all-agents\n",
      "Page:Lynn_ja.wikipedia.org_all-access_all-agents\n",
      "Page:Possessions_(film,_2011)_fr.wikipedia.org_all-access_all-agents\n",
      "Page:Cuento_es.wikipedia.org_desktop_all-agents\n",
      "Page:Spite_house_en.wikipedia.org_all-access_all-agents\n",
      "Page:María_Teresa_Campos_es.wikipedia.org_mobile-web_all-agents\n",
      "Page:Colleen_Ballinger_en.wikipedia.org_desktop_all-agents\n",
      "Page:Серия_романов_о_Гарри_Поттере_ru.wikipedia.org_desktop_all-agents\n"
     ]
    },
    {
     "name": "stderr",
     "output_type": "stream",
     "text": [
      "00:14:42 - cmdstanpy - INFO - Chain [1] start processing\n",
      "00:14:42 - cmdstanpy - INFO - Chain [1] start processing\n",
      "00:14:42 - cmdstanpy - INFO - Chain [1] start processing\n",
      "00:14:42 - cmdstanpy - INFO - Chain [1] done processing\n",
      "00:14:42 - cmdstanpy - INFO - Chain [1] done processing\n",
      "00:14:42 - cmdstanpy - INFO - Chain [1] start processing\n",
      "00:14:42 - cmdstanpy - INFO - Chain [1] done processing\n",
      "00:14:42 - cmdstanpy - INFO - Chain [1] done processing\n",
      "00:14:42 - cmdstanpy - INFO - Chain [1] start processing\n",
      "00:14:42 - cmdstanpy - INFO - Chain [1] start processing\n",
      "00:14:42 - cmdstanpy - INFO - Chain [1] done processing\n",
      "00:14:42 - cmdstanpy - INFO - Chain [1] done processing\n",
      "00:14:42 - cmdstanpy - INFO - Chain [1] start processing\n",
      "00:14:42 - cmdstanpy - INFO - Chain [1] start processing\n",
      "00:14:42 - cmdstanpy - INFO - Chain [1] done processing\n",
      "00:14:42 - cmdstanpy - INFO - Chain [1] done processing\n",
      "00:14:42 - cmdstanpy - INFO - Chain [1] start processing\n",
      "00:14:42 - cmdstanpy - INFO - Chain [1] start processing\n"
     ]
    },
    {
     "name": "stdout",
     "output_type": "stream",
     "text": [
      "Page:Miguel_Ferrer_fr.wikipedia.org_all-access_spider\n",
      "Page:11月12日_ja.wikipedia.org_desktop_all-agents\n",
      "Page:賀来千香子_ja.wikipedia.org_all-access_all-agents\n",
      "Page:Bobby_Moore_en.wikipedia.org_all-access_all-agents\n",
      "Page:Капитан_Америка_ru.wikipedia.org_all-access_spider\n",
      "Page:Великая_французская_революция_ru.wikipedia.org_all-access_spider\n",
      "Page:Jean-Marc_Généreux_fr.wikipedia.org_mobile-web_all-agents\n",
      "Page:かつみ・さゆり_ja.wikipedia.org_mobile-web_all-agents\n",
      "Page:张雨绮_zh.wikipedia.org_mobile-web_all-agents\n"
     ]
    },
    {
     "name": "stderr",
     "output_type": "stream",
     "text": [
      "00:14:42 - cmdstanpy - INFO - Chain [1] done processing\n",
      "00:14:42 - cmdstanpy - INFO - Chain [1] done processing\n",
      "00:14:42 - cmdstanpy - INFO - Chain [1] start processing\n",
      "00:14:42 - cmdstanpy - INFO - Chain [1] start processing\n",
      "00:14:42 - cmdstanpy - INFO - Chain [1] done processing\n",
      "00:14:42 - cmdstanpy - INFO - Chain [1] done processing\n",
      "00:14:42 - cmdstanpy - INFO - Chain [1] start processing\n",
      "00:14:42 - cmdstanpy - INFO - Chain [1] start processing\n",
      "00:14:42 - cmdstanpy - INFO - Chain [1] start processing\n",
      "00:14:42 - cmdstanpy - INFO - Chain [1] done processing\n",
      "00:14:42 - cmdstanpy - INFO - Chain [1] start processing\n",
      "00:14:42 - cmdstanpy - INFO - Chain [1] done processing\n",
      "00:14:42 - cmdstanpy - INFO - Chain [1] done processing\n",
      "00:14:42 - cmdstanpy - INFO - Chain [1] done processing\n",
      "00:14:42 - cmdstanpy - INFO - Chain [1] start processing\n",
      "00:14:42 - cmdstanpy - INFO - Chain [1] start processing\n",
      "00:14:42 - cmdstanpy - INFO - Chain [1] start processing\n",
      "00:14:42 - cmdstanpy - INFO - Chain [1] done processing\n"
     ]
    },
    {
     "name": "stdout",
     "output_type": "stream",
     "text": [
      "Page:北魏_zh.wikipedia.org_all-access_all-agents\n",
      "Page:Marilu_Henner_en.wikipedia.org_mobile-web_all-agents\n",
      "Page:氷川きよし_ja.wikipedia.org_mobile-web_all-agents\n",
      "Page:擬宝珠家_ja.wikipedia.org_all-access_all-agents\n",
      "Page:Catégorie:Page_avec_coordonnées_similaires_sur_Wikidata_fr.wikipedia.org_desktop_all-agents\n",
      "Page:ダウ平均株価_ja.wikipedia.org_all-access_spider\n",
      "Page:Category:Countries_commons.wikimedia.org_all-access_all-agents\n",
      "Page:X-Men:_Apocalipsis_es.wikipedia.org_desktop_all-agents\n",
      "Page:Smylie_Kaufman_en.wikipedia.org_mobile-web_all-agents\n",
      "Page:Lewis_Hamilton_en.wikipedia.org_mobile-web_all-agents\n"
     ]
    },
    {
     "name": "stderr",
     "output_type": "stream",
     "text": [
      "00:14:42 - cmdstanpy - INFO - Chain [1] done processing\n",
      "00:14:42 - cmdstanpy - INFO - Chain [1] done processing\n",
      "00:14:42 - cmdstanpy - INFO - Chain [1] start processing\n",
      "00:14:42 - cmdstanpy - INFO - Chain [1] done processing\n",
      "00:14:42 - cmdstanpy - INFO - Chain [1] start processing\n",
      "00:14:42 - cmdstanpy - INFO - Chain [1] start processing\n",
      "00:14:42 - cmdstanpy - INFO - Chain [1] start processing\n",
      "00:14:42 - cmdstanpy - INFO - Chain [1] done processing\n",
      "00:14:42 - cmdstanpy - INFO - Chain [1] done processing\n",
      "00:14:42 - cmdstanpy - INFO - Chain [1] done processing\n",
      "00:14:42 - cmdstanpy - INFO - Chain [1] start processing\n"
     ]
    },
    {
     "name": "stdout",
     "output_type": "stream",
     "text": [
      "Page:Les_Trois_Mousquetaires_fr.wikipedia.org_all-access_all-agents\n",
      "Page:Category:Animalia_commons.wikimedia.org_all-access_all-agents\n",
      "Page:Narrenruf_de.wikipedia.org_all-access_spider\n",
      "Page:Manual:Account_creation_www.mediawiki.org_all-access_spider\n",
      "Page:Thomas_Jefferson_en.wikipedia.org_all-access_spider\n"
     ]
    },
    {
     "name": "stderr",
     "output_type": "stream",
     "text": [
      "00:14:42 - cmdstanpy - INFO - Chain [1] done processing\n",
      "00:14:42 - cmdstanpy - INFO - Chain [1] start processing\n",
      "00:14:42 - cmdstanpy - INFO - Chain [1] start processing\n",
      "00:14:42 - cmdstanpy - INFO - Chain [1] start processing\n",
      "00:14:42 - cmdstanpy - INFO - Chain [1] done processing\n",
      "00:14:42 - cmdstanpy - INFO - Chain [1] done processing\n",
      "00:14:42 - cmdstanpy - INFO - Chain [1] done processing\n",
      "00:14:42 - cmdstanpy - INFO - Chain [1] start processing\n",
      "00:14:42 - cmdstanpy - INFO - Chain [1] done processing\n",
      "00:14:42 - cmdstanpy - INFO - Chain [1] start processing\n",
      "00:14:42 - cmdstanpy - INFO - Chain [1] start processing\n",
      "00:14:42 - cmdstanpy - INFO - Chain [1] start processing\n",
      "00:14:42 - cmdstanpy - INFO - Chain [1] done processing\n",
      "00:14:42 - cmdstanpy - INFO - Chain [1] done processing\n",
      "00:14:42 - cmdstanpy - INFO - Chain [1] done processing\n",
      "00:14:43 - cmdstanpy - INFO - Chain [1] start processing\n"
     ]
    },
    {
     "name": "stdout",
     "output_type": "stream",
     "text": [
      "Page:Adventskranz_de.wikipedia.org_all-access_all-agents\n",
      "Page:Paisley_Park_Records_en.wikipedia.org_mobile-web_all-agents\n",
      "Page:Арзамасова,_Елизавета_Николаевна_ru.wikipedia.org_mobile-web_all-agents\n",
      "Page:Frédéric_Bourdin_en.wikipedia.org_desktop_all-agents\n",
      "Page:Wounded_Knee_Massacre_en.wikipedia.org_mobile-web_all-agents\n",
      "Page:名探偵コナン_(アニメ)_ja.wikipedia.org_desktop_all-agents\n",
      "Page:Осельтамивир_ru.wikipedia.org_all-access_all-agents\n",
      "Page:Suits_(Fernsehserie)_de.wikipedia.org_desktop_all-agents\n",
      "Page:制服_(ナチス親衛隊)_ja.wikipedia.org_desktop_all-agents\n"
     ]
    },
    {
     "name": "stderr",
     "output_type": "stream",
     "text": [
      "00:14:43 - cmdstanpy - INFO - Chain [1] done processing\n",
      "00:14:43 - cmdstanpy - INFO - Chain [1] start processing\n",
      "00:14:43 - cmdstanpy - INFO - Chain [1] start processing\n",
      "00:14:43 - cmdstanpy - INFO - Chain [1] start processing\n",
      "00:14:43 - cmdstanpy - INFO - Chain [1] done processing\n",
      "00:14:43 - cmdstanpy - INFO - Chain [1] done processing\n",
      "00:14:43 - cmdstanpy - INFO - Chain [1] done processing\n",
      "00:14:43 - cmdstanpy - INFO - Chain [1] start processing\n",
      "00:14:43 - cmdstanpy - INFO - Chain [1] done processing\n",
      "00:14:43 - cmdstanpy - INFO - Chain [1] start processing\n",
      "00:14:43 - cmdstanpy - INFO - Chain [1] start processing\n",
      "00:14:43 - cmdstanpy - INFO - Chain [1] start processing\n",
      "00:14:43 - cmdstanpy - INFO - Chain [1] done processing\n",
      "00:14:43 - cmdstanpy - INFO - Chain [1] done processing\n",
      "00:14:43 - cmdstanpy - INFO - Chain [1] done processing\n",
      "00:14:43 - cmdstanpy - INFO - Chain [1] start processing\n",
      "00:14:43 - cmdstanpy - INFO - Chain [1] done processing\n"
     ]
    },
    {
     "name": "stdout",
     "output_type": "stream",
     "text": [
      "Page:Götz_George_de.wikipedia.org_all-access_spider\n",
      "Page:Nafissatou_Thiam_fr.wikipedia.org_desktop_all-agents\n",
      "Page:徳川家斉_ja.wikipedia.org_all-access_all-agents\n",
      "Page:Robert_K._Kraft_de.wikipedia.org_mobile-web_all-agents\n",
      "Page:Ashton_Eaton_fr.wikipedia.org_all-access_all-agents\n",
      "Page:上田竜也_ja.wikipedia.org_mobile-web_all-agents\n",
      "Page:Nochevieja_es.wikipedia.org_all-access_spider\n",
      "Page:Baloncesto_en_los_Juegos_Olímpicos_de_Río_de_Janeiro_2016_es.wikipedia.org_desktop_all-agents\n"
     ]
    },
    {
     "name": "stderr",
     "output_type": "stream",
     "text": [
      "00:14:43 - cmdstanpy - INFO - Chain [1] start processing\n",
      "00:14:43 - cmdstanpy - INFO - Chain [1] start processing\n",
      "00:14:43 - cmdstanpy - INFO - Chain [1] start processing\n",
      "00:14:43 - cmdstanpy - INFO - Chain [1] done processing\n",
      "00:14:43 - cmdstanpy - INFO - Chain [1] done processing\n",
      "00:14:43 - cmdstanpy - INFO - Chain [1] done processing\n",
      "00:14:43 - cmdstanpy - INFO - Chain [1] start processing\n",
      "00:14:43 - cmdstanpy - INFO - Chain [1] done processing\n",
      "00:14:43 - cmdstanpy - INFO - Chain [1] start processing\n",
      "00:14:43 - cmdstanpy - INFO - Chain [1] start processing\n",
      "00:14:43 - cmdstanpy - INFO - Chain [1] start processing\n",
      "00:14:43 - cmdstanpy - INFO - Chain [1] done processing\n",
      "00:14:43 - cmdstanpy - INFO - Chain [1] done processing\n"
     ]
    },
    {
     "name": "stdout",
     "output_type": "stream",
     "text": [
      "Page:Gravitation_de.wikipedia.org_all-access_all-agents\n",
      "Page:Películas_de_Resident_Evil_es.wikipedia.org_all-access_spider\n",
      "Page:北海道_ja.wikipedia.org_all-access_all-agents\n",
      "Page:七草がゆ_ja.wikipedia.org_all-access_spider\n",
      "Page:唐朝_zh.wikipedia.org_mobile-web_all-agents\n",
      "Page:Help:Navigation/ja_www.mediawiki.org_mobile-web_all-agents\n",
      "Page:Centrale_nucléaire_fr.wikipedia.org_desktop_all-agents\n"
     ]
    },
    {
     "name": "stderr",
     "output_type": "stream",
     "text": [
      "00:14:43 - cmdstanpy - INFO - Chain [1] done processing\n",
      "00:14:43 - cmdstanpy - INFO - Chain [1] start processing\n",
      "00:14:43 - cmdstanpy - INFO - Chain [1] done processing\n",
      "00:14:43 - cmdstanpy - INFO - Chain [1] start processing\n",
      "00:14:43 - cmdstanpy - INFO - Chain [1] start processing\n",
      "00:14:43 - cmdstanpy - INFO - Chain [1] start processing\n",
      "00:14:43 - cmdstanpy - INFO - Chain [1] done processing\n",
      "00:14:43 - cmdstanpy - INFO - Chain [1] done processing\n",
      "00:14:43 - cmdstanpy - INFO - Chain [1] done processing\n",
      "00:14:43 - cmdstanpy - INFO - Chain [1] start processing\n",
      "00:14:43 - cmdstanpy - INFO - Chain [1] done processing\n",
      "00:14:43 - cmdstanpy - INFO - Chain [1] start processing\n",
      "00:14:43 - cmdstanpy - INFO - Chain [1] start processing\n",
      "00:14:43 - cmdstanpy - INFO - Chain [1] start processing\n",
      "00:14:43 - cmdstanpy - INFO - Chain [1] done processing\n",
      "00:14:43 - cmdstanpy - INFO - Chain [1] done processing\n",
      "00:14:43 - cmdstanpy - INFO - Chain [1] done processing\n"
     ]
    },
    {
     "name": "stdout",
     "output_type": "stream",
     "text": [
      "Page:File:The_Earth_seen_from_Apollo_17.jpg_commons.wikimedia.org_mobile-web_all-agents\n",
      "Page:ケンダル・ジェンナー_ja.wikipedia.org_desktop_all-agents\n",
      "Page:David_Luiz_fr.wikipedia.org_all-access_all-agents\n",
      "Page:Deadpool_(film)_en.wikipedia.org_mobile-web_all-agents\n",
      "Page:Noche_de_los_Lápices_es.wikipedia.org_all-access_all-agents\n",
      "Page:Спирты_ru.wikipedia.org_mobile-web_all-agents\n",
      "Page:Penis_de.wikipedia.org_mobile-web_all-agents\n",
      "Page:Titanic_(film,_1997)_fr.wikipedia.org_mobile-web_all-agents\n",
      "Page:文森特·梵高_zh.wikipedia.org_desktop_all-agents\n"
     ]
    },
    {
     "name": "stderr",
     "output_type": "stream",
     "text": [
      "00:14:43 - cmdstanpy - INFO - Chain [1] start processing\n",
      "00:14:43 - cmdstanpy - INFO - Chain [1] done processing\n",
      "00:14:43 - cmdstanpy - INFO - Chain [1] start processing\n",
      "00:14:43 - cmdstanpy - INFO - Chain [1] start processing\n",
      "00:14:43 - cmdstanpy - INFO - Chain [1] start processing\n",
      "00:14:43 - cmdstanpy - INFO - Chain [1] done processing\n",
      "00:14:43 - cmdstanpy - INFO - Chain [1] done processing\n",
      "00:14:43 - cmdstanpy - INFO - Chain [1] done processing\n",
      "00:14:43 - cmdstanpy - INFO - Chain [1] start processing\n",
      "00:14:43 - cmdstanpy - INFO - Chain [1] done processing\n",
      "00:14:43 - cmdstanpy - INFO - Chain [1] start processing\n",
      "00:14:43 - cmdstanpy - INFO - Chain [1] start processing\n",
      "00:14:43 - cmdstanpy - INFO - Chain [1] done processing\n",
      "00:14:43 - cmdstanpy - INFO - Chain [1] start processing\n",
      "00:14:43 - cmdstanpy - INFO - Chain [1] done processing\n",
      "00:14:43 - cmdstanpy - INFO - Chain [1] done processing\n",
      "00:14:43 - cmdstanpy - INFO - Chain [1] start processing\n"
     ]
    },
    {
     "name": "stdout",
     "output_type": "stream",
     "text": [
      "Page:Der_Spiegel_de.wikipedia.org_desktop_all-agents\n",
      "Page:John_Wick_es.wikipedia.org_mobile-web_all-agents\n",
      "Page:近衛やす子_ja.wikipedia.org_all-access_spider\n",
      "Page:International_Centre_for_Education_in_Islamic_Finance_en.wikipedia.org_all-access_all-agents\n",
      "Page:水素水_ja.wikipedia.org_desktop_all-agents\n",
      "Page:Corea_del_Norte_es.wikipedia.org_all-access_all-agents\n",
      "Page:Growing_Pains_en.wikipedia.org_all-access_all-agents\n",
      "Page:妻子的誘惑_zh.wikipedia.org_all-access_spider\n",
      "Page:藤岡弘、_ja.wikipedia.org_all-access_all-agents\n",
      "Page:宫崎骏_zh.wikipedia.org_mobile-web_all-agents\n"
     ]
    },
    {
     "name": "stderr",
     "output_type": "stream",
     "text": [
      "00:14:43 - cmdstanpy - INFO - Chain [1] done processing\n",
      "00:14:43 - cmdstanpy - INFO - Chain [1] start processing\n",
      "00:14:43 - cmdstanpy - INFO - Chain [1] start processing\n",
      "00:14:43 - cmdstanpy - INFO - Chain [1] start processing\n",
      "00:14:43 - cmdstanpy - INFO - Chain [1] done processing\n",
      "00:14:43 - cmdstanpy - INFO - Chain [1] done processing\n",
      "00:14:43 - cmdstanpy - INFO - Chain [1] start processing\n",
      "00:14:43 - cmdstanpy - INFO - Chain [1] done processing\n",
      "00:14:43 - cmdstanpy - INFO - Chain [1] done processing\n",
      "00:14:43 - cmdstanpy - INFO - Chain [1] start processing\n",
      "00:14:43 - cmdstanpy - INFO - Chain [1] start processing\n",
      "00:14:44 - cmdstanpy - INFO - Chain [1] start processing\n",
      "00:14:44 - cmdstanpy - INFO - Chain [1] done processing\n",
      "00:14:44 - cmdstanpy - INFO - Chain [1] done processing\n",
      "00:14:44 - cmdstanpy - INFO - Chain [1] start processing\n",
      "00:14:44 - cmdstanpy - INFO - Chain [1] done processing\n",
      "00:14:44 - cmdstanpy - INFO - Chain [1] done processing\n",
      "00:14:44 - cmdstanpy - INFO - Chain [1] start processing\n",
      "00:14:44 - cmdstanpy - INFO - Chain [1] start processing\n"
     ]
    },
    {
     "name": "stdout",
     "output_type": "stream",
     "text": [
      "Page:Шнуров,_Сергей_Владимирович_ru.wikipedia.org_desktop_all-agents\n",
      "Page:Category:Courtship_in_humans_commons.wikimedia.org_mobile-web_all-agents\n",
      "Page:Équipe_de_Roumanie_de_football_fr.wikipedia.org_all-access_spider\n",
      "Page:Amistad_es.wikipedia.org_all-access_spider\n",
      "Page:Incoterm_es.wikipedia.org_desktop_all-agents\n",
      "Page:List_of_mobile_phone_makers_by_country_en.wikipedia.org_all-access_spider\n",
      "Page:Museum_of_Arts_and_Design_en.wikipedia.org_all-access_all-agents\n",
      "Page:Vontaze_Burfict_en.wikipedia.org_mobile-web_all-agents\n",
      "Page:Verso_es.wikipedia.org_all-access_spider\n",
      "Page:Producto_interno_bruto_es.wikipedia.org_mobile-web_all-agents\n"
     ]
    },
    {
     "name": "stderr",
     "output_type": "stream",
     "text": [
      "00:14:44 - cmdstanpy - INFO - Chain [1] start processing\n",
      "00:14:44 - cmdstanpy - INFO - Chain [1] done processing\n",
      "00:14:44 - cmdstanpy - INFO - Chain [1] done processing\n",
      "00:14:44 - cmdstanpy - INFO - Chain [1] start processing\n",
      "00:14:44 - cmdstanpy - INFO - Chain [1] done processing\n",
      "00:14:44 - cmdstanpy - INFO - Chain [1] done processing\n",
      "00:14:44 - cmdstanpy - INFO - Chain [1] start processing\n",
      "00:14:44 - cmdstanpy - INFO - Chain [1] start processing\n",
      "00:14:44 - cmdstanpy - INFO - Chain [1] start processing\n",
      "00:14:44 - cmdstanpy - INFO - Chain [1] done processing\n",
      "00:14:44 - cmdstanpy - INFO - Chain [1] done processing\n",
      "00:14:44 - cmdstanpy - INFO - Chain [1] start processing\n",
      "00:14:44 - cmdstanpy - INFO - Chain [1] done processing\n",
      "00:14:44 - cmdstanpy - INFO - Chain [1] done processing\n",
      "00:14:44 - cmdstanpy - INFO - Chain [1] start processing\n",
      "00:14:44 - cmdstanpy - INFO - Chain [1] start processing\n",
      "00:14:44 - cmdstanpy - INFO - Chain [1] done processing\n",
      "00:14:44 - cmdstanpy - INFO - Chain [1] start processing\n",
      "00:14:44 - cmdstanpy - INFO - Chain [1] done processing\n",
      "00:14:44 - cmdstanpy - INFO - Chain [1] start processing\n",
      "00:14:44 - cmdstanpy - INFO - Chain [1] done processing\n"
     ]
    },
    {
     "name": "stdout",
     "output_type": "stream",
     "text": [
      "Page:Deep_Purple_ru.wikipedia.org_desktop_all-agents\n",
      "Page:Category:Human_penis_commons.wikimedia.org_mobile-web_all-agents\n",
      "Page:File:Инцухт.pdf_commons.wikimedia.org_all-access_spider\n",
      "Page:Lucía_de_Siracusa_es.wikipedia.org_mobile-web_all-agents\n",
      "Page:Mike_Webster_en.wikipedia.org_all-access_all-agents\n",
      "Page:Aluminio_es.wikipedia.org_desktop_all-agents\n",
      "Page:Árbol_de_Navidad_es.wikipedia.org_all-access_all-agents\n",
      "Page:Juegos_Olímpicos_de_Sídney_2000_es.wikipedia.org_mobile-web_all-agents\n"
     ]
    },
    {
     "name": "stderr",
     "output_type": "stream",
     "text": [
      "00:14:44 - cmdstanpy - INFO - Chain [1] done processing\n",
      "00:14:44 - cmdstanpy - INFO - Chain [1] start processing\n",
      "00:14:44 - cmdstanpy - INFO - Chain [1] start processing\n",
      "00:14:44 - cmdstanpy - INFO - Chain [1] done processing\n",
      "00:14:44 - cmdstanpy - INFO - Chain [1] start processing\n",
      "00:14:44 - cmdstanpy - INFO - Chain [1] done processing\n",
      "00:14:44 - cmdstanpy - INFO - Chain [1] start processing\n",
      "00:14:44 - cmdstanpy - INFO - Chain [1] done processing\n",
      "00:14:44 - cmdstanpy - INFO - Chain [1] done processing\n",
      "00:14:44 - cmdstanpy - INFO - Chain [1] start processing\n",
      "00:14:44 - cmdstanpy - INFO - Chain [1] start processing\n",
      "00:14:44 - cmdstanpy - INFO - Chain [1] done processing\n",
      "00:14:44 - cmdstanpy - INFO - Chain [1] done processing\n",
      "00:14:44 - cmdstanpy - INFO - Chain [1] start processing\n",
      "00:14:44 - cmdstanpy - INFO - Chain [1] start processing\n"
     ]
    },
    {
     "name": "stdout",
     "output_type": "stream",
     "text": [
      "Page:シカゴ・カブス_ja.wikipedia.org_desktop_all-agents\n",
      "Page:Bettina_Zimmermann_de.wikipedia.org_mobile-web_all-agents\n",
      "Page:范冰冰_zh.wikipedia.org_all-access_all-agents\n",
      "Page:Barack_Obama_fr.wikipedia.org_all-access_all-agents\n",
      "Page:爸爸去哪儿_(第三季)_zh.wikipedia.org_all-access_all-agents\n",
      "Page:アサシン_クリード_ja.wikipedia.org_all-access_spider\n",
      "Page:聯合國海洋法公約_zh.wikipedia.org_mobile-web_all-agents\n",
      "Page:Магнето_(Marvel_Comics)_ru.wikipedia.org_all-access_spider\n",
      "Page:Fundación_de_Guayaquil_es.wikipedia.org_desktop_all-agents\n",
      "Page:Germany_en.wikipedia.org_mobile-web_all-agents\n"
     ]
    },
    {
     "name": "stderr",
     "output_type": "stream",
     "text": [
      "00:14:44 - cmdstanpy - INFO - Chain [1] done processing\n",
      "00:14:44 - cmdstanpy - INFO - Chain [1] done processing\n",
      "00:14:44 - cmdstanpy - INFO - Chain [1] start processing\n",
      "00:14:44 - cmdstanpy - INFO - Chain [1] start processing\n",
      "00:14:44 - cmdstanpy - INFO - Chain [1] done processing\n",
      "00:14:44 - cmdstanpy - INFO - Chain [1] done processing\n",
      "00:14:44 - cmdstanpy - INFO - Chain [1] start processing\n",
      "00:14:44 - cmdstanpy - INFO - Chain [1] start processing\n",
      "00:14:44 - cmdstanpy - INFO - Chain [1] done processing\n",
      "00:14:44 - cmdstanpy - INFO - Chain [1] done processing\n",
      "00:14:44 - cmdstanpy - INFO - Chain [1] start processing\n",
      "00:14:44 - cmdstanpy - INFO - Chain [1] start processing\n",
      "00:14:44 - cmdstanpy - INFO - Chain [1] done processing\n",
      "00:14:44 - cmdstanpy - INFO - Chain [1] start processing\n",
      "00:14:44 - cmdstanpy - INFO - Chain [1] start processing\n",
      "00:14:44 - cmdstanpy - INFO - Chain [1] done processing\n",
      "00:14:44 - cmdstanpy - INFO - Chain [1] done processing\n"
     ]
    },
    {
     "name": "stdout",
     "output_type": "stream",
     "text": [
      "Page:Marvel_Cinematic_Universe_de.wikipedia.org_all-access_all-agents\n",
      "Page:Empire_romain_fr.wikipedia.org_all-access_all-agents\n",
      "Page:Guerra_de_Vietnam_es.wikipedia.org_all-access_spider\n",
      "Page:Édouard_Baer_fr.wikipedia.org_all-access_all-agents\n",
      "Page:O_Tannenbaum_de.wikipedia.org_desktop_all-agents\n",
      "Page:Однажды_в_сказке_ru.wikipedia.org_all-access_spider\n",
      "Page:東国原英夫_ja.wikipedia.org_all-access_spider\n",
      "Page:モブサイコ100_ja.wikipedia.org_desktop_all-agents\n",
      "Page:姚期智_zh.wikipedia.org_desktop_all-agents\n",
      "Page:2PM_zh.wikipedia.org_mobile-web_all-agents\n"
     ]
    },
    {
     "name": "stderr",
     "output_type": "stream",
     "text": [
      "00:14:44 - cmdstanpy - INFO - Chain [1] done processing\n",
      "00:14:44 - cmdstanpy - INFO - Chain [1] start processing\n",
      "00:14:44 - cmdstanpy - INFO - Chain [1] start processing\n",
      "00:14:44 - cmdstanpy - INFO - Chain [1] done processing\n",
      "00:14:44 - cmdstanpy - INFO - Chain [1] done processing\n",
      "00:14:44 - cmdstanpy - INFO - Chain [1] start processing\n",
      "00:14:44 - cmdstanpy - INFO - Chain [1] start processing\n",
      "00:14:44 - cmdstanpy - INFO - Chain [1] done processing\n",
      "00:14:44 - cmdstanpy - INFO - Chain [1] done processing\n",
      "00:14:44 - cmdstanpy - INFO - Chain [1] start processing\n",
      "00:14:44 - cmdstanpy - INFO - Chain [1] done processing\n",
      "00:14:44 - cmdstanpy - INFO - Chain [1] start processing\n",
      "00:14:44 - cmdstanpy - INFO - Chain [1] done processing\n",
      "00:14:44 - cmdstanpy - INFO - Chain [1] start processing\n",
      "00:14:44 - cmdstanpy - INFO - Chain [1] start processing\n",
      "00:14:44 - cmdstanpy - INFO - Chain [1] done processing\n",
      "00:14:44 - cmdstanpy - INFO - Chain [1] start processing\n",
      "00:14:44 - cmdstanpy - INFO - Chain [1] done processing\n",
      "00:14:44 - cmdstanpy - INFO - Chain [1] done processing\n",
      "00:14:44 - cmdstanpy - INFO - Chain [1] start processing\n"
     ]
    },
    {
     "name": "stdout",
     "output_type": "stream",
     "text": [
      "Page:Marija_Jurjewna_Scharapowa_de.wikipedia.org_mobile-web_all-agents\n",
      "Page:Help:Categories/pt-br_www.mediawiki.org_all-access_spider\n",
      "Page:馬東錫_zh.wikipedia.org_mobile-web_all-agents\n",
      "Page:Template:API_www.mediawiki.org_all-access_all-agents\n",
      "Page:Oroville-Staudamm_de.wikipedia.org_all-access_spider\n",
      "Page:Carolina_Bescansa_es.wikipedia.org_all-access_all-agents\n",
      "Page:XFL_en.wikipedia.org_all-access_all-agents\n",
      "Page:Enrique_San_Francisco_es.wikipedia.org_mobile-web_all-agents\n",
      "Page:Controversy_(Prince_album)_en.wikipedia.org_desktop_all-agents\n"
     ]
    },
    {
     "name": "stderr",
     "output_type": "stream",
     "text": [
      "00:14:44 - cmdstanpy - INFO - Chain [1] done processing\n",
      "00:14:44 - cmdstanpy - INFO - Chain [1] start processing\n",
      "00:14:44 - cmdstanpy - INFO - Chain [1] start processing\n",
      "00:14:44 - cmdstanpy - INFO - Chain [1] start processing\n",
      "00:14:44 - cmdstanpy - INFO - Chain [1] done processing\n",
      "00:14:44 - cmdstanpy - INFO - Chain [1] done processing\n",
      "00:14:44 - cmdstanpy - INFO - Chain [1] done processing\n",
      "00:14:44 - cmdstanpy - INFO - Chain [1] start processing\n",
      "00:14:45 - cmdstanpy - INFO - Chain [1] done processing\n",
      "00:14:45 - cmdstanpy - INFO - Chain [1] start processing\n",
      "00:14:45 - cmdstanpy - INFO - Chain [1] start processing\n",
      "00:14:45 - cmdstanpy - INFO - Chain [1] start processing\n",
      "00:14:45 - cmdstanpy - INFO - Chain [1] done processing\n",
      "00:14:45 - cmdstanpy - INFO - Chain [1] done processing\n",
      "00:14:45 - cmdstanpy - INFO - Chain [1] done processing\n",
      "00:14:45 - cmdstanpy - INFO - Chain [1] start processing\n",
      "00:14:45 - cmdstanpy - INFO - Chain [1] done processing\n",
      "00:14:45 - cmdstanpy - INFO - Chain [1] start processing\n",
      "00:14:45 - cmdstanpy - INFO - Chain [1] start processing\n",
      "00:14:45 - cmdstanpy - INFO - Chain [1] start processing\n"
     ]
    },
    {
     "name": "stdout",
     "output_type": "stream",
     "text": [
      "Page:Audrey_Hepburn_fr.wikipedia.org_all-access_spider\n",
      "Page:Orange_Is_the_New_Black_en.wikipedia.org_all-access_spider\n",
      "Page:George_Clooney_fr.wikipedia.org_all-access_all-agents\n",
      "Page:田中くんはいつもけだるげ_ja.wikipedia.org_desktop_all-agents\n",
      "Page:Stephen_Hawking_de.wikipedia.org_all-access_all-agents\n",
      "Page:Ernest_Hemingway_en.wikipedia.org_mobile-web_all-agents\n",
      "Page:Fritz_Bauer_de.wikipedia.org_all-access_spider\n",
      "Page:Template:File_renaming_reasons/render_commons.wikimedia.org_all-access_spider\n",
      "Page:陳嘉樺_zh.wikipedia.org_desktop_all-agents\n"
     ]
    },
    {
     "name": "stderr",
     "output_type": "stream",
     "text": [
      "00:14:45 - cmdstanpy - INFO - Chain [1] done processing\n",
      "00:14:45 - cmdstanpy - INFO - Chain [1] done processing\n",
      "00:14:45 - cmdstanpy - INFO - Chain [1] start processing\n",
      "00:14:45 - cmdstanpy - INFO - Chain [1] done processing\n",
      "00:14:45 - cmdstanpy - INFO - Chain [1] done processing\n",
      "00:14:45 - cmdstanpy - INFO - Chain [1] start processing\n",
      "00:14:45 - cmdstanpy - INFO - Chain [1] start processing\n",
      "00:14:45 - cmdstanpy - INFO - Chain [1] start processing\n",
      "00:14:45 - cmdstanpy - INFO - Chain [1] done processing\n",
      "00:14:45 - cmdstanpy - INFO - Chain [1] done processing\n",
      "00:14:45 - cmdstanpy - INFO - Chain [1] start processing\n",
      "00:14:45 - cmdstanpy - INFO - Chain [1] done processing\n",
      "00:14:45 - cmdstanpy - INFO - Chain [1] done processing\n",
      "00:14:45 - cmdstanpy - INFO - Chain [1] start processing\n",
      "00:14:45 - cmdstanpy - INFO - Chain [1] start processing\n",
      "00:14:45 - cmdstanpy - INFO - Chain [1] start processing\n",
      "00:14:45 - cmdstanpy - INFO - Chain [1] done processing\n",
      "00:14:45 - cmdstanpy - INFO - Chain [1] done processing\n",
      "00:14:45 - cmdstanpy - INFO - Chain [1] start processing\n",
      "00:14:45 - cmdstanpy - INFO - Chain [1] done processing\n"
     ]
    },
    {
     "name": "stdout",
     "output_type": "stream",
     "text": [
      "Page:Neuer_Wein_de.wikipedia.org_all-access_all-agents\n",
      "Page:火影忍者_zh.wikipedia.org_all-access_spider\n",
      "Page:Olympic_flame_en.wikipedia.org_mobile-web_all-agents\n",
      "Page:基斯坦奴·朗拿度_zh.wikipedia.org_all-access_all-agents\n",
      "Page:Lucie_Lucas_fr.wikipedia.org_desktop_all-agents\n",
      "Page:長野里美_ja.wikipedia.org_all-access_all-agents\n",
      "Page:GFRIEND_zh.wikipedia.org_all-access_spider\n",
      "Page:Dolly_Parton_en.wikipedia.org_desktop_all-agents\n",
      "Page:Olympische_Sommerspiele_2004_de.wikipedia.org_all-access_spider\n",
      "Page:Número_real_es.wikipedia.org_all-access_all-agents\n",
      "Page:Marco_Polo_(série_télévisée,_2014)_fr.wikipedia.org_all-access_spider\n"
     ]
    },
    {
     "name": "stderr",
     "output_type": "stream",
     "text": [
      "00:14:45 - cmdstanpy - INFO - Chain [1] done processing\n",
      "00:14:45 - cmdstanpy - INFO - Chain [1] start processing\n",
      "00:14:45 - cmdstanpy - INFO - Chain [1] start processing\n",
      "00:14:45 - cmdstanpy - INFO - Chain [1] start processing\n",
      "00:14:45 - cmdstanpy - INFO - Chain [1] done processing\n",
      "00:14:45 - cmdstanpy - INFO - Chain [1] done processing\n",
      "00:14:45 - cmdstanpy - INFO - Chain [1] done processing\n",
      "00:14:45 - cmdstanpy - INFO - Chain [1] start processing\n",
      "00:14:45 - cmdstanpy - INFO - Chain [1] done processing\n",
      "00:14:45 - cmdstanpy - INFO - Chain [1] start processing\n",
      "00:14:45 - cmdstanpy - INFO - Chain [1] start processing\n",
      "00:14:45 - cmdstanpy - INFO - Chain [1] start processing\n",
      "00:14:45 - cmdstanpy - INFO - Chain [1] done processing\n",
      "00:14:45 - cmdstanpy - INFO - Chain [1] done processing\n",
      "00:14:45 - cmdstanpy - INFO - Chain [1] done processing\n",
      "00:14:45 - cmdstanpy - INFO - Chain [1] start processing\n",
      "00:14:45 - cmdstanpy - INFO - Chain [1] done processing\n"
     ]
    },
    {
     "name": "stdout",
     "output_type": "stream",
     "text": [
      "Page:渡辺二郎_ja.wikipedia.org_all-access_all-agents\n",
      "Page:Reince_Priebus_de.wikipedia.org_desktop_all-agents\n",
      "Page:Один_дома_ru.wikipedia.org_desktop_all-agents\n",
      "Page:Category:Clitoral_hood_piercings_commons.wikimedia.org_mobile-web_all-agents\n",
      "Page:Vladimir_Putin_en.wikipedia.org_all-access_spider\n",
      "Page:叢林的法則_zh.wikipedia.org_all-access_all-agents\n",
      "Page:Гамбит_(Marvel_Comics)_ru.wikipedia.org_desktop_all-agents\n",
      "Page:Loïe_Fuller_fr.wikipedia.org_all-access_spider\n",
      "Page:クリミナル・マインド_FBI行動分析課_ja.wikipedia.org_mobile-web_all-agents\n"
     ]
    },
    {
     "name": "stderr",
     "output_type": "stream",
     "text": [
      "00:14:45 - cmdstanpy - INFO - Chain [1] start processing\n",
      "00:14:45 - cmdstanpy - INFO - Chain [1] start processing\n",
      "00:14:45 - cmdstanpy - INFO - Chain [1] start processing\n",
      "00:14:45 - cmdstanpy - INFO - Chain [1] done processing\n",
      "00:14:45 - cmdstanpy - INFO - Chain [1] done processing\n",
      "00:14:45 - cmdstanpy - INFO - Chain [1] done processing\n",
      "00:14:45 - cmdstanpy - INFO - Chain [1] start processing\n",
      "00:14:45 - cmdstanpy - INFO - Chain [1] done processing\n",
      "00:14:45 - cmdstanpy - INFO - Chain [1] start processing\n",
      "00:14:45 - cmdstanpy - INFO - Chain [1] start processing\n",
      "00:14:45 - cmdstanpy - INFO - Chain [1] start processing\n",
      "00:14:45 - cmdstanpy - INFO - Chain [1] done processing\n",
      "00:14:45 - cmdstanpy - INFO - Chain [1] done processing\n",
      "00:14:45 - cmdstanpy - INFO - Chain [1] done processing\n",
      "00:14:45 - cmdstanpy - INFO - Chain [1] start processing\n",
      "00:14:45 - cmdstanpy - INFO - Chain [1] done processing\n",
      "00:14:45 - cmdstanpy - INFO - Chain [1] start processing\n",
      "00:14:45 - cmdstanpy - INFO - Chain [1] start processing\n",
      "00:14:45 - cmdstanpy - INFO - Chain [1] start processing\n",
      "00:14:45 - cmdstanpy - INFO - Chain [1] done processing\n",
      "00:14:45 - cmdstanpy - INFO - Chain [1] done processing\n"
     ]
    },
    {
     "name": "stdout",
     "output_type": "stream",
     "text": [
      "Page:Halloween_(Filmreihe)_de.wikipedia.org_all-access_all-agents\n",
      "Page:中村梅雀_ja.wikipedia.org_desktop_all-agents\n",
      "Page:Tutankamón_es.wikipedia.org_all-access_spider\n",
      "Page:めざましテレビ_ja.wikipedia.org_all-access_spider\n",
      "Page:Chris_Hoy_en.wikipedia.org_mobile-web_all-agents\n",
      "Page:Paráfrasis_es.wikipedia.org_desktop_all-agents\n",
      "Page:公明党_ja.wikipedia.org_mobile-web_all-agents\n",
      "Page:楠田枝里子_ja.wikipedia.org_mobile-web_all-agents\n",
      "Page:N'Golo_Kanté_fr.wikipedia.org_desktop_all-agents\n",
      "Page:Архипова,_Нина_Николаевна_ru.wikipedia.org_all-access_all-agents\n",
      "Page:File:Wikiquote-logo.svg_commons.wikimedia.org_all-access_spider\n",
      "Page:Andreas_Bourani_de.wikipedia.org_desktop_all-agents\n"
     ]
    },
    {
     "name": "stderr",
     "output_type": "stream",
     "text": [
      "00:14:45 - cmdstanpy - INFO - Chain [1] done processing\n",
      "00:14:45 - cmdstanpy - INFO - Chain [1] start processing\n",
      "00:14:45 - cmdstanpy - INFO - Chain [1] done processing\n",
      "00:14:45 - cmdstanpy - INFO - Chain [1] start processing\n",
      "00:14:45 - cmdstanpy - INFO - Chain [1] start processing\n",
      "00:14:45 - cmdstanpy - INFO - Chain [1] start processing\n",
      "00:14:45 - cmdstanpy - INFO - Chain [1] done processing\n",
      "00:14:45 - cmdstanpy - INFO - Chain [1] start processing\n",
      "00:14:45 - cmdstanpy - INFO - Chain [1] done processing\n",
      "00:14:45 - cmdstanpy - INFO - Chain [1] done processing\n",
      "00:14:45 - cmdstanpy - INFO - Chain [1] done processing\n",
      "00:14:45 - cmdstanpy - INFO - Chain [1] start processing\n",
      "00:14:45 - cmdstanpy - INFO - Chain [1] start processing\n",
      "00:14:45 - cmdstanpy - INFO - Chain [1] done processing\n",
      "00:14:45 - cmdstanpy - INFO - Chain [1] done processing\n",
      "00:14:45 - cmdstanpy - INFO - Chain [1] start processing\n",
      "00:14:45 - cmdstanpy - INFO - Chain [1] start processing\n",
      "00:14:45 - cmdstanpy - INFO - Chain [1] done processing\n",
      "00:14:45 - cmdstanpy - INFO - Chain [1] done processing\n"
     ]
    },
    {
     "name": "stdout",
     "output_type": "stream",
     "text": [
      "Page:Древнерусская_литература_ru.wikipedia.org_all-access_spider\n",
      "Page:Special:LanguageStats_www.mediawiki.org_all-access_all-agents\n",
      "Page:Category:Wiki-Sexuality_Images_commons.wikimedia.org_mobile-web_all-agents\n",
      "Page:Jack_London_fr.wikipedia.org_mobile-web_all-agents\n",
      "Page:Amélie_Nothomb_fr.wikipedia.org_all-access_all-agents\n",
      "Page:モンタージュ_(漫画)_ja.wikipedia.org_all-access_all-agents\n",
      "Page:Harki_fr.wikipedia.org_desktop_all-agents\n",
      "Page:Sp_fr.wikipedia.org_all-access_spider\n",
      "Page:Steve_Pieczenik_en.wikipedia.org_desktop_all-agents\n",
      "Page:Release_notes_www.mediawiki.org_desktop_all-agents\n",
      "Page:Sonnenwende_de.wikipedia.org_desktop_all-agents\n"
     ]
    },
    {
     "name": "stderr",
     "output_type": "stream",
     "text": [
      "00:14:45 - cmdstanpy - INFO - Chain [1] start processing\n",
      "00:14:45 - cmdstanpy - INFO - Chain [1] start processing\n",
      "00:14:46 - cmdstanpy - INFO - Chain [1] done processing\n",
      "00:14:46 - cmdstanpy - INFO - Chain [1] start processing\n",
      "00:14:46 - cmdstanpy - INFO - Chain [1] done processing\n",
      "00:14:46 - cmdstanpy - INFO - Chain [1] start processing\n",
      "00:14:46 - cmdstanpy - INFO - Chain [1] done processing\n",
      "00:14:46 - cmdstanpy - INFO - Chain [1] done processing\n",
      "00:14:46 - cmdstanpy - INFO - Chain [1] start processing\n",
      "00:14:46 - cmdstanpy - INFO - Chain [1] start processing\n",
      "00:14:46 - cmdstanpy - INFO - Chain [1] start processing\n",
      "00:14:46 - cmdstanpy - INFO - Chain [1] done processing\n",
      "00:14:46 - cmdstanpy - INFO - Chain [1] done processing\n",
      "00:14:46 - cmdstanpy - INFO - Chain [1] done processing\n",
      "00:14:46 - cmdstanpy - INFO - Chain [1] start processing\n",
      "00:14:46 - cmdstanpy - INFO - Chain [1] done processing\n",
      "00:14:46 - cmdstanpy - INFO - Chain [1] start processing\n",
      "00:14:46 - cmdstanpy - INFO - Chain [1] start processing\n",
      "00:14:46 - cmdstanpy - INFO - Chain [1] start processing\n",
      "00:14:46 - cmdstanpy - INFO - Chain [1] done processing\n",
      "00:14:46 - cmdstanpy - INFO - Chain [1] done processing\n",
      "00:14:46 - cmdstanpy - INFO - Chain [1] done processing\n",
      "00:14:46 - cmdstanpy - INFO - Chain [1] start processing\n",
      "00:14:46 - cmdstanpy - INFO - Chain [1] start processing\n",
      "00:14:46 - cmdstanpy - INFO - Chain [1] start processing\n",
      "00:14:46 - cmdstanpy - INFO - Chain [1] start processing\n",
      "00:14:46 - cmdstanpy - INFO - Chain [1] done processing\n",
      "00:14:46 - cmdstanpy - INFO - Chain [1] done processing\n",
      "00:14:46 - cmdstanpy - INFO - Chain [1] done processing\n",
      "00:14:46 - cmdstanpy - INFO - Chain [1] done processing\n",
      "00:14:46 - cmdstanpy - INFO - Chain [1] start processing\n",
      "00:14:46 - cmdstanpy - INFO - Chain [1] start processing\n",
      "00:14:46 - cmdstanpy - INFO - Chain [1] start processing\n",
      "00:14:46 - cmdstanpy - INFO - Chain [1] done processing\n",
      "00:14:46 - cmdstanpy - INFO - Chain [1] done processing\n",
      "00:14:46 - cmdstanpy - INFO - Chain [1] start processing\n",
      "00:14:46 - cmdstanpy - INFO - Chain [1] done processing\n",
      "00:14:46 - cmdstanpy - INFO - Chain [1] done processing\n"
     ]
    },
    {
     "name": "stdout",
     "output_type": "stream",
     "text": [
      "Page:UEFA_Euro_2004_en.wikipedia.org_desktop_all-agents\n",
      "Page:Buster_Keaton_fr.wikipedia.org_mobile-web_all-agents\n",
      "Page:Печенеги_ru.wikipedia.org_all-access_all-agents\n",
      "Page:姚立明_zh.wikipedia.org_all-access_spider\n",
      "Page:Boy_George_en.wikipedia.org_mobile-web_all-agents\n",
      "Page:スタジオジブリ_ja.wikipedia.org_all-access_all-agents\n",
      "Page:Decathlon_en.wikipedia.org_mobile-web_all-agents\n",
      "Page:Saroo_Brierley_en.wikipedia.org_desktop_all-agents\n"
     ]
    }
   ],
   "source": [
    "p = Parallel(n_jobs=4)(jobs)\n",
    "p = pd.concat(p, ignore_index=True)\n",
    "p['yhat'] = p['yhat'].clip(lower=0)\n",
    "p = p.merge(valid, on=['ds', 'page'], how='left')"
   ]
  },
  {
   "cell_type": "code",
   "execution_count": 231,
   "metadata": {},
   "outputs": [
    {
     "data": {
      "text/plain": [
       "75.41613636917188"
      ]
     },
     "execution_count": 231,
     "metadata": {},
     "output_type": "execute_result"
    }
   ],
   "source": [
    "smape(p['y'], p['yhat'])"
   ]
  },
  {
   "cell_type": "markdown",
   "metadata": {},
   "source": [
    "Let's plot the predictions"
   ]
  },
  {
   "cell_type": "code",
   "execution_count": 232,
   "metadata": {},
   "outputs": [
    {
     "name": "stderr",
     "output_type": "stream",
     "text": [
      "/var/folders/ln/ryk6y70j7rg4321f6rt3hxx80000gn/T/ipykernel_70853/1105828159.py:11: UserWarning: Glyph 23556 (\\N{CJK UNIFIED IDEOGRAPH-5C04}) missing from current font.\n",
      "  fig.tight_layout()\n",
      "/var/folders/ln/ryk6y70j7rg4321f6rt3hxx80000gn/T/ipykernel_70853/1105828159.py:11: UserWarning: Glyph 40304 (\\N{CJK UNIFIED IDEOGRAPH-9D70}) missing from current font.\n",
      "  fig.tight_layout()\n",
      "/var/folders/ln/ryk6y70j7rg4321f6rt3hxx80000gn/T/ipykernel_70853/1105828159.py:11: UserWarning: Glyph 33521 (\\N{CJK UNIFIED IDEOGRAPH-82F1}) missing from current font.\n",
      "  fig.tight_layout()\n",
      "/var/folders/ln/ryk6y70j7rg4321f6rt3hxx80000gn/T/ipykernel_70853/1105828159.py:11: UserWarning: Glyph 38596 (\\N{CJK UNIFIED IDEOGRAPH-96C4}) missing from current font.\n",
      "  fig.tight_layout()\n",
      "/var/folders/ln/ryk6y70j7rg4321f6rt3hxx80000gn/T/ipykernel_70853/1105828159.py:11: UserWarning: Glyph 20659 (\\N{CJK UNIFIED IDEOGRAPH-50B3}) missing from current font.\n",
      "  fig.tight_layout()\n",
      "/var/folders/ln/ryk6y70j7rg4321f6rt3hxx80000gn/T/ipykernel_70853/1105828159.py:11: UserWarning: Glyph 24180 (\\N{CJK UNIFIED IDEOGRAPH-5E74}) missing from current font.\n",
      "  fig.tight_layout()\n",
      "/var/folders/ln/ryk6y70j7rg4321f6rt3hxx80000gn/T/ipykernel_70853/1105828159.py:11: UserWarning: Glyph 38651 (\\N{CJK UNIFIED IDEOGRAPH-96FB}) missing from current font.\n",
      "  fig.tight_layout()\n",
      "/var/folders/ln/ryk6y70j7rg4321f6rt3hxx80000gn/T/ipykernel_70853/1105828159.py:11: UserWarning: Glyph 35222 (\\N{CJK UNIFIED IDEOGRAPH-8996}) missing from current font.\n",
      "  fig.tight_layout()\n",
      "/var/folders/ln/ryk6y70j7rg4321f6rt3hxx80000gn/T/ipykernel_70853/1105828159.py:11: UserWarning: Glyph 21127 (\\N{CJK UNIFIED IDEOGRAPH-5287}) missing from current font.\n",
      "  fig.tight_layout()\n",
      "/Users/mehuljain/miniconda3/envs/aaamlp/lib/python3.10/site-packages/IPython/core/pylabtools.py:152: UserWarning: Glyph 23556 (\\N{CJK UNIFIED IDEOGRAPH-5C04}) missing from current font.\n",
      "  fig.canvas.print_figure(bytes_io, **kw)\n",
      "/Users/mehuljain/miniconda3/envs/aaamlp/lib/python3.10/site-packages/IPython/core/pylabtools.py:152: UserWarning: Glyph 40304 (\\N{CJK UNIFIED IDEOGRAPH-9D70}) missing from current font.\n",
      "  fig.canvas.print_figure(bytes_io, **kw)\n",
      "/Users/mehuljain/miniconda3/envs/aaamlp/lib/python3.10/site-packages/IPython/core/pylabtools.py:152: UserWarning: Glyph 33521 (\\N{CJK UNIFIED IDEOGRAPH-82F1}) missing from current font.\n",
      "  fig.canvas.print_figure(bytes_io, **kw)\n",
      "/Users/mehuljain/miniconda3/envs/aaamlp/lib/python3.10/site-packages/IPython/core/pylabtools.py:152: UserWarning: Glyph 38596 (\\N{CJK UNIFIED IDEOGRAPH-96C4}) missing from current font.\n",
      "  fig.canvas.print_figure(bytes_io, **kw)\n",
      "/Users/mehuljain/miniconda3/envs/aaamlp/lib/python3.10/site-packages/IPython/core/pylabtools.py:152: UserWarning: Glyph 20659 (\\N{CJK UNIFIED IDEOGRAPH-50B3}) missing from current font.\n",
      "  fig.canvas.print_figure(bytes_io, **kw)\n",
      "/Users/mehuljain/miniconda3/envs/aaamlp/lib/python3.10/site-packages/IPython/core/pylabtools.py:152: UserWarning: Glyph 24180 (\\N{CJK UNIFIED IDEOGRAPH-5E74}) missing from current font.\n",
      "  fig.canvas.print_figure(bytes_io, **kw)\n",
      "/Users/mehuljain/miniconda3/envs/aaamlp/lib/python3.10/site-packages/IPython/core/pylabtools.py:152: UserWarning: Glyph 38651 (\\N{CJK UNIFIED IDEOGRAPH-96FB}) missing from current font.\n",
      "  fig.canvas.print_figure(bytes_io, **kw)\n",
      "/Users/mehuljain/miniconda3/envs/aaamlp/lib/python3.10/site-packages/IPython/core/pylabtools.py:152: UserWarning: Glyph 35222 (\\N{CJK UNIFIED IDEOGRAPH-8996}) missing from current font.\n",
      "  fig.canvas.print_figure(bytes_io, **kw)\n",
      "/Users/mehuljain/miniconda3/envs/aaamlp/lib/python3.10/site-packages/IPython/core/pylabtools.py:152: UserWarning: Glyph 21127 (\\N{CJK UNIFIED IDEOGRAPH-5287}) missing from current font.\n",
      "  fig.canvas.print_figure(bytes_io, **kw)\n"
     ]
    },
    {
     "data": {
      "image/png": "[encoded data removed]",
      "text/plain": [
       "<Figure size 1280x720 with 6 Axes>"
      ]
     },
     "metadata": {},
     "output_type": "display_data"
    }
   ],
   "source": [
    "fig, ax = plt.subplots(3,2, figsize=(1280/96, 720/96), dpi=96)\n",
    "ax = ax.flatten()\n",
    "for ax_ ,family in enumerate(p['page'].unique()[:6]):\n",
    "    p_ = p.loc[p['page'] == family]\n",
    "    p_.plot(x='ds', y='y', ax=ax[ax_], label='Visits')\n",
    "    p_.plot(x='ds', y='yhat', ax=ax[ax_], label='Forecast')\n",
    "    ax[ax_].set_title(family)\n",
    "    ax[ax_].legend()\n",
    "    ax[ax_].set_xlabel('Date')\n",
    "    ax[ax_].set_ylabel('Sales')\n",
    "fig.tight_layout()\n",
    "plt.show()"
   ]
  }
 ],
 "metadata": {
  "kernelspec": {
   "display_name": "Python 3.10.13 ('aaamlp')",
   "language": "python",
   "name": "python3"
  },
  "language_info": {
   "codemirror_mode": {
    "name": "ipython",
    "version": 3
   },
   "file_extension": ".py",
   "mimetype": "text/x-python",
   "name": "python",
   "nbconvert_exporter": "python",
   "pygments_lexer": "ipython3",
   "version": "3.10.13"
  },
  "orig_nbformat": 4,
  "vscode": {
   "interpreter": {
    "hash": "7b4fa02d624aa14302a2bf27bb61987085528b0f3e94a588c971b4bff4158fe7"
   }
  }
 },
 "nbformat": 4,
 "nbformat_minor": 2
}
