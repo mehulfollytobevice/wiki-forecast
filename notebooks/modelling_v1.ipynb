{
 "cells": [
  {
   "cell_type": "markdown",
   "metadata": {},
   "source": [
    "# Modelling version-1:"
   ]
  },
  {
   "cell_type": "markdown",
   "metadata": {},
   "source": [
    "In this notebook, we will explore the one-model approach for `Wikipedia Web Traffic Forecasting` problem. In the one-model approach, we will create one generalizable model that can forecast the number of visits for all the pages present in the dataset. "
   ]
  },
  {
   "cell_type": "markdown",
   "metadata": {},
   "source": [
    "Import libraries"
   ]
  },
  {
   "cell_type": "code",
   "execution_count": 206,
   "metadata": {},
   "outputs": [],
   "source": [
    "import pandas as pd\n",
    "import numpy as np\n",
    "import re \n",
    "import pandas as pd\n",
    "import matplotlib.pyplot as plt\n",
    "import seaborn as sns\n",
    "from statsmodels.tsa.arima.model import ARIMA\n",
    "from sklearn.preprocessing import MinMaxScaler\n",
    "from sklearn.impute import SimpleImputer\n",
    "from sklearn.ensemble import RandomForestRegressor"
   ]
  },
  {
   "cell_type": "markdown",
   "metadata": {},
   "source": [
    "## Load the data:"
   ]
  },
  {
   "cell_type": "code",
   "execution_count": 207,
   "metadata": {},
   "outputs": [],
   "source": [
    "PATH= \"../data/train_1.csv\""
   ]
  },
  {
   "cell_type": "code",
   "execution_count": 208,
   "metadata": {},
   "outputs": [],
   "source": [
    "df= pd.read_csv(PATH)"
   ]
  },
  {
   "cell_type": "code",
   "execution_count": 209,
   "metadata": {},
   "outputs": [
    {
     "data": {
      "text/html": [
       "<div>\n",
       "<style scoped>\n",
       "    .dataframe tbody tr th:only-of-type {\n",
       "        vertical-align: middle;\n",
       "    }\n",
       "\n",
       "    .dataframe tbody tr th {\n",
       "        vertical-align: top;\n",
       "    }\n",
       "\n",
       "    .dataframe thead th {\n",
       "        text-align: right;\n",
       "    }\n",
       "</style>\n",
       "<table border=\"1\" class=\"dataframe\">\n",
       "  <thead>\n",
       "    <tr style=\"text-align: right;\">\n",
       "      <th></th>\n",
       "      <th>Page</th>\n",
       "      <th>2015-07-01</th>\n",
       "      <th>2015-07-02</th>\n",
       "      <th>2015-07-03</th>\n",
       "      <th>2015-07-04</th>\n",
       "      <th>2015-07-05</th>\n",
       "      <th>2015-07-06</th>\n",
       "      <th>2015-07-07</th>\n",
       "      <th>2015-07-08</th>\n",
       "      <th>2015-07-09</th>\n",
       "      <th>...</th>\n",
       "      <th>2016-12-22</th>\n",
       "      <th>2016-12-23</th>\n",
       "      <th>2016-12-24</th>\n",
       "      <th>2016-12-25</th>\n",
       "      <th>2016-12-26</th>\n",
       "      <th>2016-12-27</th>\n",
       "      <th>2016-12-28</th>\n",
       "      <th>2016-12-29</th>\n",
       "      <th>2016-12-30</th>\n",
       "      <th>2016-12-31</th>\n",
       "    </tr>\n",
       "  </thead>\n",
       "  <tbody>\n",
       "    <tr>\n",
       "      <th>0</th>\n",
       "      <td>2NE1_zh.wikipedia.org_all-access_spider</td>\n",
       "      <td>18.0</td>\n",
       "      <td>11.0</td>\n",
       "      <td>5.0</td>\n",
       "      <td>13.0</td>\n",
       "      <td>14.0</td>\n",
       "      <td>9.0</td>\n",
       "      <td>9.0</td>\n",
       "      <td>22.0</td>\n",
       "      <td>26.0</td>\n",
       "      <td>...</td>\n",
       "      <td>32.0</td>\n",
       "      <td>63.0</td>\n",
       "      <td>15.0</td>\n",
       "      <td>26.0</td>\n",
       "      <td>14.0</td>\n",
       "      <td>20.0</td>\n",
       "      <td>22.0</td>\n",
       "      <td>19.0</td>\n",
       "      <td>18.0</td>\n",
       "      <td>20.0</td>\n",
       "    </tr>\n",
       "    <tr>\n",
       "      <th>1</th>\n",
       "      <td>2PM_zh.wikipedia.org_all-access_spider</td>\n",
       "      <td>11.0</td>\n",
       "      <td>14.0</td>\n",
       "      <td>15.0</td>\n",
       "      <td>18.0</td>\n",
       "      <td>11.0</td>\n",
       "      <td>13.0</td>\n",
       "      <td>22.0</td>\n",
       "      <td>11.0</td>\n",
       "      <td>10.0</td>\n",
       "      <td>...</td>\n",
       "      <td>17.0</td>\n",
       "      <td>42.0</td>\n",
       "      <td>28.0</td>\n",
       "      <td>15.0</td>\n",
       "      <td>9.0</td>\n",
       "      <td>30.0</td>\n",
       "      <td>52.0</td>\n",
       "      <td>45.0</td>\n",
       "      <td>26.0</td>\n",
       "      <td>20.0</td>\n",
       "    </tr>\n",
       "    <tr>\n",
       "      <th>2</th>\n",
       "      <td>3C_zh.wikipedia.org_all-access_spider</td>\n",
       "      <td>1.0</td>\n",
       "      <td>0.0</td>\n",
       "      <td>1.0</td>\n",
       "      <td>1.0</td>\n",
       "      <td>0.0</td>\n",
       "      <td>4.0</td>\n",
       "      <td>0.0</td>\n",
       "      <td>3.0</td>\n",
       "      <td>4.0</td>\n",
       "      <td>...</td>\n",
       "      <td>3.0</td>\n",
       "      <td>1.0</td>\n",
       "      <td>1.0</td>\n",
       "      <td>7.0</td>\n",
       "      <td>4.0</td>\n",
       "      <td>4.0</td>\n",
       "      <td>6.0</td>\n",
       "      <td>3.0</td>\n",
       "      <td>4.0</td>\n",
       "      <td>17.0</td>\n",
       "    </tr>\n",
       "    <tr>\n",
       "      <th>3</th>\n",
       "      <td>4minute_zh.wikipedia.org_all-access_spider</td>\n",
       "      <td>35.0</td>\n",
       "      <td>13.0</td>\n",
       "      <td>10.0</td>\n",
       "      <td>94.0</td>\n",
       "      <td>4.0</td>\n",
       "      <td>26.0</td>\n",
       "      <td>14.0</td>\n",
       "      <td>9.0</td>\n",
       "      <td>11.0</td>\n",
       "      <td>...</td>\n",
       "      <td>32.0</td>\n",
       "      <td>10.0</td>\n",
       "      <td>26.0</td>\n",
       "      <td>27.0</td>\n",
       "      <td>16.0</td>\n",
       "      <td>11.0</td>\n",
       "      <td>17.0</td>\n",
       "      <td>19.0</td>\n",
       "      <td>10.0</td>\n",
       "      <td>11.0</td>\n",
       "    </tr>\n",
       "    <tr>\n",
       "      <th>4</th>\n",
       "      <td>52_Hz_I_Love_You_zh.wikipedia.org_all-access_s...</td>\n",
       "      <td>NaN</td>\n",
       "      <td>NaN</td>\n",
       "      <td>NaN</td>\n",
       "      <td>NaN</td>\n",
       "      <td>NaN</td>\n",
       "      <td>NaN</td>\n",
       "      <td>NaN</td>\n",
       "      <td>NaN</td>\n",
       "      <td>NaN</td>\n",
       "      <td>...</td>\n",
       "      <td>48.0</td>\n",
       "      <td>9.0</td>\n",
       "      <td>25.0</td>\n",
       "      <td>13.0</td>\n",
       "      <td>3.0</td>\n",
       "      <td>11.0</td>\n",
       "      <td>27.0</td>\n",
       "      <td>13.0</td>\n",
       "      <td>36.0</td>\n",
       "      <td>10.0</td>\n",
       "    </tr>\n",
       "  </tbody>\n",
       "</table>\n",
       "<p>5 rows × 551 columns</p>\n",
       "</div>"
      ],
      "text/plain": [
       "                                                Page  2015-07-01  2015-07-02  \\\n",
       "0            2NE1_zh.wikipedia.org_all-access_spider        18.0        11.0   \n",
       "1             2PM_zh.wikipedia.org_all-access_spider        11.0        14.0   \n",
       "2              3C_zh.wikipedia.org_all-access_spider         1.0         0.0   \n",
       "3         4minute_zh.wikipedia.org_all-access_spider        35.0        13.0   \n",
       "4  52_Hz_I_Love_You_zh.wikipedia.org_all-access_s...         NaN         NaN   \n",
       "\n",
       "   2015-07-03  2015-07-04  2015-07-05  2015-07-06  2015-07-07  2015-07-08  \\\n",
       "0         5.0        13.0        14.0         9.0         9.0        22.0   \n",
       "1        15.0        18.0        11.0        13.0        22.0        11.0   \n",
       "2         1.0         1.0         0.0         4.0         0.0         3.0   \n",
       "3        10.0        94.0         4.0        26.0        14.0         9.0   \n",
       "4         NaN         NaN         NaN         NaN         NaN         NaN   \n",
       "\n",
       "   2015-07-09  ...  2016-12-22  2016-12-23  2016-12-24  2016-12-25  \\\n",
       "0        26.0  ...        32.0        63.0        15.0        26.0   \n",
       "1        10.0  ...        17.0        42.0        28.0        15.0   \n",
       "2         4.0  ...         3.0         1.0         1.0         7.0   \n",
       "3        11.0  ...        32.0        10.0        26.0        27.0   \n",
       "4         NaN  ...        48.0         9.0        25.0        13.0   \n",
       "\n",
       "   2016-12-26  2016-12-27  2016-12-28  2016-12-29  2016-12-30  2016-12-31  \n",
       "0        14.0        20.0        22.0        19.0        18.0        20.0  \n",
       "1         9.0        30.0        52.0        45.0        26.0        20.0  \n",
       "2         4.0         4.0         6.0         3.0         4.0        17.0  \n",
       "3        16.0        11.0        17.0        19.0        10.0        11.0  \n",
       "4         3.0        11.0        27.0        13.0        36.0        10.0  \n",
       "\n",
       "[5 rows x 551 columns]"
      ]
     },
     "execution_count": 209,
     "metadata": {},
     "output_type": "execute_result"
    }
   ],
   "source": [
    "df.head()"
   ]
  },
  {
   "cell_type": "code",
   "execution_count": 210,
   "metadata": {},
   "outputs": [
    {
     "name": "stdout",
     "output_type": "stream",
     "text": [
      "<class 'pandas.core.frame.DataFrame'>\n",
      "RangeIndex: 145063 entries, 0 to 145062\n",
      "Columns: 551 entries, Page to 2016-12-31\n",
      "dtypes: float64(550), object(1)\n",
      "memory usage: 609.8+ MB\n"
     ]
    }
   ],
   "source": [
    "df.info()"
   ]
  },
  {
   "cell_type": "markdown",
   "metadata": {},
   "source": [
    "What are the columns in the dataset?"
   ]
  },
  {
   "cell_type": "code",
   "execution_count": 211,
   "metadata": {},
   "outputs": [
    {
     "data": {
      "text/plain": [
       "Index(['Page', '2015-07-01', '2015-07-02', '2015-07-03', '2015-07-04',\n",
       "       '2015-07-05', '2015-07-06', '2015-07-07', '2015-07-08', '2015-07-09',\n",
       "       ...\n",
       "       '2016-12-22', '2016-12-23', '2016-12-24', '2016-12-25', '2016-12-26',\n",
       "       '2016-12-27', '2016-12-28', '2016-12-29', '2016-12-30', '2016-12-31'],\n",
       "      dtype='object', length=551)"
      ]
     },
     "execution_count": 211,
     "metadata": {},
     "output_type": "execute_result"
    }
   ],
   "source": [
    "df.columns"
   ]
  },
  {
   "cell_type": "markdown",
   "metadata": {},
   "source": [
    "Other dataframes"
   ]
  },
  {
   "cell_type": "code",
   "execution_count": 212,
   "metadata": {},
   "outputs": [],
   "source": [
    "PATH_2= \"../data/key_1.csv\""
   ]
  },
  {
   "cell_type": "code",
   "execution_count": 213,
   "metadata": {},
   "outputs": [],
   "source": [
    "key_df= pd.read_csv(PATH_2)"
   ]
  },
  {
   "cell_type": "code",
   "execution_count": 214,
   "metadata": {},
   "outputs": [
    {
     "data": {
      "text/html": [
       "<div>\n",
       "<style scoped>\n",
       "    .dataframe tbody tr th:only-of-type {\n",
       "        vertical-align: middle;\n",
       "    }\n",
       "\n",
       "    .dataframe tbody tr th {\n",
       "        vertical-align: top;\n",
       "    }\n",
       "\n",
       "    .dataframe thead th {\n",
       "        text-align: right;\n",
       "    }\n",
       "</style>\n",
       "<table border=\"1\" class=\"dataframe\">\n",
       "  <thead>\n",
       "    <tr style=\"text-align: right;\">\n",
       "      <th></th>\n",
       "      <th>Page</th>\n",
       "      <th>Id</th>\n",
       "    </tr>\n",
       "  </thead>\n",
       "  <tbody>\n",
       "    <tr>\n",
       "      <th>0</th>\n",
       "      <td>!vote_en.wikipedia.org_all-access_all-agents_2...</td>\n",
       "      <td>bf4edcf969af</td>\n",
       "    </tr>\n",
       "    <tr>\n",
       "      <th>1</th>\n",
       "      <td>!vote_en.wikipedia.org_all-access_all-agents_2...</td>\n",
       "      <td>929ed2bf52b9</td>\n",
       "    </tr>\n",
       "    <tr>\n",
       "      <th>2</th>\n",
       "      <td>!vote_en.wikipedia.org_all-access_all-agents_2...</td>\n",
       "      <td>ff29d0f51d5c</td>\n",
       "    </tr>\n",
       "    <tr>\n",
       "      <th>3</th>\n",
       "      <td>!vote_en.wikipedia.org_all-access_all-agents_2...</td>\n",
       "      <td>e98873359be6</td>\n",
       "    </tr>\n",
       "    <tr>\n",
       "      <th>4</th>\n",
       "      <td>!vote_en.wikipedia.org_all-access_all-agents_2...</td>\n",
       "      <td>fa012434263a</td>\n",
       "    </tr>\n",
       "  </tbody>\n",
       "</table>\n",
       "</div>"
      ],
      "text/plain": [
       "                                                Page            Id\n",
       "0  !vote_en.wikipedia.org_all-access_all-agents_2...  bf4edcf969af\n",
       "1  !vote_en.wikipedia.org_all-access_all-agents_2...  929ed2bf52b9\n",
       "2  !vote_en.wikipedia.org_all-access_all-agents_2...  ff29d0f51d5c\n",
       "3  !vote_en.wikipedia.org_all-access_all-agents_2...  e98873359be6\n",
       "4  !vote_en.wikipedia.org_all-access_all-agents_2...  fa012434263a"
      ]
     },
     "execution_count": 214,
     "metadata": {},
     "output_type": "execute_result"
    }
   ],
   "source": [
    "key_df.head()"
   ]
  },
  {
   "cell_type": "code",
   "execution_count": 215,
   "metadata": {},
   "outputs": [
    {
     "data": {
      "text/plain": [
       "(8703780, 2)"
      ]
     },
     "execution_count": 215,
     "metadata": {},
     "output_type": "execute_result"
    }
   ],
   "source": [
    "key_df.shape"
   ]
  },
  {
   "cell_type": "markdown",
   "metadata": {},
   "source": [
    "`key_df` contains the alpha-numeric ID for each Page and Date combination"
   ]
  },
  {
   "cell_type": "code",
   "execution_count": 216,
   "metadata": {},
   "outputs": [
    {
     "data": {
      "text/plain": [
       "'!vote_en.wikipedia.org_all-access_all-agents_2017-01-02'"
      ]
     },
     "execution_count": 216,
     "metadata": {},
     "output_type": "execute_result"
    }
   ],
   "source": [
    "# for example\n",
    "key_df.iloc[1].Page"
   ]
  },
  {
   "cell_type": "markdown",
   "metadata": {},
   "source": [
    "## Melt the dataframe:"
   ]
  },
  {
   "cell_type": "markdown",
   "metadata": {},
   "source": [
    "First, drop rows with null values"
   ]
  },
  {
   "cell_type": "code",
   "execution_count": 217,
   "metadata": {},
   "outputs": [],
   "source": [
    "df=df.dropna()"
   ]
  },
  {
   "cell_type": "code",
   "execution_count": 218,
   "metadata": {},
   "outputs": [
    {
     "data": {
      "text/html": [
       "<div>\n",
       "<style scoped>\n",
       "    .dataframe tbody tr th:only-of-type {\n",
       "        vertical-align: middle;\n",
       "    }\n",
       "\n",
       "    .dataframe tbody tr th {\n",
       "        vertical-align: top;\n",
       "    }\n",
       "\n",
       "    .dataframe thead th {\n",
       "        text-align: right;\n",
       "    }\n",
       "</style>\n",
       "<table border=\"1\" class=\"dataframe\">\n",
       "  <thead>\n",
       "    <tr style=\"text-align: right;\">\n",
       "      <th></th>\n",
       "      <th>Page</th>\n",
       "      <th>2015-07-01</th>\n",
       "      <th>2015-07-02</th>\n",
       "      <th>2015-07-03</th>\n",
       "      <th>2015-07-04</th>\n",
       "      <th>2015-07-05</th>\n",
       "      <th>2015-07-06</th>\n",
       "      <th>2015-07-07</th>\n",
       "      <th>2015-07-08</th>\n",
       "      <th>2015-07-09</th>\n",
       "      <th>...</th>\n",
       "      <th>2016-12-22</th>\n",
       "      <th>2016-12-23</th>\n",
       "      <th>2016-12-24</th>\n",
       "      <th>2016-12-25</th>\n",
       "      <th>2016-12-26</th>\n",
       "      <th>2016-12-27</th>\n",
       "      <th>2016-12-28</th>\n",
       "      <th>2016-12-29</th>\n",
       "      <th>2016-12-30</th>\n",
       "      <th>2016-12-31</th>\n",
       "    </tr>\n",
       "  </thead>\n",
       "  <tbody>\n",
       "    <tr>\n",
       "      <th>0</th>\n",
       "      <td>2NE1_zh.wikipedia.org_all-access_spider</td>\n",
       "      <td>18.0</td>\n",
       "      <td>11.0</td>\n",
       "      <td>5.0</td>\n",
       "      <td>13.0</td>\n",
       "      <td>14.0</td>\n",
       "      <td>9.0</td>\n",
       "      <td>9.0</td>\n",
       "      <td>22.0</td>\n",
       "      <td>26.0</td>\n",
       "      <td>...</td>\n",
       "      <td>32.0</td>\n",
       "      <td>63.0</td>\n",
       "      <td>15.0</td>\n",
       "      <td>26.0</td>\n",
       "      <td>14.0</td>\n",
       "      <td>20.0</td>\n",
       "      <td>22.0</td>\n",
       "      <td>19.0</td>\n",
       "      <td>18.0</td>\n",
       "      <td>20.0</td>\n",
       "    </tr>\n",
       "    <tr>\n",
       "      <th>1</th>\n",
       "      <td>2PM_zh.wikipedia.org_all-access_spider</td>\n",
       "      <td>11.0</td>\n",
       "      <td>14.0</td>\n",
       "      <td>15.0</td>\n",
       "      <td>18.0</td>\n",
       "      <td>11.0</td>\n",
       "      <td>13.0</td>\n",
       "      <td>22.0</td>\n",
       "      <td>11.0</td>\n",
       "      <td>10.0</td>\n",
       "      <td>...</td>\n",
       "      <td>17.0</td>\n",
       "      <td>42.0</td>\n",
       "      <td>28.0</td>\n",
       "      <td>15.0</td>\n",
       "      <td>9.0</td>\n",
       "      <td>30.0</td>\n",
       "      <td>52.0</td>\n",
       "      <td>45.0</td>\n",
       "      <td>26.0</td>\n",
       "      <td>20.0</td>\n",
       "    </tr>\n",
       "    <tr>\n",
       "      <th>2</th>\n",
       "      <td>3C_zh.wikipedia.org_all-access_spider</td>\n",
       "      <td>1.0</td>\n",
       "      <td>0.0</td>\n",
       "      <td>1.0</td>\n",
       "      <td>1.0</td>\n",
       "      <td>0.0</td>\n",
       "      <td>4.0</td>\n",
       "      <td>0.0</td>\n",
       "      <td>3.0</td>\n",
       "      <td>4.0</td>\n",
       "      <td>...</td>\n",
       "      <td>3.0</td>\n",
       "      <td>1.0</td>\n",
       "      <td>1.0</td>\n",
       "      <td>7.0</td>\n",
       "      <td>4.0</td>\n",
       "      <td>4.0</td>\n",
       "      <td>6.0</td>\n",
       "      <td>3.0</td>\n",
       "      <td>4.0</td>\n",
       "      <td>17.0</td>\n",
       "    </tr>\n",
       "    <tr>\n",
       "      <th>3</th>\n",
       "      <td>4minute_zh.wikipedia.org_all-access_spider</td>\n",
       "      <td>35.0</td>\n",
       "      <td>13.0</td>\n",
       "      <td>10.0</td>\n",
       "      <td>94.0</td>\n",
       "      <td>4.0</td>\n",
       "      <td>26.0</td>\n",
       "      <td>14.0</td>\n",
       "      <td>9.0</td>\n",
       "      <td>11.0</td>\n",
       "      <td>...</td>\n",
       "      <td>32.0</td>\n",
       "      <td>10.0</td>\n",
       "      <td>26.0</td>\n",
       "      <td>27.0</td>\n",
       "      <td>16.0</td>\n",
       "      <td>11.0</td>\n",
       "      <td>17.0</td>\n",
       "      <td>19.0</td>\n",
       "      <td>10.0</td>\n",
       "      <td>11.0</td>\n",
       "    </tr>\n",
       "    <tr>\n",
       "      <th>5</th>\n",
       "      <td>5566_zh.wikipedia.org_all-access_spider</td>\n",
       "      <td>12.0</td>\n",
       "      <td>7.0</td>\n",
       "      <td>4.0</td>\n",
       "      <td>5.0</td>\n",
       "      <td>20.0</td>\n",
       "      <td>8.0</td>\n",
       "      <td>5.0</td>\n",
       "      <td>17.0</td>\n",
       "      <td>24.0</td>\n",
       "      <td>...</td>\n",
       "      <td>16.0</td>\n",
       "      <td>27.0</td>\n",
       "      <td>8.0</td>\n",
       "      <td>17.0</td>\n",
       "      <td>32.0</td>\n",
       "      <td>19.0</td>\n",
       "      <td>23.0</td>\n",
       "      <td>17.0</td>\n",
       "      <td>17.0</td>\n",
       "      <td>50.0</td>\n",
       "    </tr>\n",
       "  </tbody>\n",
       "</table>\n",
       "<p>5 rows × 551 columns</p>\n",
       "</div>"
      ],
      "text/plain": [
       "                                         Page  2015-07-01  2015-07-02  \\\n",
       "0     2NE1_zh.wikipedia.org_all-access_spider        18.0        11.0   \n",
       "1      2PM_zh.wikipedia.org_all-access_spider        11.0        14.0   \n",
       "2       3C_zh.wikipedia.org_all-access_spider         1.0         0.0   \n",
       "3  4minute_zh.wikipedia.org_all-access_spider        35.0        13.0   \n",
       "5     5566_zh.wikipedia.org_all-access_spider        12.0         7.0   \n",
       "\n",
       "   2015-07-03  2015-07-04  2015-07-05  2015-07-06  2015-07-07  2015-07-08  \\\n",
       "0         5.0        13.0        14.0         9.0         9.0        22.0   \n",
       "1        15.0        18.0        11.0        13.0        22.0        11.0   \n",
       "2         1.0         1.0         0.0         4.0         0.0         3.0   \n",
       "3        10.0        94.0         4.0        26.0        14.0         9.0   \n",
       "5         4.0         5.0        20.0         8.0         5.0        17.0   \n",
       "\n",
       "   2015-07-09  ...  2016-12-22  2016-12-23  2016-12-24  2016-12-25  \\\n",
       "0        26.0  ...        32.0        63.0        15.0        26.0   \n",
       "1        10.0  ...        17.0        42.0        28.0        15.0   \n",
       "2         4.0  ...         3.0         1.0         1.0         7.0   \n",
       "3        11.0  ...        32.0        10.0        26.0        27.0   \n",
       "5        24.0  ...        16.0        27.0         8.0        17.0   \n",
       "\n",
       "   2016-12-26  2016-12-27  2016-12-28  2016-12-29  2016-12-30  2016-12-31  \n",
       "0        14.0        20.0        22.0        19.0        18.0        20.0  \n",
       "1         9.0        30.0        52.0        45.0        26.0        20.0  \n",
       "2         4.0         4.0         6.0         3.0         4.0        17.0  \n",
       "3        16.0        11.0        17.0        19.0        10.0        11.0  \n",
       "5        32.0        19.0        23.0        17.0        17.0        50.0  \n",
       "\n",
       "[5 rows x 551 columns]"
      ]
     },
     "execution_count": 218,
     "metadata": {},
     "output_type": "execute_result"
    }
   ],
   "source": [
    "df.head()"
   ]
  },
  {
   "cell_type": "markdown",
   "metadata": {},
   "source": [
    "Take a sample from the dataframe"
   ]
  },
  {
   "cell_type": "code",
   "execution_count": 219,
   "metadata": {},
   "outputs": [],
   "source": [
    "df_sample=df.sample(n=500, random_state=42)"
   ]
  },
  {
   "cell_type": "code",
   "execution_count": 220,
   "metadata": {},
   "outputs": [
    {
     "data": {
      "text/html": [
       "<div>\n",
       "<style scoped>\n",
       "    .dataframe tbody tr th:only-of-type {\n",
       "        vertical-align: middle;\n",
       "    }\n",
       "\n",
       "    .dataframe tbody tr th {\n",
       "        vertical-align: top;\n",
       "    }\n",
       "\n",
       "    .dataframe thead th {\n",
       "        text-align: right;\n",
       "    }\n",
       "</style>\n",
       "<table border=\"1\" class=\"dataframe\">\n",
       "  <thead>\n",
       "    <tr style=\"text-align: right;\">\n",
       "      <th></th>\n",
       "      <th>Page</th>\n",
       "      <th>2015-07-01</th>\n",
       "      <th>2015-07-02</th>\n",
       "      <th>2015-07-03</th>\n",
       "      <th>2015-07-04</th>\n",
       "      <th>2015-07-05</th>\n",
       "      <th>2015-07-06</th>\n",
       "      <th>2015-07-07</th>\n",
       "      <th>2015-07-08</th>\n",
       "      <th>2015-07-09</th>\n",
       "      <th>...</th>\n",
       "      <th>2016-12-22</th>\n",
       "      <th>2016-12-23</th>\n",
       "      <th>2016-12-24</th>\n",
       "      <th>2016-12-25</th>\n",
       "      <th>2016-12-26</th>\n",
       "      <th>2016-12-27</th>\n",
       "      <th>2016-12-28</th>\n",
       "      <th>2016-12-29</th>\n",
       "      <th>2016-12-30</th>\n",
       "      <th>2016-12-31</th>\n",
       "    </tr>\n",
       "  </thead>\n",
       "  <tbody>\n",
       "    <tr>\n",
       "      <th>42042</th>\n",
       "      <td>Luis_Suárez_en.wikipedia.org_all-access_all-ag...</td>\n",
       "      <td>4261.0</td>\n",
       "      <td>3872.0</td>\n",
       "      <td>3896.0</td>\n",
       "      <td>4270.0</td>\n",
       "      <td>3973.0</td>\n",
       "      <td>4300.0</td>\n",
       "      <td>4115.0</td>\n",
       "      <td>4028.0</td>\n",
       "      <td>3846.0</td>\n",
       "      <td>...</td>\n",
       "      <td>4437.0</td>\n",
       "      <td>3676.0</td>\n",
       "      <td>3226.0</td>\n",
       "      <td>3291.0</td>\n",
       "      <td>3836.0</td>\n",
       "      <td>4008.0</td>\n",
       "      <td>4092.0</td>\n",
       "      <td>3764.0</td>\n",
       "      <td>3719.0</td>\n",
       "      <td>3477.0</td>\n",
       "    </tr>\n",
       "    <tr>\n",
       "      <th>99800</th>\n",
       "      <td>Фрейзер,_Джо_ru.wikipedia.org_all-access_all-a...</td>\n",
       "      <td>291.0</td>\n",
       "      <td>347.0</td>\n",
       "      <td>335.0</td>\n",
       "      <td>305.0</td>\n",
       "      <td>283.0</td>\n",
       "      <td>270.0</td>\n",
       "      <td>302.0</td>\n",
       "      <td>327.0</td>\n",
       "      <td>303.0</td>\n",
       "      <td>...</td>\n",
       "      <td>421.0</td>\n",
       "      <td>391.0</td>\n",
       "      <td>528.0</td>\n",
       "      <td>418.0</td>\n",
       "      <td>403.0</td>\n",
       "      <td>356.0</td>\n",
       "      <td>379.0</td>\n",
       "      <td>388.0</td>\n",
       "      <td>365.0</td>\n",
       "      <td>243.0</td>\n",
       "    </tr>\n",
       "    <tr>\n",
       "      <th>53520</th>\n",
       "      <td>Dr_House_fr.wikipedia.org_mobile-web_all-agents</td>\n",
       "      <td>304.0</td>\n",
       "      <td>264.0</td>\n",
       "      <td>417.0</td>\n",
       "      <td>230.0</td>\n",
       "      <td>1002.0</td>\n",
       "      <td>406.0</td>\n",
       "      <td>318.0</td>\n",
       "      <td>321.0</td>\n",
       "      <td>345.0</td>\n",
       "      <td>...</td>\n",
       "      <td>450.0</td>\n",
       "      <td>442.0</td>\n",
       "      <td>335.0</td>\n",
       "      <td>373.0</td>\n",
       "      <td>914.0</td>\n",
       "      <td>728.0</td>\n",
       "      <td>961.0</td>\n",
       "      <td>1648.0</td>\n",
       "      <td>501.0</td>\n",
       "      <td>500.0</td>\n",
       "    </tr>\n",
       "    <tr>\n",
       "      <th>80024</th>\n",
       "      <td>File:Penny_black.jpg_commons.wikimedia.org_mob...</td>\n",
       "      <td>0.0</td>\n",
       "      <td>1.0</td>\n",
       "      <td>5.0</td>\n",
       "      <td>0.0</td>\n",
       "      <td>0.0</td>\n",
       "      <td>1.0</td>\n",
       "      <td>0.0</td>\n",
       "      <td>2.0</td>\n",
       "      <td>0.0</td>\n",
       "      <td>...</td>\n",
       "      <td>1.0</td>\n",
       "      <td>0.0</td>\n",
       "      <td>2.0</td>\n",
       "      <td>1.0</td>\n",
       "      <td>1.0</td>\n",
       "      <td>3.0</td>\n",
       "      <td>1.0</td>\n",
       "      <td>2.0</td>\n",
       "      <td>1.0</td>\n",
       "      <td>1.0</td>\n",
       "    </tr>\n",
       "    <tr>\n",
       "      <th>106799</th>\n",
       "      <td>射鵰英雄傳_(2008年電視劇)_zh.wikipedia.org_mobile-web_a...</td>\n",
       "      <td>121.0</td>\n",
       "      <td>107.0</td>\n",
       "      <td>107.0</td>\n",
       "      <td>117.0</td>\n",
       "      <td>107.0</td>\n",
       "      <td>111.0</td>\n",
       "      <td>114.0</td>\n",
       "      <td>105.0</td>\n",
       "      <td>105.0</td>\n",
       "      <td>...</td>\n",
       "      <td>339.0</td>\n",
       "      <td>387.0</td>\n",
       "      <td>178.0</td>\n",
       "      <td>179.0</td>\n",
       "      <td>339.0</td>\n",
       "      <td>330.0</td>\n",
       "      <td>387.0</td>\n",
       "      <td>342.0</td>\n",
       "      <td>524.0</td>\n",
       "      <td>218.0</td>\n",
       "    </tr>\n",
       "  </tbody>\n",
       "</table>\n",
       "<p>5 rows × 551 columns</p>\n",
       "</div>"
      ],
      "text/plain": [
       "                                                     Page  2015-07-01  \\\n",
       "42042   Luis_Suárez_en.wikipedia.org_all-access_all-ag...      4261.0   \n",
       "99800   Фрейзер,_Джо_ru.wikipedia.org_all-access_all-a...       291.0   \n",
       "53520     Dr_House_fr.wikipedia.org_mobile-web_all-agents       304.0   \n",
       "80024   File:Penny_black.jpg_commons.wikimedia.org_mob...         0.0   \n",
       "106799  射鵰英雄傳_(2008年電視劇)_zh.wikipedia.org_mobile-web_a...       121.0   \n",
       "\n",
       "        2015-07-02  2015-07-03  2015-07-04  2015-07-05  2015-07-06  \\\n",
       "42042       3872.0      3896.0      4270.0      3973.0      4300.0   \n",
       "99800        347.0       335.0       305.0       283.0       270.0   \n",
       "53520        264.0       417.0       230.0      1002.0       406.0   \n",
       "80024          1.0         5.0         0.0         0.0         1.0   \n",
       "106799       107.0       107.0       117.0       107.0       111.0   \n",
       "\n",
       "        2015-07-07  2015-07-08  2015-07-09  ...  2016-12-22  2016-12-23  \\\n",
       "42042       4115.0      4028.0      3846.0  ...      4437.0      3676.0   \n",
       "99800        302.0       327.0       303.0  ...       421.0       391.0   \n",
       "53520        318.0       321.0       345.0  ...       450.0       442.0   \n",
       "80024          0.0         2.0         0.0  ...         1.0         0.0   \n",
       "106799       114.0       105.0       105.0  ...       339.0       387.0   \n",
       "\n",
       "        2016-12-24  2016-12-25  2016-12-26  2016-12-27  2016-12-28  \\\n",
       "42042       3226.0      3291.0      3836.0      4008.0      4092.0   \n",
       "99800        528.0       418.0       403.0       356.0       379.0   \n",
       "53520        335.0       373.0       914.0       728.0       961.0   \n",
       "80024          2.0         1.0         1.0         3.0         1.0   \n",
       "106799       178.0       179.0       339.0       330.0       387.0   \n",
       "\n",
       "        2016-12-29  2016-12-30  2016-12-31  \n",
       "42042       3764.0      3719.0      3477.0  \n",
       "99800        388.0       365.0       243.0  \n",
       "53520       1648.0       501.0       500.0  \n",
       "80024          2.0         1.0         1.0  \n",
       "106799       342.0       524.0       218.0  \n",
       "\n",
       "[5 rows x 551 columns]"
      ]
     },
     "execution_count": 220,
     "metadata": {},
     "output_type": "execute_result"
    }
   ],
   "source": [
    "df_sample.head()"
   ]
  },
  {
   "cell_type": "markdown",
   "metadata": {},
   "source": [
    "Now melt the dataframe"
   ]
  },
  {
   "cell_type": "code",
   "execution_count": 221,
   "metadata": {},
   "outputs": [],
   "source": [
    "melted= df_sample.melt(id_vars='Page',var_name='Date' , value_name= 'Visits')"
   ]
  },
  {
   "cell_type": "markdown",
   "metadata": {},
   "source": [
    "Let's check out the melted dataframe"
   ]
  },
  {
   "cell_type": "code",
   "execution_count": 222,
   "metadata": {},
   "outputs": [
    {
     "data": {
      "text/html": [
       "<div>\n",
       "<style scoped>\n",
       "    .dataframe tbody tr th:only-of-type {\n",
       "        vertical-align: middle;\n",
       "    }\n",
       "\n",
       "    .dataframe tbody tr th {\n",
       "        vertical-align: top;\n",
       "    }\n",
       "\n",
       "    .dataframe thead th {\n",
       "        text-align: right;\n",
       "    }\n",
       "</style>\n",
       "<table border=\"1\" class=\"dataframe\">\n",
       "  <thead>\n",
       "    <tr style=\"text-align: right;\">\n",
       "      <th></th>\n",
       "      <th>Page</th>\n",
       "      <th>Date</th>\n",
       "      <th>Visits</th>\n",
       "    </tr>\n",
       "  </thead>\n",
       "  <tbody>\n",
       "    <tr>\n",
       "      <th>0</th>\n",
       "      <td>Luis_Suárez_en.wikipedia.org_all-access_all-ag...</td>\n",
       "      <td>2015-07-01</td>\n",
       "      <td>4261.0</td>\n",
       "    </tr>\n",
       "    <tr>\n",
       "      <th>1</th>\n",
       "      <td>Фрейзер,_Джо_ru.wikipedia.org_all-access_all-a...</td>\n",
       "      <td>2015-07-01</td>\n",
       "      <td>291.0</td>\n",
       "    </tr>\n",
       "    <tr>\n",
       "      <th>2</th>\n",
       "      <td>Dr_House_fr.wikipedia.org_mobile-web_all-agents</td>\n",
       "      <td>2015-07-01</td>\n",
       "      <td>304.0</td>\n",
       "    </tr>\n",
       "    <tr>\n",
       "      <th>3</th>\n",
       "      <td>File:Penny_black.jpg_commons.wikimedia.org_mob...</td>\n",
       "      <td>2015-07-01</td>\n",
       "      <td>0.0</td>\n",
       "    </tr>\n",
       "    <tr>\n",
       "      <th>4</th>\n",
       "      <td>射鵰英雄傳_(2008年電視劇)_zh.wikipedia.org_mobile-web_a...</td>\n",
       "      <td>2015-07-01</td>\n",
       "      <td>121.0</td>\n",
       "    </tr>\n",
       "    <tr>\n",
       "      <th>5</th>\n",
       "      <td>Steyr_(Traktorenhersteller)_de.wikipedia.org_d...</td>\n",
       "      <td>2015-07-01</td>\n",
       "      <td>58.0</td>\n",
       "    </tr>\n",
       "    <tr>\n",
       "      <th>6</th>\n",
       "      <td>Category:Nude_in_photography_commons.wikimedia...</td>\n",
       "      <td>2015-07-01</td>\n",
       "      <td>98.0</td>\n",
       "    </tr>\n",
       "    <tr>\n",
       "      <th>7</th>\n",
       "      <td>張善為_zh.wikipedia.org_all-access_spider</td>\n",
       "      <td>2015-07-01</td>\n",
       "      <td>1.0</td>\n",
       "    </tr>\n",
       "    <tr>\n",
       "      <th>8</th>\n",
       "      <td>Bahlika_en.wikipedia.org_all-access_all-agents</td>\n",
       "      <td>2015-07-01</td>\n",
       "      <td>11.0</td>\n",
       "    </tr>\n",
       "    <tr>\n",
       "      <th>9</th>\n",
       "      <td>Ronaldinho_es.wikipedia.org_desktop_all-agents</td>\n",
       "      <td>2015-07-01</td>\n",
       "      <td>2804.0</td>\n",
       "    </tr>\n",
       "  </tbody>\n",
       "</table>\n",
       "</div>"
      ],
      "text/plain": [
       "                                                Page        Date  Visits\n",
       "0  Luis_Suárez_en.wikipedia.org_all-access_all-ag...  2015-07-01  4261.0\n",
       "1  Фрейзер,_Джо_ru.wikipedia.org_all-access_all-a...  2015-07-01   291.0\n",
       "2    Dr_House_fr.wikipedia.org_mobile-web_all-agents  2015-07-01   304.0\n",
       "3  File:Penny_black.jpg_commons.wikimedia.org_mob...  2015-07-01     0.0\n",
       "4  射鵰英雄傳_(2008年電視劇)_zh.wikipedia.org_mobile-web_a...  2015-07-01   121.0\n",
       "5  Steyr_(Traktorenhersteller)_de.wikipedia.org_d...  2015-07-01    58.0\n",
       "6  Category:Nude_in_photography_commons.wikimedia...  2015-07-01    98.0\n",
       "7             張善為_zh.wikipedia.org_all-access_spider  2015-07-01     1.0\n",
       "8     Bahlika_en.wikipedia.org_all-access_all-agents  2015-07-01    11.0\n",
       "9     Ronaldinho_es.wikipedia.org_desktop_all-agents  2015-07-01  2804.0"
      ]
     },
     "execution_count": 222,
     "metadata": {},
     "output_type": "execute_result"
    }
   ],
   "source": [
    "melted.head(10)"
   ]
  },
  {
   "cell_type": "markdown",
   "metadata": {},
   "source": [
    "## Splitting the data:"
   ]
  },
  {
   "cell_type": "markdown",
   "metadata": {},
   "source": [
    "Split the data into training and validation set"
   ]
  },
  {
   "cell_type": "code",
   "execution_count": 223,
   "metadata": {},
   "outputs": [],
   "source": [
    "melted['DateTime'] = pd.to_datetime(melted['Date'])"
   ]
  },
  {
   "cell_type": "code",
   "execution_count": 224,
   "metadata": {},
   "outputs": [
    {
     "data": {
      "text/plain": [
       "('2015-07-01', '2016-12-31')"
      ]
     },
     "execution_count": 224,
     "metadata": {},
     "output_type": "execute_result"
    }
   ],
   "source": [
    "melted.Date.min(), melted.Date.max()"
   ]
  },
  {
   "cell_type": "code",
   "execution_count": 225,
   "metadata": {},
   "outputs": [],
   "source": [
    "earliest_date=melted.DateTime.min()\n",
    "melted['time_step'] = (melted['DateTime'] - earliest_date).dt.days"
   ]
  },
  {
   "cell_type": "code",
   "execution_count": 226,
   "metadata": {},
   "outputs": [
    {
     "data": {
      "text/html": [
       "<div>\n",
       "<style scoped>\n",
       "    .dataframe tbody tr th:only-of-type {\n",
       "        vertical-align: middle;\n",
       "    }\n",
       "\n",
       "    .dataframe tbody tr th {\n",
       "        vertical-align: top;\n",
       "    }\n",
       "\n",
       "    .dataframe thead th {\n",
       "        text-align: right;\n",
       "    }\n",
       "</style>\n",
       "<table border=\"1\" class=\"dataframe\">\n",
       "  <thead>\n",
       "    <tr style=\"text-align: right;\">\n",
       "      <th></th>\n",
       "      <th>Page</th>\n",
       "      <th>Date</th>\n",
       "      <th>Visits</th>\n",
       "      <th>DateTime</th>\n",
       "      <th>time_step</th>\n",
       "    </tr>\n",
       "  </thead>\n",
       "  <tbody>\n",
       "    <tr>\n",
       "      <th>274995</th>\n",
       "      <td>スタジオジブリ_ja.wikipedia.org_all-access_all-agents</td>\n",
       "      <td>2016-12-31</td>\n",
       "      <td>1125.0</td>\n",
       "      <td>2016-12-31</td>\n",
       "      <td>549</td>\n",
       "    </tr>\n",
       "    <tr>\n",
       "      <th>274996</th>\n",
       "      <td>Печенеги_ru.wikipedia.org_all-access_all-agents</td>\n",
       "      <td>2016-12-31</td>\n",
       "      <td>1509.0</td>\n",
       "      <td>2016-12-31</td>\n",
       "      <td>549</td>\n",
       "    </tr>\n",
       "    <tr>\n",
       "      <th>274997</th>\n",
       "      <td>Boy_George_en.wikipedia.org_mobile-web_all-agents</td>\n",
       "      <td>2016-12-31</td>\n",
       "      <td>5228.0</td>\n",
       "      <td>2016-12-31</td>\n",
       "      <td>549</td>\n",
       "    </tr>\n",
       "    <tr>\n",
       "      <th>274998</th>\n",
       "      <td>Decathlon_en.wikipedia.org_mobile-web_all-agents</td>\n",
       "      <td>2016-12-31</td>\n",
       "      <td>812.0</td>\n",
       "      <td>2016-12-31</td>\n",
       "      <td>549</td>\n",
       "    </tr>\n",
       "    <tr>\n",
       "      <th>274999</th>\n",
       "      <td>Saroo_Brierley_en.wikipedia.org_desktop_all-ag...</td>\n",
       "      <td>2016-12-31</td>\n",
       "      <td>2187.0</td>\n",
       "      <td>2016-12-31</td>\n",
       "      <td>549</td>\n",
       "    </tr>\n",
       "  </tbody>\n",
       "</table>\n",
       "</div>"
      ],
      "text/plain": [
       "                                                     Page        Date  Visits  \\\n",
       "274995     スタジオジブリ_ja.wikipedia.org_all-access_all-agents  2016-12-31  1125.0   \n",
       "274996    Печенеги_ru.wikipedia.org_all-access_all-agents  2016-12-31  1509.0   \n",
       "274997  Boy_George_en.wikipedia.org_mobile-web_all-agents  2016-12-31  5228.0   \n",
       "274998   Decathlon_en.wikipedia.org_mobile-web_all-agents  2016-12-31   812.0   \n",
       "274999  Saroo_Brierley_en.wikipedia.org_desktop_all-ag...  2016-12-31  2187.0   \n",
       "\n",
       "         DateTime  time_step  \n",
       "274995 2016-12-31        549  \n",
       "274996 2016-12-31        549  \n",
       "274997 2016-12-31        549  \n",
       "274998 2016-12-31        549  \n",
       "274999 2016-12-31        549  "
      ]
     },
     "execution_count": 226,
     "metadata": {},
     "output_type": "execute_result"
    }
   ],
   "source": [
    "melted.tail()"
   ]
  },
  {
   "cell_type": "markdown",
   "metadata": {},
   "source": [
    "Use the last month data as validation data"
   ]
  },
  {
   "cell_type": "code",
   "execution_count": 227,
   "metadata": {},
   "outputs": [],
   "source": [
    "train=melted[melted['time_step']<490].copy()\n",
    "valid=melted[melted['time_step']>=490].copy()"
   ]
  },
  {
   "cell_type": "markdown",
   "metadata": {},
   "source": [
    "## Create 1-Step target:"
   ]
  },
  {
   "cell_type": "code",
   "execution_count": 228,
   "metadata": {},
   "outputs": [],
   "source": [
    "train['visits_next_day']=train.groupby('Page')['Visits'].shift(-1)"
   ]
  },
  {
   "cell_type": "code",
   "execution_count": 229,
   "metadata": {},
   "outputs": [
    {
     "data": {
      "text/html": [
       "<div>\n",
       "<style scoped>\n",
       "    .dataframe tbody tr th:only-of-type {\n",
       "        vertical-align: middle;\n",
       "    }\n",
       "\n",
       "    .dataframe tbody tr th {\n",
       "        vertical-align: top;\n",
       "    }\n",
       "\n",
       "    .dataframe thead th {\n",
       "        text-align: right;\n",
       "    }\n",
       "</style>\n",
       "<table border=\"1\" class=\"dataframe\">\n",
       "  <thead>\n",
       "    <tr style=\"text-align: right;\">\n",
       "      <th></th>\n",
       "      <th>Page</th>\n",
       "      <th>Date</th>\n",
       "      <th>Visits</th>\n",
       "      <th>DateTime</th>\n",
       "      <th>time_step</th>\n",
       "      <th>visits_next_day</th>\n",
       "    </tr>\n",
       "  </thead>\n",
       "  <tbody>\n",
       "  </tbody>\n",
       "</table>\n",
       "</div>"
      ],
      "text/plain": [
       "Empty DataFrame\n",
       "Columns: [Page, Date, Visits, DateTime, time_step, visits_next_day]\n",
       "Index: []"
      ]
     },
     "execution_count": 229,
     "metadata": {},
     "output_type": "execute_result"
    }
   ],
   "source": [
    "train[train['Page']=='2NE1_zh.wikipedia.org_all-access_spider'].head()"
   ]
  },
  {
   "cell_type": "code",
   "execution_count": 230,
   "metadata": {},
   "outputs": [
    {
     "data": {
      "text/html": [
       "<div>\n",
       "<style scoped>\n",
       "    .dataframe tbody tr th:only-of-type {\n",
       "        vertical-align: middle;\n",
       "    }\n",
       "\n",
       "    .dataframe tbody tr th {\n",
       "        vertical-align: top;\n",
       "    }\n",
       "\n",
       "    .dataframe thead th {\n",
       "        text-align: right;\n",
       "    }\n",
       "</style>\n",
       "<table border=\"1\" class=\"dataframe\">\n",
       "  <thead>\n",
       "    <tr style=\"text-align: right;\">\n",
       "      <th></th>\n",
       "      <th>Page</th>\n",
       "      <th>Date</th>\n",
       "      <th>Visits</th>\n",
       "      <th>DateTime</th>\n",
       "      <th>time_step</th>\n",
       "      <th>visits_next_day</th>\n",
       "    </tr>\n",
       "  </thead>\n",
       "  <tbody>\n",
       "  </tbody>\n",
       "</table>\n",
       "</div>"
      ],
      "text/plain": [
       "Empty DataFrame\n",
       "Columns: [Page, Date, Visits, DateTime, time_step, visits_next_day]\n",
       "Index: []"
      ]
     },
     "execution_count": 230,
     "metadata": {},
     "output_type": "execute_result"
    }
   ],
   "source": [
    "train[train['Page']=='2NE1_zh.wikipedia.org_all-access_spider'].tail()"
   ]
  },
  {
   "cell_type": "code",
   "execution_count": 231,
   "metadata": {},
   "outputs": [],
   "source": [
    "train=train.dropna()"
   ]
  },
  {
   "cell_type": "code",
   "execution_count": 232,
   "metadata": {},
   "outputs": [
    {
     "data": {
      "text/html": [
       "<div>\n",
       "<style scoped>\n",
       "    .dataframe tbody tr th:only-of-type {\n",
       "        vertical-align: middle;\n",
       "    }\n",
       "\n",
       "    .dataframe tbody tr th {\n",
       "        vertical-align: top;\n",
       "    }\n",
       "\n",
       "    .dataframe thead th {\n",
       "        text-align: right;\n",
       "    }\n",
       "</style>\n",
       "<table border=\"1\" class=\"dataframe\">\n",
       "  <thead>\n",
       "    <tr style=\"text-align: right;\">\n",
       "      <th></th>\n",
       "      <th>Page</th>\n",
       "      <th>Date</th>\n",
       "      <th>Visits</th>\n",
       "      <th>DateTime</th>\n",
       "      <th>time_step</th>\n",
       "      <th>visits_next_day</th>\n",
       "    </tr>\n",
       "  </thead>\n",
       "  <tbody>\n",
       "  </tbody>\n",
       "</table>\n",
       "</div>"
      ],
      "text/plain": [
       "Empty DataFrame\n",
       "Columns: [Page, Date, Visits, DateTime, time_step, visits_next_day]\n",
       "Index: []"
      ]
     },
     "execution_count": 232,
     "metadata": {},
     "output_type": "execute_result"
    }
   ],
   "source": [
    "train[train['Page']=='2NE1_zh.wikipedia.org_all-access_spider'].tail()"
   ]
  },
  {
   "cell_type": "markdown",
   "metadata": {},
   "source": [
    "Same with the validation dataframe"
   ]
  },
  {
   "cell_type": "code",
   "execution_count": 233,
   "metadata": {},
   "outputs": [],
   "source": [
    "valid['visits_next_day']=valid.groupby('Page')['Visits'].shift(-1)"
   ]
  },
  {
   "cell_type": "markdown",
   "metadata": {},
   "source": [
    "## Create Features:"
   ]
  },
  {
   "cell_type": "markdown",
   "metadata": {},
   "source": [
    "### Lagging feature:"
   ]
  },
  {
   "cell_type": "code",
   "execution_count": 234,
   "metadata": {},
   "outputs": [],
   "source": [
    "train['lag_1']=train.groupby('Page')['Visits'].shift(1)"
   ]
  },
  {
   "cell_type": "code",
   "execution_count": 235,
   "metadata": {},
   "outputs": [],
   "source": [
    "valid['lag_1']=valid.groupby('Page')['Visits'].shift(1)"
   ]
  },
  {
   "cell_type": "markdown",
   "metadata": {},
   "source": [
    "### Difference:"
   ]
  },
  {
   "cell_type": "code",
   "execution_count": 236,
   "metadata": {},
   "outputs": [],
   "source": [
    "train['diff_1']=train.groupby('Page')['Visits'].diff(1)\n",
    "valid['diff_1']=valid.groupby('Page')['Visits'].diff(1)"
   ]
  },
  {
   "cell_type": "code",
   "execution_count": 237,
   "metadata": {},
   "outputs": [
    {
     "data": {
      "text/html": [
       "<div>\n",
       "<style scoped>\n",
       "    .dataframe tbody tr th:only-of-type {\n",
       "        vertical-align: middle;\n",
       "    }\n",
       "\n",
       "    .dataframe tbody tr th {\n",
       "        vertical-align: top;\n",
       "    }\n",
       "\n",
       "    .dataframe thead th {\n",
       "        text-align: right;\n",
       "    }\n",
       "</style>\n",
       "<table border=\"1\" class=\"dataframe\">\n",
       "  <thead>\n",
       "    <tr style=\"text-align: right;\">\n",
       "      <th></th>\n",
       "      <th>Page</th>\n",
       "      <th>Date</th>\n",
       "      <th>Visits</th>\n",
       "      <th>DateTime</th>\n",
       "      <th>time_step</th>\n",
       "      <th>visits_next_day</th>\n",
       "      <th>lag_1</th>\n",
       "      <th>diff_1</th>\n",
       "    </tr>\n",
       "  </thead>\n",
       "  <tbody>\n",
       "  </tbody>\n",
       "</table>\n",
       "</div>"
      ],
      "text/plain": [
       "Empty DataFrame\n",
       "Columns: [Page, Date, Visits, DateTime, time_step, visits_next_day, lag_1, diff_1]\n",
       "Index: []"
      ]
     },
     "execution_count": 237,
     "metadata": {},
     "output_type": "execute_result"
    }
   ],
   "source": [
    "train[train['Page']=='2NE1_zh.wikipedia.org_all-access_spider'].tail()"
   ]
  },
  {
   "cell_type": "markdown",
   "metadata": {},
   "source": [
    "### Rolling Statistics:"
   ]
  },
  {
   "cell_type": "code",
   "execution_count": 238,
   "metadata": {},
   "outputs": [],
   "source": [
    "train['mean_visits_4']= train.groupby('Page')[\"Visits\"].rolling(4).mean().reset_index(level=0,drop=True)\n",
    "valid['mean_visits_4']= valid.groupby('Page')[\"Visits\"].rolling(4).mean().reset_index(level=0,drop=True)"
   ]
  },
  {
   "cell_type": "code",
   "execution_count": 239,
   "metadata": {},
   "outputs": [
    {
     "data": {
      "text/html": [
       "<div>\n",
       "<style scoped>\n",
       "    .dataframe tbody tr th:only-of-type {\n",
       "        vertical-align: middle;\n",
       "    }\n",
       "\n",
       "    .dataframe tbody tr th {\n",
       "        vertical-align: top;\n",
       "    }\n",
       "\n",
       "    .dataframe thead th {\n",
       "        text-align: right;\n",
       "    }\n",
       "</style>\n",
       "<table border=\"1\" class=\"dataframe\">\n",
       "  <thead>\n",
       "    <tr style=\"text-align: right;\">\n",
       "      <th></th>\n",
       "      <th>Page</th>\n",
       "      <th>Date</th>\n",
       "      <th>Visits</th>\n",
       "      <th>DateTime</th>\n",
       "      <th>time_step</th>\n",
       "      <th>visits_next_day</th>\n",
       "      <th>lag_1</th>\n",
       "      <th>diff_1</th>\n",
       "      <th>mean_visits_4</th>\n",
       "    </tr>\n",
       "  </thead>\n",
       "  <tbody>\n",
       "  </tbody>\n",
       "</table>\n",
       "</div>"
      ],
      "text/plain": [
       "Empty DataFrame\n",
       "Columns: [Page, Date, Visits, DateTime, time_step, visits_next_day, lag_1, diff_1, mean_visits_4]\n",
       "Index: []"
      ]
     },
     "execution_count": 239,
     "metadata": {},
     "output_type": "execute_result"
    }
   ],
   "source": [
    "train[train['Page']=='2NE1_zh.wikipedia.org_all-access_spider'].tail()"
   ]
  },
  {
   "cell_type": "markdown",
   "metadata": {},
   "source": [
    "### Date components: "
   ]
  },
  {
   "cell_type": "code",
   "execution_count": 240,
   "metadata": {},
   "outputs": [
    {
     "name": "stderr",
     "output_type": "stream",
     "text": [
      "/var/folders/ln/ryk6y70j7rg4321f6rt3hxx80000gn/T/ipykernel_58523/1421313403.py:3: FutureWarning: Series.dt.weekofyear and Series.dt.week have been deprecated. Please use Series.dt.isocalendar().week instead.\n",
      "  train['weekofyear']=train['DateTime'].dt.weekofyear\n"
     ]
    }
   ],
   "source": [
    "train['year']= train['DateTime'].dt.year\n",
    "train['month']= train[\"DateTime\"].dt.month\n",
    "train['weekofyear']=train['DateTime'].dt.weekofyear"
   ]
  },
  {
   "cell_type": "code",
   "execution_count": 241,
   "metadata": {},
   "outputs": [
    {
     "name": "stderr",
     "output_type": "stream",
     "text": [
      "/var/folders/ln/ryk6y70j7rg4321f6rt3hxx80000gn/T/ipykernel_58523/3015978931.py:3: FutureWarning: Series.dt.weekofyear and Series.dt.week have been deprecated. Please use Series.dt.isocalendar().week instead.\n",
      "  valid['weekofyear']=valid['DateTime'].dt.weekofyear\n"
     ]
    }
   ],
   "source": [
    "valid['year']= valid['DateTime'].dt.year\n",
    "valid['month']= valid[\"DateTime\"].dt.month\n",
    "valid['weekofyear']=valid['DateTime'].dt.weekofyear"
   ]
  },
  {
   "cell_type": "markdown",
   "metadata": {},
   "source": [
    "## Evaluation Metric:"
   ]
  },
  {
   "cell_type": "code",
   "execution_count": 242,
   "metadata": {},
   "outputs": [],
   "source": [
    "# SMAPE Metric\n",
    "def smape(actual, forecast):\n",
    "    result = 1/len(actual) * np.sum(2*np.abs(forecast-actual) / (np.abs(actual) + np.abs(forecast))*100)\n",
    "    return result"
   ]
  },
  {
   "cell_type": "markdown",
   "metadata": {},
   "source": [
    "## Baseline:"
   ]
  },
  {
   "cell_type": "markdown",
   "metadata": {},
   "source": [
    "### Naive Approach:\n",
    "Predict next day visits is going to be equal to be visits of today "
   ]
  },
  {
   "cell_type": "code",
   "execution_count": 243,
   "metadata": {},
   "outputs": [],
   "source": [
    "y_pred= train['Visits']\n",
    "y_true= train['visits_next_day']"
   ]
  },
  {
   "cell_type": "markdown",
   "metadata": {},
   "source": [
    "What is the baseline error for the 1-step prediction?"
   ]
  },
  {
   "cell_type": "code",
   "execution_count": 244,
   "metadata": {},
   "outputs": [
    {
     "data": {
      "text/plain": [
       "33.09825874335084"
      ]
     },
     "execution_count": 244,
     "metadata": {},
     "output_type": "execute_result"
    }
   ],
   "source": [
    "smape(y_true,y_pred)"
   ]
  },
  {
   "cell_type": "code",
   "execution_count": 245,
   "metadata": {},
   "outputs": [
    {
     "data": {
      "text/plain": [
       "32.29814783239781"
      ]
     },
     "execution_count": 245,
     "metadata": {},
     "output_type": "execute_result"
    }
   ],
   "source": [
    "y_pred= valid['Visits']\n",
    "y_valid= valid['visits_next_day']\n",
    "\n",
    "smape(y_valid,y_pred)"
   ]
  },
  {
   "cell_type": "markdown",
   "metadata": {},
   "source": [
    "### Train the model:"
   ]
  },
  {
   "cell_type": "code",
   "execution_count": 246,
   "metadata": {},
   "outputs": [
    {
     "data": {
      "text/html": [
       "<div>\n",
       "<style scoped>\n",
       "    .dataframe tbody tr th:only-of-type {\n",
       "        vertical-align: middle;\n",
       "    }\n",
       "\n",
       "    .dataframe tbody tr th {\n",
       "        vertical-align: top;\n",
       "    }\n",
       "\n",
       "    .dataframe thead th {\n",
       "        text-align: right;\n",
       "    }\n",
       "</style>\n",
       "<table border=\"1\" class=\"dataframe\">\n",
       "  <thead>\n",
       "    <tr style=\"text-align: right;\">\n",
       "      <th></th>\n",
       "      <th>Page</th>\n",
       "      <th>Date</th>\n",
       "      <th>Visits</th>\n",
       "      <th>DateTime</th>\n",
       "      <th>time_step</th>\n",
       "      <th>visits_next_day</th>\n",
       "      <th>lag_1</th>\n",
       "      <th>diff_1</th>\n",
       "      <th>mean_visits_4</th>\n",
       "      <th>year</th>\n",
       "      <th>month</th>\n",
       "      <th>weekofyear</th>\n",
       "    </tr>\n",
       "  </thead>\n",
       "  <tbody>\n",
       "    <tr>\n",
       "      <th>0</th>\n",
       "      <td>Luis_Suárez_en.wikipedia.org_all-access_all-ag...</td>\n",
       "      <td>2015-07-01</td>\n",
       "      <td>4261.0</td>\n",
       "      <td>2015-07-01</td>\n",
       "      <td>0</td>\n",
       "      <td>3872.0</td>\n",
       "      <td>NaN</td>\n",
       "      <td>NaN</td>\n",
       "      <td>NaN</td>\n",
       "      <td>2015</td>\n",
       "      <td>7</td>\n",
       "      <td>27</td>\n",
       "    </tr>\n",
       "    <tr>\n",
       "      <th>1</th>\n",
       "      <td>Фрейзер,_Джо_ru.wikipedia.org_all-access_all-a...</td>\n",
       "      <td>2015-07-01</td>\n",
       "      <td>291.0</td>\n",
       "      <td>2015-07-01</td>\n",
       "      <td>0</td>\n",
       "      <td>347.0</td>\n",
       "      <td>NaN</td>\n",
       "      <td>NaN</td>\n",
       "      <td>NaN</td>\n",
       "      <td>2015</td>\n",
       "      <td>7</td>\n",
       "      <td>27</td>\n",
       "    </tr>\n",
       "    <tr>\n",
       "      <th>2</th>\n",
       "      <td>Dr_House_fr.wikipedia.org_mobile-web_all-agents</td>\n",
       "      <td>2015-07-01</td>\n",
       "      <td>304.0</td>\n",
       "      <td>2015-07-01</td>\n",
       "      <td>0</td>\n",
       "      <td>264.0</td>\n",
       "      <td>NaN</td>\n",
       "      <td>NaN</td>\n",
       "      <td>NaN</td>\n",
       "      <td>2015</td>\n",
       "      <td>7</td>\n",
       "      <td>27</td>\n",
       "    </tr>\n",
       "    <tr>\n",
       "      <th>3</th>\n",
       "      <td>File:Penny_black.jpg_commons.wikimedia.org_mob...</td>\n",
       "      <td>2015-07-01</td>\n",
       "      <td>0.0</td>\n",
       "      <td>2015-07-01</td>\n",
       "      <td>0</td>\n",
       "      <td>1.0</td>\n",
       "      <td>NaN</td>\n",
       "      <td>NaN</td>\n",
       "      <td>NaN</td>\n",
       "      <td>2015</td>\n",
       "      <td>7</td>\n",
       "      <td>27</td>\n",
       "    </tr>\n",
       "    <tr>\n",
       "      <th>4</th>\n",
       "      <td>射鵰英雄傳_(2008年電視劇)_zh.wikipedia.org_mobile-web_a...</td>\n",
       "      <td>2015-07-01</td>\n",
       "      <td>121.0</td>\n",
       "      <td>2015-07-01</td>\n",
       "      <td>0</td>\n",
       "      <td>107.0</td>\n",
       "      <td>NaN</td>\n",
       "      <td>NaN</td>\n",
       "      <td>NaN</td>\n",
       "      <td>2015</td>\n",
       "      <td>7</td>\n",
       "      <td>27</td>\n",
       "    </tr>\n",
       "  </tbody>\n",
       "</table>\n",
       "</div>"
      ],
      "text/plain": [
       "                                                Page        Date  Visits  \\\n",
       "0  Luis_Suárez_en.wikipedia.org_all-access_all-ag...  2015-07-01  4261.0   \n",
       "1  Фрейзер,_Джо_ru.wikipedia.org_all-access_all-a...  2015-07-01   291.0   \n",
       "2    Dr_House_fr.wikipedia.org_mobile-web_all-agents  2015-07-01   304.0   \n",
       "3  File:Penny_black.jpg_commons.wikimedia.org_mob...  2015-07-01     0.0   \n",
       "4  射鵰英雄傳_(2008年電視劇)_zh.wikipedia.org_mobile-web_a...  2015-07-01   121.0   \n",
       "\n",
       "    DateTime  time_step  visits_next_day  lag_1  diff_1  mean_visits_4  year  \\\n",
       "0 2015-07-01          0           3872.0    NaN     NaN            NaN  2015   \n",
       "1 2015-07-01          0            347.0    NaN     NaN            NaN  2015   \n",
       "2 2015-07-01          0            264.0    NaN     NaN            NaN  2015   \n",
       "3 2015-07-01          0              1.0    NaN     NaN            NaN  2015   \n",
       "4 2015-07-01          0            107.0    NaN     NaN            NaN  2015   \n",
       "\n",
       "   month  weekofyear  \n",
       "0      7          27  \n",
       "1      7          27  \n",
       "2      7          27  \n",
       "3      7          27  \n",
       "4      7          27  "
      ]
     },
     "execution_count": 246,
     "metadata": {},
     "output_type": "execute_result"
    }
   ],
   "source": [
    "train.head()"
   ]
  },
  {
   "cell_type": "code",
   "execution_count": 247,
   "metadata": {},
   "outputs": [],
   "source": [
    "feats=['Visits','lag_1','diff_1','mean_visits_4', 'month','weekofyear']"
   ]
  },
  {
   "cell_type": "markdown",
   "metadata": {},
   "source": [
    "Basic imputation and preprocessing"
   ]
  },
  {
   "cell_type": "code",
   "execution_count": 248,
   "metadata": {},
   "outputs": [],
   "source": [
    "imputer= SimpleImputer()\n",
    "\n",
    "X_train= imputer.fit_transform(train[feats])\n",
    "y_train= train['visits_next_day']"
   ]
  },
  {
   "cell_type": "markdown",
   "metadata": {},
   "source": [
    "Let's train a basic model"
   ]
  },
  {
   "cell_type": "code",
   "execution_count": 249,
   "metadata": {},
   "outputs": [
    {
     "data": {
      "text/html": [
       "<style>#sk-container-id-3 {color: black;background-color: white;}#sk-container-id-3 pre{padding: 0;}#sk-container-id-3 div.sk-toggleable {background-color: white;}#sk-container-id-3 label.sk-toggleable__label {cursor: pointer;display: block;width: 100%;margin-bottom: 0;padding: 0.3em;box-sizing: border-box;text-align: center;}#sk-container-id-3 label.sk-toggleable__label-arrow:before {content: \"▸\";float: left;margin-right: 0.25em;color: #696969;}#sk-container-id-3 label.sk-toggleable__label-arrow:hover:before {color: black;}#sk-container-id-3 div.sk-estimator:hover label.sk-toggleable__label-arrow:before {color: black;}#sk-container-id-3 div.sk-toggleable__content {max-height: 0;max-width: 0;overflow: hidden;text-align: left;background-color: #f0f8ff;}#sk-container-id-3 div.sk-toggleable__content pre {margin: 0.2em;color: black;border-radius: 0.25em;background-color: #f0f8ff;}#sk-container-id-3 input.sk-toggleable__control:checked~div.sk-toggleable__content {max-height: 200px;max-width: 100%;overflow: auto;}#sk-container-id-3 input.sk-toggleable__control:checked~label.sk-toggleable__label-arrow:before {content: \"▾\";}#sk-container-id-3 div.sk-estimator input.sk-toggleable__control:checked~label.sk-toggleable__label {background-color: #d4ebff;}#sk-container-id-3 div.sk-label input.sk-toggleable__control:checked~label.sk-toggleable__label {background-color: #d4ebff;}#sk-container-id-3 input.sk-hidden--visually {border: 0;clip: rect(1px 1px 1px 1px);clip: rect(1px, 1px, 1px, 1px);height: 1px;margin: -1px;overflow: hidden;padding: 0;position: absolute;width: 1px;}#sk-container-id-3 div.sk-estimator {font-family: monospace;background-color: #f0f8ff;border: 1px dotted black;border-radius: 0.25em;box-sizing: border-box;margin-bottom: 0.5em;}#sk-container-id-3 div.sk-estimator:hover {background-color: #d4ebff;}#sk-container-id-3 div.sk-parallel-item::after {content: \"\";width: 100%;border-bottom: 1px solid gray;flex-grow: 1;}#sk-container-id-3 div.sk-label:hover label.sk-toggleable__label {background-color: #d4ebff;}#sk-container-id-3 div.sk-serial::before {content: \"\";position: absolute;border-left: 1px solid gray;box-sizing: border-box;top: 0;bottom: 0;left: 50%;z-index: 0;}#sk-container-id-3 div.sk-serial {display: flex;flex-direction: column;align-items: center;background-color: white;padding-right: 0.2em;padding-left: 0.2em;position: relative;}#sk-container-id-3 div.sk-item {position: relative;z-index: 1;}#sk-container-id-3 div.sk-parallel {display: flex;align-items: stretch;justify-content: center;background-color: white;position: relative;}#sk-container-id-3 div.sk-item::before, #sk-container-id-3 div.sk-parallel-item::before {content: \"\";position: absolute;border-left: 1px solid gray;box-sizing: border-box;top: 0;bottom: 0;left: 50%;z-index: -1;}#sk-container-id-3 div.sk-parallel-item {display: flex;flex-direction: column;z-index: 1;position: relative;background-color: white;}#sk-container-id-3 div.sk-parallel-item:first-child::after {align-self: flex-end;width: 50%;}#sk-container-id-3 div.sk-parallel-item:last-child::after {align-self: flex-start;width: 50%;}#sk-container-id-3 div.sk-parallel-item:only-child::after {width: 0;}#sk-container-id-3 div.sk-dashed-wrapped {border: 1px dashed gray;margin: 0 0.4em 0.5em 0.4em;box-sizing: border-box;padding-bottom: 0.4em;background-color: white;}#sk-container-id-3 div.sk-label label {font-family: monospace;font-weight: bold;display: inline-block;line-height: 1.2em;}#sk-container-id-3 div.sk-label-container {text-align: center;}#sk-container-id-3 div.sk-container {/* jupyter's `normalize.less` sets `[hidden] { display: none; }` but bootstrap.min.css set `[hidden] { display: none !important; }` so we also need the `!important` here to be able to override the default hidden behavior on the sphinx rendered scikit-learn.org. See: https://github.com/scikit-learn/scikit-learn/issues/21755 */display: inline-block !important;position: relative;}#sk-container-id-3 div.sk-text-repr-fallback {display: none;}</style><div id=\"sk-container-id-3\" class=\"sk-top-container\"><div class=\"sk-text-repr-fallback\"><pre>RandomForestRegressor()</pre><b>In a Jupyter environment, please rerun this cell to show the HTML representation or trust the notebook. <br />On GitHub, the HTML representation is unable to render, please try loading this page with nbviewer.org.</b></div><div class=\"sk-container\" hidden><div class=\"sk-item\"><div class=\"sk-estimator sk-toggleable\"><input class=\"sk-toggleable__control sk-hidden--visually\" id=\"sk-estimator-id-3\" type=\"checkbox\" checked><label for=\"sk-estimator-id-3\" class=\"sk-toggleable__label sk-toggleable__label-arrow\">RandomForestRegressor</label><div class=\"sk-toggleable__content\"><pre>RandomForestRegressor()</pre></div></div></div></div></div>"
      ],
      "text/plain": [
       "RandomForestRegressor()"
      ]
     },
     "execution_count": 249,
     "metadata": {},
     "output_type": "execute_result"
    }
   ],
   "source": [
    "model= RandomForestRegressor()\n",
    "model.fit(X_train, y_train)"
   ]
  },
  {
   "cell_type": "markdown",
   "metadata": {},
   "source": [
    "Check the performance"
   ]
  },
  {
   "cell_type": "code",
   "execution_count": 250,
   "metadata": {},
   "outputs": [],
   "source": [
    "X_valid= imputer.transform(valid[feats])\n",
    "y_valid= valid['visits_next_day']\n",
    "\n",
    "y_pred= model.predict(X_valid)"
   ]
  },
  {
   "cell_type": "code",
   "execution_count": 251,
   "metadata": {},
   "outputs": [
    {
     "data": {
      "text/plain": [
       "39.310121024861175"
      ]
     },
     "execution_count": 251,
     "metadata": {},
     "output_type": "execute_result"
    }
   ],
   "source": [
    "smape(y_valid, y_pred)"
   ]
  },
  {
   "cell_type": "code",
   "execution_count": 252,
   "metadata": {},
   "outputs": [],
   "source": [
    "def plot_predictions(actual, predicted, figsize= (15, 10) , title= \"Predictions Plot\"):\n",
    "    \n",
    "    plt.figure(figsize=figsize)\n",
    "    actual = plt.plot(actual, color='blue', label='Actual')\n",
    "    predicted = plt.plot(predicted, color='red', label='Predicted')\n",
    "    plt.title(title)\n",
    "    plt.legend()\n",
    "    plt.show()"
   ]
  },
  {
   "cell_type": "markdown",
   "metadata": {},
   "source": [
    "Can we plot the predictions?"
   ]
  },
  {
   "cell_type": "code",
   "execution_count": 253,
   "metadata": {},
   "outputs": [
    {
     "data": {
      "image/png": "[encoded data removed]",
      "text/plain": [
       "<Figure size 1500x1000 with 1 Axes>"
      ]
     },
     "metadata": {},
     "output_type": "display_data"
    }
   ],
   "source": [
    "plot_predictions(actual= y_valid.values, predicted= y_pred)"
   ]
  },
  {
   "cell_type": "markdown",
   "metadata": {},
   "source": [
    "## Creating 30-step target:"
   ]
  },
  {
   "cell_type": "code",
   "execution_count": 255,
   "metadata": {},
   "outputs": [],
   "source": [
    "# train shift by one months\n",
    "train['visits_next_month']=train.groupby('Page')['Visits'].shift(-30)\n",
    "train=train.dropna(subset=['visits_next_day','visits_next_month'])\n",
    "\n",
    "valid['visits_next_month']=valid.groupby('Page')['Visits'].shift(-30)"
   ]
  },
  {
   "cell_type": "markdown",
   "metadata": {},
   "source": [
    "Let's see the dataset "
   ]
  },
  {
   "cell_type": "code",
   "execution_count": 260,
   "metadata": {},
   "outputs": [
    {
     "data": {
      "text/html": [
       "<div>\n",
       "<style scoped>\n",
       "    .dataframe tbody tr th:only-of-type {\n",
       "        vertical-align: middle;\n",
       "    }\n",
       "\n",
       "    .dataframe tbody tr th {\n",
       "        vertical-align: top;\n",
       "    }\n",
       "\n",
       "    .dataframe thead th {\n",
       "        text-align: right;\n",
       "    }\n",
       "</style>\n",
       "<table border=\"1\" class=\"dataframe\">\n",
       "  <thead>\n",
       "    <tr style=\"text-align: right;\">\n",
       "      <th></th>\n",
       "      <th>Page</th>\n",
       "      <th>Date</th>\n",
       "      <th>Visits</th>\n",
       "      <th>DateTime</th>\n",
       "      <th>time_step</th>\n",
       "      <th>visits_next_day</th>\n",
       "      <th>lag_1</th>\n",
       "      <th>diff_1</th>\n",
       "      <th>mean_visits_4</th>\n",
       "      <th>year</th>\n",
       "      <th>month</th>\n",
       "      <th>weekofyear</th>\n",
       "      <th>visits_next_month</th>\n",
       "    </tr>\n",
       "  </thead>\n",
       "  <tbody>\n",
       "    <tr>\n",
       "      <th>227497</th>\n",
       "      <td>Boy_George_en.wikipedia.org_mobile-web_all-agents</td>\n",
       "      <td>2016-09-27</td>\n",
       "      <td>1256.0</td>\n",
       "      <td>2016-09-27</td>\n",
       "      <td>454</td>\n",
       "      <td>1105.0</td>\n",
       "      <td>3197.0</td>\n",
       "      <td>-1941.0</td>\n",
       "      <td>1808.5</td>\n",
       "      <td>2016</td>\n",
       "      <td>9</td>\n",
       "      <td>39</td>\n",
       "      <td>1963.0</td>\n",
       "    </tr>\n",
       "    <tr>\n",
       "      <th>227997</th>\n",
       "      <td>Boy_George_en.wikipedia.org_mobile-web_all-agents</td>\n",
       "      <td>2016-09-28</td>\n",
       "      <td>1105.0</td>\n",
       "      <td>2016-09-28</td>\n",
       "      <td>455</td>\n",
       "      <td>1144.0</td>\n",
       "      <td>1256.0</td>\n",
       "      <td>-151.0</td>\n",
       "      <td>1711.0</td>\n",
       "      <td>2016</td>\n",
       "      <td>9</td>\n",
       "      <td>39</td>\n",
       "      <td>1896.0</td>\n",
       "    </tr>\n",
       "    <tr>\n",
       "      <th>228497</th>\n",
       "      <td>Boy_George_en.wikipedia.org_mobile-web_all-agents</td>\n",
       "      <td>2016-09-29</td>\n",
       "      <td>1144.0</td>\n",
       "      <td>2016-09-29</td>\n",
       "      <td>456</td>\n",
       "      <td>1171.0</td>\n",
       "      <td>1105.0</td>\n",
       "      <td>39.0</td>\n",
       "      <td>1675.5</td>\n",
       "      <td>2016</td>\n",
       "      <td>9</td>\n",
       "      <td>39</td>\n",
       "      <td>2276.0</td>\n",
       "    </tr>\n",
       "    <tr>\n",
       "      <th>228997</th>\n",
       "      <td>Boy_George_en.wikipedia.org_mobile-web_all-agents</td>\n",
       "      <td>2016-09-30</td>\n",
       "      <td>1171.0</td>\n",
       "      <td>2016-09-30</td>\n",
       "      <td>457</td>\n",
       "      <td>1250.0</td>\n",
       "      <td>1144.0</td>\n",
       "      <td>27.0</td>\n",
       "      <td>1169.0</td>\n",
       "      <td>2016</td>\n",
       "      <td>9</td>\n",
       "      <td>39</td>\n",
       "      <td>2560.0</td>\n",
       "    </tr>\n",
       "    <tr>\n",
       "      <th>229497</th>\n",
       "      <td>Boy_George_en.wikipedia.org_mobile-web_all-agents</td>\n",
       "      <td>2016-10-01</td>\n",
       "      <td>1250.0</td>\n",
       "      <td>2016-10-01</td>\n",
       "      <td>458</td>\n",
       "      <td>1327.0</td>\n",
       "      <td>1171.0</td>\n",
       "      <td>79.0</td>\n",
       "      <td>1167.5</td>\n",
       "      <td>2016</td>\n",
       "      <td>10</td>\n",
       "      <td>39</td>\n",
       "      <td>1882.0</td>\n",
       "    </tr>\n",
       "  </tbody>\n",
       "</table>\n",
       "</div>"
      ],
      "text/plain": [
       "                                                     Page        Date  Visits  \\\n",
       "227497  Boy_George_en.wikipedia.org_mobile-web_all-agents  2016-09-27  1256.0   \n",
       "227997  Boy_George_en.wikipedia.org_mobile-web_all-agents  2016-09-28  1105.0   \n",
       "228497  Boy_George_en.wikipedia.org_mobile-web_all-agents  2016-09-29  1144.0   \n",
       "228997  Boy_George_en.wikipedia.org_mobile-web_all-agents  2016-09-30  1171.0   \n",
       "229497  Boy_George_en.wikipedia.org_mobile-web_all-agents  2016-10-01  1250.0   \n",
       "\n",
       "         DateTime  time_step  visits_next_day   lag_1  diff_1  mean_visits_4  \\\n",
       "227497 2016-09-27        454           1105.0  3197.0 -1941.0         1808.5   \n",
       "227997 2016-09-28        455           1144.0  1256.0  -151.0         1711.0   \n",
       "228497 2016-09-29        456           1171.0  1105.0    39.0         1675.5   \n",
       "228997 2016-09-30        457           1250.0  1144.0    27.0         1169.0   \n",
       "229497 2016-10-01        458           1327.0  1171.0    79.0         1167.5   \n",
       "\n",
       "        year  month  weekofyear  visits_next_month  \n",
       "227497  2016      9          39             1963.0  \n",
       "227997  2016      9          39             1896.0  \n",
       "228497  2016      9          39             2276.0  \n",
       "228997  2016      9          39             2560.0  \n",
       "229497  2016     10          39             1882.0  "
      ]
     },
     "execution_count": 260,
     "metadata": {},
     "output_type": "execute_result"
    }
   ],
   "source": [
    "train[train['Page']=='Boy_George_en.wikipedia.org_mobile-web_all-agents'].tail(5)"
   ]
  },
  {
   "cell_type": "markdown",
   "metadata": {},
   "source": [
    "Create the model"
   ]
  },
  {
   "cell_type": "code",
   "execution_count": 263,
   "metadata": {},
   "outputs": [],
   "source": [
    "imputer= SimpleImputer()\n",
    "\n",
    "X_train= imputer.fit_transform(train[feats])\n",
    "y_train= train[['visits_next_day','visits_next_month']]"
   ]
  },
  {
   "cell_type": "code",
   "execution_count": 264,
   "metadata": {},
   "outputs": [
    {
     "data": {
      "text/html": [
       "<style>#sk-container-id-4 {color: black;background-color: white;}#sk-container-id-4 pre{padding: 0;}#sk-container-id-4 div.sk-toggleable {background-color: white;}#sk-container-id-4 label.sk-toggleable__label {cursor: pointer;display: block;width: 100%;margin-bottom: 0;padding: 0.3em;box-sizing: border-box;text-align: center;}#sk-container-id-4 label.sk-toggleable__label-arrow:before {content: \"▸\";float: left;margin-right: 0.25em;color: #696969;}#sk-container-id-4 label.sk-toggleable__label-arrow:hover:before {color: black;}#sk-container-id-4 div.sk-estimator:hover label.sk-toggleable__label-arrow:before {color: black;}#sk-container-id-4 div.sk-toggleable__content {max-height: 0;max-width: 0;overflow: hidden;text-align: left;background-color: #f0f8ff;}#sk-container-id-4 div.sk-toggleable__content pre {margin: 0.2em;color: black;border-radius: 0.25em;background-color: #f0f8ff;}#sk-container-id-4 input.sk-toggleable__control:checked~div.sk-toggleable__content {max-height: 200px;max-width: 100%;overflow: auto;}#sk-container-id-4 input.sk-toggleable__control:checked~label.sk-toggleable__label-arrow:before {content: \"▾\";}#sk-container-id-4 div.sk-estimator input.sk-toggleable__control:checked~label.sk-toggleable__label {background-color: #d4ebff;}#sk-container-id-4 div.sk-label input.sk-toggleable__control:checked~label.sk-toggleable__label {background-color: #d4ebff;}#sk-container-id-4 input.sk-hidden--visually {border: 0;clip: rect(1px 1px 1px 1px);clip: rect(1px, 1px, 1px, 1px);height: 1px;margin: -1px;overflow: hidden;padding: 0;position: absolute;width: 1px;}#sk-container-id-4 div.sk-estimator {font-family: monospace;background-color: #f0f8ff;border: 1px dotted black;border-radius: 0.25em;box-sizing: border-box;margin-bottom: 0.5em;}#sk-container-id-4 div.sk-estimator:hover {background-color: #d4ebff;}#sk-container-id-4 div.sk-parallel-item::after {content: \"\";width: 100%;border-bottom: 1px solid gray;flex-grow: 1;}#sk-container-id-4 div.sk-label:hover label.sk-toggleable__label {background-color: #d4ebff;}#sk-container-id-4 div.sk-serial::before {content: \"\";position: absolute;border-left: 1px solid gray;box-sizing: border-box;top: 0;bottom: 0;left: 50%;z-index: 0;}#sk-container-id-4 div.sk-serial {display: flex;flex-direction: column;align-items: center;background-color: white;padding-right: 0.2em;padding-left: 0.2em;position: relative;}#sk-container-id-4 div.sk-item {position: relative;z-index: 1;}#sk-container-id-4 div.sk-parallel {display: flex;align-items: stretch;justify-content: center;background-color: white;position: relative;}#sk-container-id-4 div.sk-item::before, #sk-container-id-4 div.sk-parallel-item::before {content: \"\";position: absolute;border-left: 1px solid gray;box-sizing: border-box;top: 0;bottom: 0;left: 50%;z-index: -1;}#sk-container-id-4 div.sk-parallel-item {display: flex;flex-direction: column;z-index: 1;position: relative;background-color: white;}#sk-container-id-4 div.sk-parallel-item:first-child::after {align-self: flex-end;width: 50%;}#sk-container-id-4 div.sk-parallel-item:last-child::after {align-self: flex-start;width: 50%;}#sk-container-id-4 div.sk-parallel-item:only-child::after {width: 0;}#sk-container-id-4 div.sk-dashed-wrapped {border: 1px dashed gray;margin: 0 0.4em 0.5em 0.4em;box-sizing: border-box;padding-bottom: 0.4em;background-color: white;}#sk-container-id-4 div.sk-label label {font-family: monospace;font-weight: bold;display: inline-block;line-height: 1.2em;}#sk-container-id-4 div.sk-label-container {text-align: center;}#sk-container-id-4 div.sk-container {/* jupyter's `normalize.less` sets `[hidden] { display: none; }` but bootstrap.min.css set `[hidden] { display: none !important; }` so we also need the `!important` here to be able to override the default hidden behavior on the sphinx rendered scikit-learn.org. See: https://github.com/scikit-learn/scikit-learn/issues/21755 */display: inline-block !important;position: relative;}#sk-container-id-4 div.sk-text-repr-fallback {display: none;}</style><div id=\"sk-container-id-4\" class=\"sk-top-container\"><div class=\"sk-text-repr-fallback\"><pre>RandomForestRegressor()</pre><b>In a Jupyter environment, please rerun this cell to show the HTML representation or trust the notebook. <br />On GitHub, the HTML representation is unable to render, please try loading this page with nbviewer.org.</b></div><div class=\"sk-container\" hidden><div class=\"sk-item\"><div class=\"sk-estimator sk-toggleable\"><input class=\"sk-toggleable__control sk-hidden--visually\" id=\"sk-estimator-id-4\" type=\"checkbox\" checked><label for=\"sk-estimator-id-4\" class=\"sk-toggleable__label sk-toggleable__label-arrow\">RandomForestRegressor</label><div class=\"sk-toggleable__content\"><pre>RandomForestRegressor()</pre></div></div></div></div></div>"
      ],
      "text/plain": [
       "RandomForestRegressor()"
      ]
     },
     "execution_count": 264,
     "metadata": {},
     "output_type": "execute_result"
    }
   ],
   "source": [
    "model= RandomForestRegressor()\n",
    "model.fit(X_train, y_train)"
   ]
  },
  {
   "cell_type": "markdown",
   "metadata": {},
   "source": [
    "Check the performance"
   ]
  },
  {
   "cell_type": "code",
   "execution_count": 265,
   "metadata": {},
   "outputs": [],
   "source": [
    "X_valid= imputer.transform(valid[feats])\n",
    "y_valid= valid[['visits_next_day','visits_next_month']]\n",
    "\n",
    "y_pred= model.predict(X_valid)"
   ]
  },
  {
   "cell_type": "code",
   "execution_count": 266,
   "metadata": {},
   "outputs": [
    {
     "data": {
      "text/plain": [
       "visits_next_day      38.273897\n",
       "visits_next_month    35.879851\n",
       "dtype: float64"
      ]
     },
     "execution_count": 266,
     "metadata": {},
     "output_type": "execute_result"
    }
   ],
   "source": [
    "smape(y_valid, y_pred)"
   ]
  },
  {
   "cell_type": "markdown",
   "metadata": {},
   "source": [
    "Plot the predictions:"
   ]
  },
  {
   "cell_type": "code",
   "execution_count": 275,
   "metadata": {},
   "outputs": [
    {
     "data": {
      "image/png": "[encoded data removed]",
      "text/plain": [
       "<Figure size 1500x1000 with 1 Axes>"
      ]
     },
     "metadata": {},
     "output_type": "display_data"
    }
   ],
   "source": [
    "plot_predictions(actual= y_valid.values[:,1][:50], predicted= y_pred[:,1][:50])"
   ]
  }
 ],
 "metadata": {
  "kernelspec": {
   "display_name": "Python 3.10.13 ('aaamlp')",
   "language": "python",
   "name": "python3"
  },
  "language_info": {
   "codemirror_mode": {
    "name": "ipython",
    "version": 3
   },
   "file_extension": ".py",
   "mimetype": "text/x-python",
   "name": "python",
   "nbconvert_exporter": "python",
   "pygments_lexer": "ipython3",
   "version": "3.10.13"
  },
  "orig_nbformat": 4,
  "vscode": {
   "interpreter": {
    "hash": "7b4fa02d624aa14302a2bf27bb61987085528b0f3e94a588c971b4bff4158fe7"
   }
  }
 },
 "nbformat": 4,
 "nbformat_minor": 2
}
